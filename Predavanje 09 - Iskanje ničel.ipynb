{
 "cells": [
  {
   "cell_type": "markdown",
   "metadata": {},
   "source": [
    "Okt 2015\n",
    "<img width=300 src=\"./fig/ladisk.png\">\n",
    "\n",
    "<center>[izr.prof. dr. Janko Slavič](http://www.ladisk.si/~slavic)</center>\n",
    "\n",
    "\n",
    "<center>[Repozitorij pypinm](http://github.com/jankoslavic/pypinm)</center>"
   ]
  },
  {
   "cell_type": "code",
   "execution_count": 1,
   "metadata": {
    "collapsed": false
   },
   "outputs": [],
   "source": [
    "import numpy as np\n",
    "import matplotlib.pyplot as plt\n",
    "%matplotlib inline\n",
    "\n",
    "from sympy import *\n",
    "init_printing()"
   ]
  },
  {
   "cell_type": "markdown",
   "metadata": {},
   "source": [
    "# Iskanje ničel"
   ]
  },
  {
   "cell_type": "markdown",
   "metadata": {},
   "source": [
    "V okviru iskanja ničel obravnavamo funkcijo $f$, ki je odvisna od spremenljivke $x$ in iščemo rešitev:\n",
    "$$f(x)=0.$$"
   ]
  },
  {
   "cell_type": "markdown",
   "metadata": {},
   "source": [
    "Rešitvam rečemo tudi *ničle* (ang. *roots*). "
   ]
  },
  {
   "cell_type": "markdown",
   "metadata": {},
   "source": [
    "### Število ničel"
   ]
  },
  {
   "cell_type": "markdown",
   "metadata": {},
   "source": [
    "Ničle lahko ne obstajajo, lahko je ena, lahko jih je več. Kot primer si poglejmo:\n",
    "$$\\sin(x) - 20 = 0$$\n",
    "nima rešitve, nadalje:\n",
    "$$x - 20 = 0$$\n",
    "ima eno rešitev ($x=20$) in:\n",
    "$$\\sin(x) = 0$$\n",
    "ima neskončno monogo rešitev ($x=i\\,\\pi$, $i=\\dots, 2, 1, 0,1,2,\\dots$)."
   ]
  },
  {
   "cell_type": "markdown",
   "metadata": {},
   "source": [
    "### Pogoji funkcije $f$"
   ]
  },
  {
   "cell_type": "markdown",
   "metadata": {},
   "source": [
    "Najprej bomo za funkcijo $f$ zahtevali samo pogoj, da na podanem zaprtem intervalu $[x_1, x_2]$ za poljubno vrednost $x$ vrne neko vrednost $f(x)$, pozneje bomo za funkcijo zahtevali tudi zveznost in odvod."
   ]
  },
  {
   "cell_type": "markdown",
   "metadata": {},
   "source": [
    "## Inkrementalno reševanje"
   ]
  },
  {
   "cell_type": "markdown",
   "metadata": {},
   "source": [
    "Definirajmo najprej primer funkcije:"
   ]
  },
  {
   "cell_type": "code",
   "execution_count": 2,
   "metadata": {
    "collapsed": false
   },
   "outputs": [],
   "source": [
    "def f(x):\n",
    "    return x**3 - 10*x**2 + 5"
   ]
  },
  {
   "cell_type": "markdown",
   "metadata": {},
   "source": [
    "Za določitev ničel, je zelo priporočeno funkcijo narisati (to sicer ni najbolj uporabno):"
   ]
  },
  {
   "cell_type": "markdown",
   "metadata": {},
   "source": [
    "Opazimo, da je ničla nekje blizu $x = 0.7$."
   ]
  },
  {
   "cell_type": "markdown",
   "metadata": {},
   "source": [
    "Inkrementalno reševanje temelji na ideji, da če imata $f(x_1)$ in $f(x_2)$ različne predznake, potem je vmes verjetno vsaj ena ničla. Zaprti interval $[x_1, x_2]$ razdelimo torej na odseke širine $\\Delta x$; na odseku, kjer opazimo spremembo predznaka, je verjetno ničla.\n",
    "\n",
    "Inkrementalna metoda ima nekatere slabosti:\n",
    "* relativno počasna,\n",
    "* mogoče je zgrešiti dve ničli, ki sta zelo blizu,\n",
    "* dve istoležeči ničli ne bosta zaznani,\n",
    "* poli funkcij so lahko napačno karakterizirani kot ničle\\*\n",
    "\n",
    "\\* Poli pri $f(x)=\\tan(x)$ bi bili napačno karakterizirani kot ničle; glejte sliko spodaj."
   ]
  },
  {
   "cell_type": "code",
   "execution_count": 3,
   "metadata": {
    "collapsed": false
   },
   "outputs": [
    {
     "data": {
      "image/png": "[encoded data removed]",
      "text/plain": [
       "<matplotlib.figure.Figure at 0x9319908>"
      ]
     },
     "metadata": {},
     "output_type": "display_data"
    }
   ],
   "source": [
    "x_p = np.pi*np.linspace(-1, 1, 100)\n",
    "plt.plot(x_p, np.tan(x_p));\n",
    "plt.ylim(-10, 10);"
   ]
  },
  {
   "cell_type": "markdown",
   "metadata": {},
   "source": [
    "Inkrementalna metoda spada med t.i. *zaprte* metode (ang. *bracketed*) saj išče ničlo samo na intervalu od $[x_1, x_2]$. Pozneje bomo spoznali tudi *odprte* metode, ki lahko konvergirajo k ničli zunaj podanega intervala."
   ]
  },
  {
   "cell_type": "markdown",
   "metadata": {},
   "source": [
    "### Numerična implementacija"
   ]
  },
  {
   "cell_type": "markdown",
   "metadata": {},
   "source": [
    "Poglejmo si sedaj inkrementalno iskanje ničel:"
   ]
  },
  {
   "cell_type": "code",
   "execution_count": 4,
   "metadata": {
    "collapsed": false
   },
   "outputs": [],
   "source": [
    "def inkrementalna(fun, x1, x2, dx):\n",
    "    \"\"\" Vrne interval (x1, x2) kjer verjetno leži ničla\n",
    "    \n",
    "    :param fun: funkcija katere ničle iščemo\n",
    "    :param x1:  spodnja meja iskanja\n",
    "    :param x2:  zgornja meja iskanja\n",
    "    :param dx:  inkrement iskanja\n",
    "    \"\"\"\n",
    "    x_d = np.arange(x1, x2, dx) # pripravimo x vrednosti\n",
    "    f_d = np.sign(f(x_d))       # pripravimo predznake funkcije\n",
    "    f_d = f_d[1:]-f_d[:-1]      # vektorsko odštejemo\n",
    "    i = np.argmin(f_d)          # prvi prehod skozi ničlo\n",
    "    return np.asarray([x_d[i], x_d[i+1]])"
   ]
  },
  {
   "cell_type": "code",
   "execution_count": 5,
   "metadata": {
    "collapsed": false
   },
   "outputs": [
    {
     "data": {
      "text/plain": [
       "array([ 0.734,  0.735])"
      ]
     },
     "execution_count": 5,
     "metadata": {},
     "output_type": "execute_result"
    }
   ],
   "source": [
    "rez = inkrementalna(f, 0, 1., 0.001)\n",
    "rez"
   ]
  },
  {
   "cell_type": "code",
   "execution_count": 6,
   "metadata": {
    "collapsed": false
   },
   "outputs": [
    {
     "data": {
      "image/png": "[encoded data removed]",
      "text/plain": [
       "<matplotlib.figure.Figure at 0x93d5a20>"
      ]
     },
     "metadata": {},
     "output_type": "display_data"
    }
   ],
   "source": [
    "x_r = np.linspace(0, 1, 50)\n",
    "plt.plot(x_r, f(x_r))\n",
    "plt.plot(rez, f(rez), 'ro')\n",
    "plt.xlim(rez)\n",
    "plt.ylim(-0.001, 0.001);"
   ]
  },
  {
   "cell_type": "markdown",
   "metadata": {},
   "source": [
    "Da smo torej na intervalu $[0, 1]$ zgoraj našli rezultat z natančnostjo $\\Delta x=0.001$, smo morali 1000 krat klicati funkcijo $f(x)$. Za podobno natančnost lahko z malenkost bolj premišljenim pristopom bistveno zmanjšamo število klicev:"
   ]
  },
  {
   "cell_type": "code",
   "execution_count": 7,
   "metadata": {
    "collapsed": false
   },
   "outputs": [],
   "source": [
    "def inkrementalna_super(fun, x1, x2, iteracij=3):\n",
    "    \"\"\" Vrne interval (x1, x2) kjer verjetno leži ničla\n",
    "    \n",
    "    :param fun: funkcija katere ničle iščemo\n",
    "    :param x1:  spodnja meja iskanja\n",
    "    :param x2:  zgornja meja iskanja\n",
    "    :iteraci:   število iteracij inkrementalne metode\n",
    "    \"\"\"\n",
    "    for i in range(iteracij):\n",
    "        dx = (x2 - x1)/10\n",
    "        x1, x2 = inkrementalna(fun, x1, x2, dx)\n",
    "    return np.asarray([x1, x2])"
   ]
  },
  {
   "cell_type": "markdown",
   "metadata": {},
   "source": [
    "V 30 iteracijah tako dobimo podobno natančnost kakor prej v 1000:"
   ]
  },
  {
   "cell_type": "code",
   "execution_count": 8,
   "metadata": {
    "collapsed": false
   },
   "outputs": [
    {
     "data": {
      "text/plain": [
       "array([ 0.734,  0.735])"
      ]
     },
     "execution_count": 8,
     "metadata": {},
     "output_type": "execute_result"
    }
   ],
   "source": [
    "rez30 = inkrementalna_super(f, 0., 1.)\n",
    "rez30"
   ]
  },
  {
   "cell_type": "code",
   "execution_count": 9,
   "metadata": {
    "collapsed": false
   },
   "outputs": [
    {
     "data": {
      "text/plain": [
       "array([ 0.734,  0.735])"
      ]
     },
     "execution_count": 9,
     "metadata": {},
     "output_type": "execute_result"
    }
   ],
   "source": [
    "rez"
   ]
  },
  {
   "cell_type": "markdown",
   "metadata": {},
   "source": [
    "Seveda pa lahko natančnost bistveno izboljšamo; npr. z 80 iteracijami:"
   ]
  },
  {
   "cell_type": "code",
   "execution_count": 10,
   "metadata": {
    "collapsed": false
   },
   "outputs": [
    {
     "data": {
      "text/plain": [
       "array([ 0.7346035 ,  0.73460351])"
      ]
     },
     "execution_count": 10,
     "metadata": {},
     "output_type": "execute_result"
    }
   ],
   "source": [
    "rez80 = inkrementalna_super(f, 0., 1., iteracij=8)\n",
    "rez80"
   ]
  },
  {
   "cell_type": "markdown",
   "metadata": {},
   "source": [
    "## Bisekcijska metoda"
   ]
  },
  {
   "cell_type": "markdown",
   "metadata": {},
   "source": [
    "Na intervalu $[x_1, x_2]$ kjer vemo, da obstaja ničla (predznaka $f(x_1)$ in $f(x_2)$ se razlikujeta) lahko uporabimo različne metode določitve ničle. Ena od bolj preprostih je *bisekcijska metoda*; osnovna ideja je relativno enostavna:\n",
    "* interval $[x_1, x_2]$ razdelimo na pol: $x_3 = (x_1+x_2)/2$,\n",
    "* če imata $f(x_1)$ in $f(x_3)$ različne predznake, potem vemo, da je novi interval ničle $[x_1, x_3]$, sicer pa: $[x_3, x_2]$,\n",
    "* z iterativnim postopkom nadaljujemo, dokler ne dosežemo željene natančnosti $\\varepsilon=|x_2-x_1|$.\n",
    "\n",
    "Bisekcijska metoda spada med *zaprte* metode, ki vrne ničlo na podanem intervalu $[x_1, x_2]$ (seveda morata biti predznaka $f(x_1)$ in $f(x_2)$ različna."
   ]
  },
  {
   "cell_type": "markdown",
   "metadata": {},
   "source": [
    "#### Konvergenca"
   ]
  },
  {
   "cell_type": "markdown",
   "metadata": {},
   "source": [
    "Če v začetku začnemo z intervalom $\\Delta x = |x_2-x_1|$, potem je natančnost bisekcijske metode po prvem koraku bisekcije $\\varepsilon = \\Delta x/2$, po drugem koraku: $\\varepsilon = \\Delta x/2^2$ in po $n$ korakih $\\varepsilon = \\Delta x/2^n$. \n",
    "\n",
    "Ponavadi imamo zahtevo po končni natančnosti $\\varepsilon$ in iz zgornje enačbe lahko izpeljemo števolo potrebnih korakov:\n",
    "$$n = \\frac{\\ln\\left(\\frac{\\Delta x}{\\varepsilon}\\right)}{\\ln(2)}.$$\n",
    "Seveda je število korakov na koncu celo število."
   ]
  },
  {
   "cell_type": "markdown",
   "metadata": {},
   "source": [
    "### Numerična implementacija"
   ]
  },
  {
   "cell_type": "code",
   "execution_count": 11,
   "metadata": {
    "collapsed": false
   },
   "outputs": [],
   "source": [
    "def bisekcija(fun, x1, x2, tol=1e-3, izpis=True):\n",
    "    \"\"\" Vrne ničlo z natančnostjo tol\n",
    "    \n",
    "    :param fun: funkcija katere ničle iščemo\n",
    "    :param x1:  spodnja meja iskanja\n",
    "    :param x2:  zgornja meja iskanja\n",
    "    :param tol: zahtevana natančnost\n",
    "    :izpis:     ali na koncu izpiše kratko poročilo\n",
    "    \"\"\"\n",
    "    n = np.ceil( np.log(np.abs(x2-x1)/tol)/np.log(2) ).astype(int) # števil iteracij\n",
    "    for i in range(n):\n",
    "        x3 = (x1 + x2) / 2\n",
    "        if np.sign(fun(x3))!=np.sign(fun(x1)):\n",
    "            x2 = x3\n",
    "        else:\n",
    "            x1 = x3\n",
    "    if izpis:\n",
    "        print('Število iteracij: {:g}'.format(n))\n",
    "    return (x1+x2)/2"
   ]
  },
  {
   "cell_type": "code",
   "execution_count": 12,
   "metadata": {
    "collapsed": false
   },
   "outputs": [
    {
     "name": "stdout",
     "output_type": "stream",
     "text": [
      "Število iteracij: 10\n"
     ]
    },
    {
     "data": {
      "image/png": "[encoded data removed]",
      "text/latex": [
       "$$0.73486328125$$"
      ],
      "text/plain": [
       "0.73486328125"
      ]
     },
     "execution_count": 12,
     "metadata": {},
     "output_type": "execute_result"
    }
   ],
   "source": [
    "bisekcija(f, 0, 1, tol=1e-3)"
   ]
  },
  {
   "cell_type": "code",
   "execution_count": 13,
   "metadata": {
    "collapsed": false
   },
   "outputs": [
    {
     "data": {
      "text/plain": [
       "array([ 0.734,  0.735])"
      ]
     },
     "execution_count": 13,
     "metadata": {},
     "output_type": "execute_result"
    }
   ],
   "source": [
    "rez30"
   ]
  },
  {
   "cell_type": "markdown",
   "metadata": {},
   "source": [
    "Dodamo lahko še nekaj kontrole napak:"
   ]
  },
  {
   "cell_type": "code",
   "execution_count": 14,
   "metadata": {
    "collapsed": false
   },
   "outputs": [],
   "source": [
    "def bisekcija(fun, x1, x2, tol=1e-3, izpis=True):\n",
    "    \"\"\" Vrne ničlo z natančnostjo tol\n",
    "    \n",
    "    :param fun: funkcija katere ničle iščemo\n",
    "    :param x1:  spodnja meja iskanja\n",
    "    :param x2:  zgornja meja iskanja\n",
    "    :param tol: zahtevana natančnost\n",
    "    :izpis:     ali na koncu izpiše kratko poročilo\n",
    "    \"\"\"\n",
    "    if np.sign(fun(x1))==np.sign(fun(x2)):\n",
    "        raise Exception('Ničla ni izolirana. Root is not bracketed.')\n",
    "    n = np.ceil( np.log(np.abs(x2-x1)/tol)/np.log(2) ).astype(int) # števil iteracij\n",
    "    for i in range(n):\n",
    "        x3 = (x1 + x2) / 2\n",
    "        f1 = fun(x1)\n",
    "        f3 = fun(x3)\n",
    "        f2 = fun(x2)\n",
    "        if np.abs(f3) > np.abs(f1) and np.abs(f3) > np.abs(f2):\n",
    "            raise Exception('Bisekcija ne konvergira, verjetnost pola.')\n",
    "        if np.sign(fun(x3))!=np.sign(fun(x1)):\n",
    "            x2 = x3\n",
    "        else:\n",
    "            x1 = x3\n",
    "    if izpis:\n",
    "        print('Število iteracij: {:g}'.format(n))\n",
    "    return (x1+x2)/2"
   ]
  },
  {
   "cell_type": "code",
   "execution_count": 15,
   "metadata": {
    "collapsed": false
   },
   "outputs": [
    {
     "name": "stdout",
     "output_type": "stream",
     "text": [
      "10000 loops, best of 3: 84.3 µs per loop\n"
     ]
    }
   ],
   "source": [
    "%%timeit\n",
    "bisekcija(f, 0., 1., izpis=False)"
   ]
  },
  {
   "cell_type": "code",
   "execution_count": 16,
   "metadata": {
    "collapsed": false
   },
   "outputs": [
    {
     "name": "stdout",
     "output_type": "stream",
     "text": [
      "Število iteracij: 10\n"
     ]
    },
    {
     "data": {
      "image/png": "[encoded data removed]",
      "text/latex": [
       "$$0.73486328125$$"
      ],
      "text/plain": [
       "0.73486328125"
      ]
     },
     "execution_count": 16,
     "metadata": {},
     "output_type": "execute_result"
    }
   ],
   "source": [
    "bisekcija(f, 0., 1., izpis=True)"
   ]
  },
  {
   "cell_type": "markdown",
   "metadata": {},
   "source": [
    "Poglejmo sedaj iskanje ničel funkcije ``tan``:"
   ]
  },
  {
   "cell_type": "code",
   "execution_count": 17,
   "metadata": {
    "collapsed": false
   },
   "outputs": [
    {
     "data": {
      "image/png": "[encoded data removed]",
      "text/plain": [
       "<matplotlib.figure.Figure at 0xae8b4e0>"
      ]
     },
     "metadata": {},
     "output_type": "display_data"
    }
   ],
   "source": [
    "x_p = np.linspace(-1, 3, 100)\n",
    "plt.plot(x_p, np.tan(x_p));\n",
    "plt.ylim(-10, 10);"
   ]
  },
  {
   "cell_type": "code",
   "execution_count": 18,
   "metadata": {
    "collapsed": false
   },
   "outputs": [
    {
     "name": "stdout",
     "output_type": "stream",
     "text": [
      "Število iteracij: 21\n"
     ]
    },
    {
     "data": {
      "image/png": "[encoded data removed]",
      "text/latex": [
       "$$-4.76837158203125e-07$$"
      ],
      "text/plain": [
       "-4.76837158203125e-07"
      ]
     },
     "execution_count": 18,
     "metadata": {},
     "output_type": "execute_result"
    }
   ],
   "source": [
    "bisekcija(np.tan, -1, 1, tol=1e-6)"
   ]
  },
  {
   "cell_type": "code",
   "execution_count": 19,
   "metadata": {
    "collapsed": false
   },
   "outputs": [
    {
     "ename": "Exception",
     "evalue": "Bisekcija ne konvergira, verjetnost pola.",
     "output_type": "error",
     "traceback": [
      "\u001b[1;31m---------------------------------------------------------------------------\u001b[0m",
      "\u001b[1;31mException\u001b[0m                                 Traceback (most recent call last)",
      "\u001b[1;32m<ipython-input-19-166d7f617d17>\u001b[0m in \u001b[0;36m<module>\u001b[1;34m()\u001b[0m\n\u001b[1;32m----> 1\u001b[1;33m \u001b[0mbisekcija\u001b[0m\u001b[1;33m(\u001b[0m\u001b[0mnp\u001b[0m\u001b[1;33m.\u001b[0m\u001b[0mtan\u001b[0m\u001b[1;33m,\u001b[0m \u001b[1;36m1\u001b[0m\u001b[1;33m,\u001b[0m \u001b[1;36m2\u001b[0m\u001b[1;33m,\u001b[0m \u001b[0mtol\u001b[0m\u001b[1;33m=\u001b[0m\u001b[1;36m1e-3\u001b[0m\u001b[1;33m)\u001b[0m\u001b[1;33m\u001b[0m\u001b[0m\n\u001b[0m",
      "\u001b[1;32m<ipython-input-14-4b12efe32758>\u001b[0m in \u001b[0;36mbisekcija\u001b[1;34m(fun, x1, x2, tol, izpis)\u001b[0m\n\u001b[0;32m     17\u001b[0m         \u001b[0mf2\u001b[0m \u001b[1;33m=\u001b[0m \u001b[0mfun\u001b[0m\u001b[1;33m(\u001b[0m\u001b[0mx2\u001b[0m\u001b[1;33m)\u001b[0m\u001b[1;33m\u001b[0m\u001b[0m\n\u001b[0;32m     18\u001b[0m         \u001b[1;32mif\u001b[0m \u001b[0mnp\u001b[0m\u001b[1;33m.\u001b[0m\u001b[0mabs\u001b[0m\u001b[1;33m(\u001b[0m\u001b[0mf3\u001b[0m\u001b[1;33m)\u001b[0m \u001b[1;33m>\u001b[0m \u001b[0mnp\u001b[0m\u001b[1;33m.\u001b[0m\u001b[0mabs\u001b[0m\u001b[1;33m(\u001b[0m\u001b[0mf1\u001b[0m\u001b[1;33m)\u001b[0m \u001b[1;32mand\u001b[0m \u001b[0mnp\u001b[0m\u001b[1;33m.\u001b[0m\u001b[0mabs\u001b[0m\u001b[1;33m(\u001b[0m\u001b[0mf3\u001b[0m\u001b[1;33m)\u001b[0m \u001b[1;33m>\u001b[0m \u001b[0mnp\u001b[0m\u001b[1;33m.\u001b[0m\u001b[0mabs\u001b[0m\u001b[1;33m(\u001b[0m\u001b[0mf2\u001b[0m\u001b[1;33m)\u001b[0m\u001b[1;33m:\u001b[0m\u001b[1;33m\u001b[0m\u001b[0m\n\u001b[1;32m---> 19\u001b[1;33m             \u001b[1;32mraise\u001b[0m \u001b[0mException\u001b[0m\u001b[1;33m(\u001b[0m\u001b[1;34m'Bisekcija ne konvergira, verjetnost pola.'\u001b[0m\u001b[1;33m)\u001b[0m\u001b[1;33m\u001b[0m\u001b[0m\n\u001b[0m\u001b[0;32m     20\u001b[0m         \u001b[1;32mif\u001b[0m \u001b[0mnp\u001b[0m\u001b[1;33m.\u001b[0m\u001b[0msign\u001b[0m\u001b[1;33m(\u001b[0m\u001b[0mfun\u001b[0m\u001b[1;33m(\u001b[0m\u001b[0mx3\u001b[0m\u001b[1;33m)\u001b[0m\u001b[1;33m)\u001b[0m\u001b[1;33m!=\u001b[0m\u001b[0mnp\u001b[0m\u001b[1;33m.\u001b[0m\u001b[0msign\u001b[0m\u001b[1;33m(\u001b[0m\u001b[0mfun\u001b[0m\u001b[1;33m(\u001b[0m\u001b[0mx1\u001b[0m\u001b[1;33m)\u001b[0m\u001b[1;33m)\u001b[0m\u001b[1;33m:\u001b[0m\u001b[1;33m\u001b[0m\u001b[0m\n\u001b[0;32m     21\u001b[0m             \u001b[0mx2\u001b[0m \u001b[1;33m=\u001b[0m \u001b[0mx3\u001b[0m\u001b[1;33m\u001b[0m\u001b[0m\n",
      "\u001b[1;31mException\u001b[0m: Bisekcija ne konvergira, verjetnost pola."
     ]
    }
   ],
   "source": [
    "bisekcija(np.tan, 1, 2, tol=1e-3)"
   ]
  },
  {
   "cell_type": "markdown",
   "metadata": {},
   "source": [
    "### Uporaba ``scipy.optimize.bisect``"
   ]
  },
  {
   "cell_type": "markdown",
   "metadata": {},
   "source": [
    "Bisekcijska metoda je *počasna* vendar zanesljiva metoda iskanja ničel in je implementirana znotraj ``scipy``:"
   ]
  },
  {
   "cell_type": "code",
   "execution_count": 23,
   "metadata": {
    "collapsed": false
   },
   "outputs": [],
   "source": [
    "from scipy import optimize"
   ]
  },
  {
   "cell_type": "markdown",
   "metadata": {},
   "source": [
    "Poglejmo najprej hitrost:"
   ]
  },
  {
   "cell_type": "code",
   "execution_count": 24,
   "metadata": {
    "collapsed": false
   },
   "outputs": [
    {
     "name": "stdout",
     "output_type": "stream",
     "text": [
      "100000 loops, best of 3: 9.98 µs per loop\n"
     ]
    }
   ],
   "source": [
    "%%timeit\n",
    "optimize.bisect(f, 0, 1, xtol=1e-3)"
   ]
  },
  {
   "cell_type": "code",
   "execution_count": 25,
   "metadata": {
    "collapsed": false
   },
   "outputs": [
    {
     "data": {
      "image/png": "[encoded data removed]",
      "text/latex": [
       "$$0.7353515625$$"
      ],
      "text/plain": [
       "0.7353515625"
      ]
     },
     "execution_count": 25,
     "metadata": {},
     "output_type": "execute_result"
    }
   ],
   "source": [
    "optimize.bisect(f, 0, 1, xtol=1e-3)"
   ]
  },
  {
   "cell_type": "markdown",
   "metadata": {},
   "source": [
    "Ugotovimo, da je ``scipy`` implementacija približno 10-krat hitrejša od zgoraj predstavljene."
   ]
  },
  {
   "cell_type": "markdown",
   "metadata": {},
   "source": [
    "Poglejmo si še iskanje funkcije $\\tan()$:"
   ]
  },
  {
   "cell_type": "code",
   "execution_count": 26,
   "metadata": {
    "collapsed": false
   },
   "outputs": [
    {
     "data": {
      "image/png": "[encoded data removed]",
      "text/latex": [
       "$$0.0$$"
      ],
      "text/plain": [
       "0.0"
      ]
     },
     "execution_count": 26,
     "metadata": {},
     "output_type": "execute_result"
    }
   ],
   "source": [
    "optimize.bisect(np.tan, -1, 1)"
   ]
  },
  {
   "cell_type": "markdown",
   "metadata": {},
   "source": [
    "Pr tem je potrebno biti previden, saj funkcija zahteva zvezno funkcijo ($\\tan()$ v polu ni zvezna) in zato lahko dobimo napačno rešitev (implementacija zgoraj takšno rešitev ne dovoli):"
   ]
  },
  {
   "cell_type": "code",
   "execution_count": 27,
   "metadata": {
    "collapsed": false
   },
   "outputs": [
    {
     "data": {
      "image/png": "[encoded data removed]",
      "text/latex": [
       "$$1.5707963267950618$$"
      ],
      "text/plain": [
       "1.5707963267950618"
      ]
     },
     "execution_count": 27,
     "metadata": {},
     "output_type": "execute_result"
    }
   ],
   "source": [
    "optimize.bisect(np.tan, 1, 2)"
   ]
  },
  {
   "cell_type": "markdown",
   "metadata": {},
   "source": [
    "## Sekantna metoda"
   ]
  },
  {
   "cell_type": "markdown",
   "metadata": {},
   "source": [
    "Na sliki spodaj (vir: Jaan Kiusalaas, Numerical Methods in Engineering With Python 3, 3rd Ed) je prikazana funkcija $f$ v okolici ničle. \n",
    "<img src='./fig/sekantna_metoda.png' width=250>\n",
    "Sekantna metoda rabi dve začetni vrednosti $x_1$ in $x_2$. Ob predpostavki linearne interpolacije med točkama 1 in 2, se lahko določi točka 3, kjer ima linearna funkcija ničlo."
   ]
  },
  {
   "cell_type": "markdown",
   "metadata": {},
   "source": [
    "Glede na sliko lahko zapišemo (podobni trikotniki):\n",
    "$$\\frac{f(x_2)}{x_3 − x_2}= \\frac{f(x_1) − f(x_2)}{x_2 − x_1}.$$\n",
    "Sledi, da je novi približek ničle:\n",
    "$$x_3= x_2+f(x_2)\\,\\frac{x_2 − x_1}{f(x_1) − f(x_2)}.$$\n"
   ]
  },
  {
   "cell_type": "markdown",
   "metadata": {},
   "source": [
    "V naslednjem koraku pri sekantni metodi izvedmo sledeče zamenjave $x_1=x_2$ in $x_2=x_3$ (sekantna metoda ne zahteva, da je ničla izolirana).\n",
    "\n",
    "Sekantna metoda spada med *odprte* metode, saj lahko najde ničlo, ki se nahaja zunaj območja $[x_1, x_2]$."
   ]
  },
  {
   "cell_type": "markdown",
   "metadata": {},
   "source": [
    "#### Konvergenca"
   ]
  },
  {
   "cell_type": "markdown",
   "metadata": {},
   "source": [
    "Če z $\\varepsilon$ označimo napako metode in če bi z vsakim korakom iteracije napako linearno zmanjševali, bi to zapisali:\n",
    "$$\\varepsilon_n = C\\,\\varepsilon_{n-1},$$\n",
    "kjer bi bila $C$ konstanta.\n",
    "\n",
    "Konvergenca sekantne metode je boljša kot linearna (t.i. *superlinearna*), literatura navaja vrednost: \n",
    "$$\\varepsilon_n = C\\,\\varepsilon_{n-1}^{1.618}.$$\n",
    "\n",
    "Še boljšo (kvadratično) konvergenco ima t.i. *Ridderjeva* metoda. Ridderjeva metoda je zaprtega tipa in je sorodna sekantni metodi, vendar si je tukaj ne bomo podrobno ogledali. "
   ]
  },
  {
   "cell_type": "markdown",
   "metadata": {},
   "source": [
    "### Numerična implementacija"
   ]
  },
  {
   "cell_type": "code",
   "execution_count": 28,
   "metadata": {
    "collapsed": false
   },
   "outputs": [],
   "source": [
    "def sekantna(fun, x1, x2, tol=1e-3, max_iter=50, izpis=True):\n",
    "    \"\"\" Vrne ničlo z natančnostjo tol\n",
    "    \n",
    "    :param fun: funkcija katere ničle iščemo\n",
    "    :param x1:  spodnja meja iskanja\n",
    "    :param x2:  zgornja meja iskanja\n",
    "    :param tol: zahtevana natančnost\n",
    "    :max_iter:  maksimalno število iteracij preden se izvajanje prekine\n",
    "    :izpis:     ali na koncu izpiše kratko poročilo\n",
    "    \"\"\"\n",
    "    for i in range(max_iter):\n",
    "        f1 = fun(x1)\n",
    "        f2 = fun(x2)\n",
    "        x3 = x2 + f2 * (x2 - x1)/(f1 - f2)\n",
    "        x1 = x2\n",
    "        x2 = x3\n",
    "        if np.abs(x2-x1)<tol:\n",
    "            if izpis:\n",
    "                print('Število iteracij: {:g}'.format(i))\n",
    "            return (x1+x2)/2\n",
    "    raise Exception('Metoda po {:g} iteracijah ne konvergira'.format(max_iter))"
   ]
  },
  {
   "cell_type": "code",
   "execution_count": 29,
   "metadata": {
    "collapsed": false
   },
   "outputs": [
    {
     "name": "stdout",
     "output_type": "stream",
     "text": [
      "Število iteracij: 4\n"
     ]
    },
    {
     "data": {
      "image/png": "[encoded data removed]",
      "text/latex": [
       "$$0.7345762322505773$$"
      ],
      "text/plain": [
       "0.7345762322505773"
      ]
     },
     "execution_count": 29,
     "metadata": {},
     "output_type": "execute_result"
    }
   ],
   "source": [
    "sekantna(f, 0, 1., tol=1.e-3)"
   ]
  },
  {
   "cell_type": "code",
   "execution_count": 30,
   "metadata": {
    "collapsed": false
   },
   "outputs": [
    {
     "name": "stdout",
     "output_type": "stream",
     "text": [
      "10000 loops, best of 3: 17.9 µs per loop\n"
     ]
    }
   ],
   "source": [
    "%%timeit\n",
    "sekantna(f, 0, 1., tol=1.e-8, izpis=False)"
   ]
  },
  {
   "cell_type": "markdown",
   "metadata": {},
   "source": [
    "Poglejmo si primer, ko bo rešitev zunaj podanega intervala:"
   ]
  },
  {
   "cell_type": "code",
   "execution_count": 31,
   "metadata": {
    "collapsed": false
   },
   "outputs": [
    {
     "name": "stdout",
     "output_type": "stream",
     "text": [
      "Število iteracij: 10\n"
     ]
    },
    {
     "data": {
      "image/png": "[encoded data removed]",
      "text/latex": [
       "$$3.14158476215$$"
      ],
      "text/plain": [
       "3.14158476215"
      ]
     },
     "execution_count": 31,
     "metadata": {},
     "output_type": "execute_result"
    }
   ],
   "source": [
    "sekantna(np.tan, 1, 2)"
   ]
  },
  {
   "cell_type": "markdown",
   "metadata": {},
   "source": [
    "### Uporaba ``scipy.optimize.newton``"
   ]
  },
  {
   "cell_type": "markdown",
   "metadata": {},
   "source": [
    "Znotraj ``scipy`` je sekantna metoda definirana v okviru ``scipy.optimize.newton`` funkcije; če namreč ne podamo funkcije, ki definira prvi odvod, potem je uporabljena sekantna metoda (glejte pomoč)."
   ]
  },
  {
   "cell_type": "code",
   "execution_count": 32,
   "metadata": {
    "collapsed": false
   },
   "outputs": [
    {
     "name": "stdout",
     "output_type": "stream",
     "text": [
      "100000 loops, best of 3: 12.5 µs per loop\n"
     ]
    }
   ],
   "source": [
    "%%timeit\n",
    "optimize.newton(f, 0.1)"
   ]
  },
  {
   "cell_type": "code",
   "execution_count": 33,
   "metadata": {
    "collapsed": false
   },
   "outputs": [
    {
     "name": "stdout",
     "output_type": "stream",
     "text": [
      "100000 loops, best of 3: 11.3 µs per loop\n"
     ]
    }
   ],
   "source": [
    "%%timeit\n",
    "optimize.ridder(f, 0, 1)"
   ]
  },
  {
   "cell_type": "markdown",
   "metadata": {},
   "source": [
    "Poglejmo še Ridderjevo metodo na primeru pola funkcije $\\tan()$:"
   ]
  },
  {
   "cell_type": "code",
   "execution_count": 34,
   "metadata": {
    "collapsed": false
   },
   "outputs": [
    {
     "data": {
      "image/png": "[encoded data removed]",
      "text/latex": [
       "$$1.5707963267952894$$"
      ],
      "text/plain": [
       "1.5707963267952894"
      ]
     },
     "execution_count": 34,
     "metadata": {},
     "output_type": "execute_result"
    }
   ],
   "source": [
    "optimize.ridder(np.tan, 1, 2)"
   ]
  },
  {
   "cell_type": "markdown",
   "metadata": {},
   "source": [
    "## Newton-Raphsonova metoda"
   ]
  },
  {
   "cell_type": "markdown",
   "metadata": {},
   "source": [
    "Newton-Raphsonova (tudi poimenovana tangentna) metoda se smatra za najboljšo metodo iskanja ničel. Rabi samo eno začetno vrednost, je hitra in preprosta; vendar pa ima eno slabost: zahteva odvod funkcije $f'(x)$.\n",
    "\n",
    "Poglejmo si podrobnosti: vrednost funkcije $f(x_{i+1})$ določimo s pomočjo Taylorjeve vrste glede na lego $x_i$:\n",
    "$$f(x_{i+1})=f(x_i)+f'(x_i)\\,\\left(x_{i+1}-x_i\\right)+O^2\\left(x_{i+1}-x_i\\right),$$\n",
    "če naj bo pri $x_{i+1}$ vrednost funkcije nič, potem velja:\n",
    "$$0=f(x_i)+f'(x_i)\\,\\left(x_{i+1}-x_i\\right)+O^2\\left(x_{i+1}-x_i\\right).$$\n",
    "Če zanemarimo višje rede Taylorjeve vrste, potem lahko izpeljemo:\n",
    "$$x_{i+1}=x_i-\\frac{f(x_i)}{f'(x_i)}.$$\n",
    "Zgornje izvajanje lahko prikažemo tudi na sliki (vir: Jaan Kiusalaas, Numerical Methods in Engineering With Python 3, 3rd Ed):\n",
    "<img src=\"./fig/newton-raphson.png\" width=250>\n",
    "\n",
    "*Newton-Raphsonova* metoda ponavlja zgornji pristop dokler ni izpolnjen pogoj:\n",
    "$$|x_{i+1}-x_i|<\\varepsilon$$"
   ]
  },
  {
   "cell_type": "markdown",
   "metadata": {},
   "source": [
    "#### Konvegenca"
   ]
  },
  {
   "cell_type": "markdown",
   "metadata": {},
   "source": [
    "Konvergenca Newton-Raphsonove metode je kvadratična: \n",
    "$$\\varepsilon_n = C\\,\\varepsilon_{n-1}^{2},$$\n",
    "kjer je konstanta:\n",
    "$$C=-\\frac{f''(x)}{2\\,f'(x)}$$\n",
    "Konvergenca Newton-Raphsonove metode je torej hitra; vendar pa to velja lokalno, ko smo enkrat relativno blizu ničle. Kadar smo pa relativno daleč, pa bi za ustrezeno aproksimacino s Taylorjevo vrsto potrebovali tudi višje člene (bomo videli spodaj, da ``scipy`` implementacija omogoča dodajanje tudi drugega odvoda)."
   ]
  },
  {
   "cell_type": "markdown",
   "metadata": {},
   "source": [
    "### Numerična implementacija"
   ]
  },
  {
   "cell_type": "code",
   "execution_count": 35,
   "metadata": {
    "collapsed": false
   },
   "outputs": [],
   "source": [
    "def newton_raphson(fun, dfun, x0, tol=1e-3, max_iter=50, izpis=True):\n",
    "    \"\"\" Vrne ničlo z natančnostjo tol\n",
    "    \n",
    "    :param fun:  funkcija katere ničle iščemo\n",
    "    :param dfun: f'\n",
    "    :param x0:   začetni približek\n",
    "    :param tol:  zahtevana natančnost\n",
    "    :max_iter:  maksimalno število iteracij preden se izvajanje prekine\n",
    "    :izpis:     ali na koncu izpiše kratko poročilo\n",
    "    \"\"\"\n",
    "    for i in range(max_iter):\n",
    "        x1 = x0 - fun(x0)/dfun(x0)\n",
    "        if np.abs(x1-x0)<tol:\n",
    "            if izpis:\n",
    "                print('Število iteracij: {:g}'.format(i))\n",
    "            return x1\n",
    "        x0 = x1\n",
    "    raise Exception('Metoda po {:g} iteracijah ne konvergira'.format(max_iter))"
   ]
  },
  {
   "cell_type": "code",
   "execution_count": 36,
   "metadata": {
    "collapsed": false
   },
   "outputs": [],
   "source": [
    "??f"
   ]
  },
  {
   "cell_type": "code",
   "execution_count": 37,
   "metadata": {
    "collapsed": false
   },
   "outputs": [],
   "source": [
    "def df(x):\n",
    "    return 3*x**2 - 20*x\n",
    "def ddf(x):\n",
    "    return 6*x - 20"
   ]
  },
  {
   "cell_type": "code",
   "execution_count": 38,
   "metadata": {
    "collapsed": false
   },
   "outputs": [
    {
     "name": "stdout",
     "output_type": "stream",
     "text": [
      "Število iteracij: 3\n"
     ]
    },
    {
     "data": {
      "image/png": "[encoded data removed]",
      "text/latex": [
       "$$0.7346035077893185$$"
      ],
      "text/plain": [
       "0.7346035077893185"
      ]
     },
     "execution_count": 38,
     "metadata": {},
     "output_type": "execute_result"
    }
   ],
   "source": [
    "newton_raphson(f, df, 1, tol=1e-6)"
   ]
  },
  {
   "cell_type": "code",
   "execution_count": 39,
   "metadata": {
    "collapsed": false
   },
   "outputs": [
    {
     "name": "stdout",
     "output_type": "stream",
     "text": [
      "100000 loops, best of 3: 12 µs per loop\n"
     ]
    }
   ],
   "source": [
    "%%timeit\n",
    "newton_raphson(f, df, 1, tol=1.5e-8, izpis=False)"
   ]
  },
  {
   "cell_type": "markdown",
   "metadata": {},
   "source": [
    "## Uporaba ``scipy.optimize.newton``"
   ]
  },
  {
   "cell_type": "code",
   "execution_count": 40,
   "metadata": {
    "collapsed": false
   },
   "outputs": [
    {
     "name": "stdout",
     "output_type": "stream",
     "text": [
      "100000 loops, best of 3: 9.41 µs per loop\n"
     ]
    }
   ],
   "source": [
    "%%timeit\n",
    "optimize.newton(f, 1, df)"
   ]
  },
  {
   "cell_type": "markdown",
   "metadata": {},
   "source": [
    "Dodajo še drugi odvod"
   ]
  },
  {
   "cell_type": "code",
   "execution_count": 41,
   "metadata": {
    "collapsed": false
   },
   "outputs": [
    {
     "data": {
      "image/png": "[encoded data removed]",
      "text/latex": [
       "$$0.734603507789$$"
      ],
      "text/plain": [
       "0.734603507789"
      ]
     },
     "execution_count": 41,
     "metadata": {},
     "output_type": "execute_result"
    }
   ],
   "source": [
    "optimize.newton(f, 1, df, fprime2=ddf)"
   ]
  },
  {
   "cell_type": "code",
   "execution_count": 42,
   "metadata": {
    "collapsed": false
   },
   "outputs": [
    {
     "name": "stdout",
     "output_type": "stream",
     "text": [
      "The slowest run took 4.04 times longer than the fastest. This could mean that an intermediate result is being cached \n",
      "10000 loops, best of 3: 18.2 µs per loop\n"
     ]
    }
   ],
   "source": [
    "%%timeit\n",
    "optimize.newton(f, 1, df, fprime2=ddf)"
   ]
  },
  {
   "cell_type": "markdown",
   "metadata": {},
   "source": [
    "Poglejmo še funkcijo $\\tan()$"
   ]
  },
  {
   "cell_type": "code",
   "execution_count": 43,
   "metadata": {
    "collapsed": false
   },
   "outputs": [
    {
     "data": {
      "image/png": "[encoded data removed]",
      "text/plain": [
       "<matplotlib.figure.Figure at 0xb6c8828>"
      ]
     },
     "metadata": {},
     "output_type": "display_data"
    }
   ],
   "source": [
    "x_r = np.linspace(-3, 3, 100)\n",
    "plt.plot(x_r, np.tan(x_r));\n",
    "plt.ylim(-5, 5);"
   ]
  },
  {
   "cell_type": "code",
   "execution_count": 44,
   "metadata": {
    "collapsed": false
   },
   "outputs": [
    {
     "data": {
      "image/png": "[encoded data removed]",
      "text/latex": [
       "$$\\tan^{2}{\\left (X \\right )} + 1$$"
      ],
      "text/plain": [
       "   2       \n",
       "tan (X) + 1"
      ]
     },
     "execution_count": 44,
     "metadata": {},
     "output_type": "execute_result"
    }
   ],
   "source": [
    "X = symbols('X')\n",
    "\n",
    "diff(tan(X),X)"
   ]
  },
  {
   "cell_type": "code",
   "execution_count": 45,
   "metadata": {
    "collapsed": false
   },
   "outputs": [
    {
     "data": {
      "image/png": "[encoded data removed]",
      "text/latex": [
       "$$3.14159265359$$"
      ],
      "text/plain": [
       "3.14159265359"
      ]
     },
     "execution_count": 45,
     "metadata": {},
     "output_type": "execute_result"
    }
   ],
   "source": [
    "dtan = lambda x: np.tan(x)**2 + 1\n",
    "optimize.newton(np.tan, 2, dtan)"
   ]
  },
  {
   "cell_type": "markdown",
   "metadata": {},
   "source": [
    "# Iskanje ničel sistema enačb"
   ]
  },
  {
   "cell_type": "markdown",
   "metadata": {},
   "source": [
    "Tukaj bomo sedaj iskanje ničel posplošili na problem:\n",
    "$$\\mathbf{f}(\\mathbf{x})=\\mathbf{0},$$\n",
    "kar lahko zapišemo tudi v skalarni obliki:\n",
    "$$\\begin{array}{rcl}\n",
    "f_1(x_1,x_2,\\dots, x_n)&=&0\\\\\n",
    "f_2(x_1,x_2,\\dots, x_n)&=&0\\\\\n",
    "&\\vdots&\\\\\n",
    "f_n(x_1,x_2,\\dots, x_n)&=&0\\\\\n",
    "\\end{array}$$"
   ]
  },
  {
   "cell_type": "markdown",
   "metadata": {},
   "source": [
    "Sočasno iskanje ničle $n$ funkcij je bistveno bolj zahtevno kakor reševanje ene same enačbe; ker je vsaka enačba zase lahko nelinearna, ima sistem takih enačb lahko več ničel in katero najdemo, je odvisno od začetnih pogojev. Ponavadi nam pri dobri izbiri začetnih pogojev pomaga fizikalni problem, ki ga rešujemo."
   ]
  },
  {
   "cell_type": "markdown",
   "metadata": {},
   "source": [
    "Tudi za iskanje ničel sistema se *Newton-Raphsonova* metoda izkaže kot najenostavneša in pogosto tudi najboljša (obstajajo druge metode, ki pa so ponavadi variacija Newton-Raphsonove).\n",
    "\n",
    "Poglejmo si teoretično ozadje. Podobno kakor pri skalarnem problemu, tudi tukaj začnemo z razvojem Taylorjeve vrste za $i$-to funkcijo:\n",
    "$$f_i(\\mathbf{x}+\\Delta \\mathbf{x})=f_i(\\mathbf{x})+\\sum_{j=1}^n \\frac{\\partial f_i}{\\partial x_j}\\,\\Delta x_j+O^2(\\mathbf{x}).$$\n",
    "Potem, ko člene reda 2 in višje zanemarimo, lahko zapišemo izraz v matrični obliki:\n",
    "$$\\mathbf{f}(\\mathbf{x}+\\Delta \\mathbf{x})=\\mathbf{f}(\\mathbf{x})+\\mathbf{J}(\\mathbf{x})\\,\\Delta \\mathbf{x},$$\n",
    "kjer je $\\mathbf{J}(\\mathbf{x})$ *Jakobijeva* matrika pri vrednostih $\\mathbf{x}$. Elementi Jakobijeve matrike so: \n",
    "$$J_{ij}=\\frac{\\partial f_i}{\\partial x_j}.$$"
   ]
  },
  {
   "cell_type": "markdown",
   "metadata": {},
   "source": [
    "Če naj pri $\\mathbf{x}+\\Delta \\mathbf{x}$ najdemo ničlo, potem mora veljati:\n",
    "$$\\mathbf{0}=\\mathbf{f}(\\mathbf{x})+\\mathbf{J}(\\mathbf{x})\\,\\Delta \\mathbf{x}$$\n",
    "in torej sledi:\n",
    "$$\\underbrace{\\mathbf{J}(\\mathbf{x})}_{\\mathbf{A}}\\,\\underbrace{\\Delta \\mathbf{x}}_{\\mathbf{x}}=\\underbrace{\\mathbf{f}(\\mathbf{x})}_{\\mathbf{b}}$$\n",
    "Opazimo, da smo izpeljali sistem linearnih enačb ($\\mathbf{A}\\,\\mathbf{x}=\\mathbf{b}$), kjer je vektor neznank $\\Delta\\mathbf{x}$.\n",
    "\n",
    "Opomba: analitično definiranje Jakobijeve matrike je lahko zamudno in zato jo pogosto izračunamo kar numerično:\n",
    "$$\\frac{\\partial f_i}{\\partial x_j}\\approx\n",
    "\\frac{f_i(\\mathbf{x}+\\mathbf{e}_j\\,h)-f_i(\\mathbf{x})}{h},$$\n",
    "kjer $h$ majhen premik in je $\\mathbf{e}_j$ enotski pomik v smeri $x_j$."
   ]
  },
  {
   "cell_type": "markdown",
   "metadata": {},
   "source": [
    "## Numerična implementacija"
   ]
  },
  {
   "cell_type": "markdown",
   "metadata": {},
   "source": [
    "Najtežji del je pridobiti Jacobijevo matriko:\n",
    "* simbolno jo si lahko pomagamo s funkcijo ``jacobian`` v okviru ``sympy``\n",
    "* numerično si lahko pomagamo s funkcijo ``approx_fprime``, ki se nahaja v ``scipy.optimize``.\n",
    "\n",
    "Ko imamo enkrat Jakobijevo matriko definirano, moramo rešiti sistem linearnih enačb in tako pridobimo novi približek $\\mathbf{x}$. Z iteriranjem nadaljujemo dokler ne dosežemo zahtevane konvergence.\n",
    "\n",
    "Tukaj metode numerično ne bomo implementirali."
   ]
  },
  {
   "cell_type": "markdown",
   "metadata": {},
   "source": [
    "## Uporaba ``scipy.optimize.root``"
   ]
  },
  {
   "cell_type": "markdown",
   "metadata": {},
   "source": [
    "Definirajmo najprej funkcijo več spremenljivk:"
   ]
  },
  {
   "cell_type": "code",
   "execution_count": 46,
   "metadata": {
    "collapsed": false
   },
   "outputs": [],
   "source": [
    "def func(x):\n",
    "    return [x[0]**3 + x[1] -2, x[1]**2 - 4]"
   ]
  },
  {
   "cell_type": "code",
   "execution_count": 47,
   "metadata": {
    "collapsed": false
   },
   "outputs": [
    {
     "data": {
      "text/plain": [
       "    fjac: array([[ -9.99999979e-01,   2.03546560e-04],\n",
       "       [ -2.03546560e-04,  -9.99999979e-01]])\n",
       " success: True\n",
       "    nfev: 46\n",
       "     fun: array([ 0.,  0.])\n",
       "       r: array([ -2.60422931e-10,  -9.99190644e-01,  -4.00019848e+00])\n",
       "  status: 1\n",
       "     qtf: array([ -4.44089201e-16,  -9.03928310e-20])\n",
       " message: 'The solution converged.'\n",
       "       x: array([  5.42607651e-06,   2.00000000e+00])"
      ]
     },
     "execution_count": 47,
     "metadata": {},
     "output_type": "execute_result"
    }
   ],
   "source": [
    "optimize.root(func, [0.0, 1])"
   ]
  },
  {
   "cell_type": "markdown",
   "metadata": {},
   "source": [
    "## Uporaba ``sympy.solve``"
   ]
  },
  {
   "cell_type": "markdown",
   "metadata": {},
   "source": [
    "Za manjše sistem lahko rešitev najdemo tudi simbolno. Poglejmo si zgornji primer:"
   ]
  },
  {
   "cell_type": "code",
   "execution_count": 48,
   "metadata": {
    "collapsed": false
   },
   "outputs": [
    {
     "data": {
      "image/png": "[encoded data removed]",
      "text/latex": [
       "$$\\left [ \\left ( 0, \\quad 2\\right ), \\quad \\left ( 2^{\\frac{2}{3}}, \\quad -2\\right ), \\quad \\left ( \\frac{2^{\\frac{2}{3}}}{2} \\left(-1 + \\sqrt{3} i\\right), \\quad -2\\right ), \\quad \\left ( - \\frac{2^{\\frac{2}{3}}}{2} \\left(1 + \\sqrt{3} i\\right), \\quad -2\\right )\\right ]$$"
      ],
      "text/plain": [
       "⎡                    ⎛ 2/3 ⎛       ___  ⎞    ⎞  ⎛  2/3 ⎛      ___  ⎞     ⎞⎤\n",
       "⎢        ⎛ 2/3    ⎞  ⎜2   ⋅⎝-1 + ╲╱ 3 ⋅ⅈ⎠    ⎟  ⎜-2   ⋅⎝1 + ╲╱ 3 ⋅ⅈ⎠     ⎟⎥\n",
       "⎢(0, 2), ⎝2   , -2⎠, ⎜───────────────────, -2⎟, ⎜────────────────────, -2⎟⎥\n",
       "⎣                    ⎝         2             ⎠  ⎝         2              ⎠⎦"
      ]
     },
     "execution_count": 48,
     "metadata": {},
     "output_type": "execute_result"
    }
   ],
   "source": [
    "x, y = symbols('x, y')\n",
    "solve([x**3 + y -2, y**2 - 4], x, y)"
   ]
  },
  {
   "cell_type": "markdown",
   "metadata": {},
   "source": [
    "# Do naslednjih vaj preštudirajte sledeče:"
   ]
  },
  {
   "cell_type": "markdown",
   "metadata": {},
   "source": [
    "1. V simbolni obliki definirajte izraz:\n",
    "$$f(x) = x^4 - 6.4\\,x^3 + 6.45\\,x^2 + 20.538\\,x - 31.752.$$\n",
    "* Narišite funkcijo $f(x)$. Koliko ničel pričakujemo za funkcijo $f(x)$.?\n",
    "* V simbolni obliki določite ničle polinoma $f(x)$.\n",
    "* Kako preverimo ali je ničla ekstrem?\n",
    "* Numerično najdite vse ničle z bisekcijsko metodo (uporabite ``scipy``).\n",
    "* Numerično najdite vse ničle z sekantno metodo (uporabite ``scipy``).\n",
    "* Numerično najdite vse ničle z Newton-Raphsonovo metodo (uporabite ``scipy``).\n",
    "* Podatke:\n",
    "    $$x=[0, 1, 2, 3, 4, 5]$$\n",
    "    $$y=[0.95, 0.93, 0.87, 0.77, 0.64, 0.49]$$\n",
    "  aproksimirajte s funkcijo $\\cos(a\\,x)$ (z uporabo ``scipy.optimize.curve_fit`` določite konstanto $a$).\n",
    "* Na intervalu $x=[0, 50]$ z bisekcijsko metodo poiščite vse ničle najdene funkcije $\\cos(a\\,x)$.\n",
    "* Na intervalu $x=[0, 50]$ z Newton-Raphsonovo metodo poiščite vse ničle najdene funkcije $A\\,\\cos(a\\,x)$.\n",
    "* S pomočjo ``sympy`` najdite simbolno rešitev za:\n",
    "$$x^2 + y -2=0\\qquad\\textrm{in}\\qquad  y^2 - 4=0.$$\n",
    "* Zgoraj definirani problem rešite še numerično s pomočjo ``scipy.optimize.root``.\n",
    "* Na predhodnem vprašanju preizkusite različne metode (glejte pomoč).\n",
    "* Z uporabo bisekcijske metode dimenzionirajte prikazani upogibno obremenjeni nosilec dolžine $L$ (obremenjen s točkovno silo $F$). Določite velikost polnega krožnega prereza $d$.\n",
    "<img src=\"./fig/nal-num_iskanje_nicel-1.jpg\">\n",
    "    $F = 1 \\mathrm{kN}$\n",
    "    \n",
    "    $L = 1 \\mathrm{m}$<br>\n",
    "    $\\sigma_{dop} = 120 \\mathrm{MPa}$\n",
    "    \n",
    "    Reševanje: \n",
    "    \n",
    "    $\\sigma_u \\leq \\sigma_{dop} \\to \\frac{F\\,L}{W} = \\frac{F\\,L\\,32}{\\pi\\,d^3} = \\sigma_{dop}$"
   ]
  },
  {
   "cell_type": "markdown",
   "metadata": {},
   "source": [
    "Delno rešene vaje se nahajajo [tukaj](./vaje/Vaja 9 - polovica.ipynb)."
   ]
  }
 ],
 "metadata": {
  "kernelspec": {
   "display_name": "Python 3",
   "language": "python",
   "name": "python3"
  },
  "language_info": {
   "codemirror_mode": {
    "name": "ipython",
    "version": 3
   },
   "file_extension": ".py",
   "mimetype": "text/x-python",
   "name": "python",
   "nbconvert_exporter": "python",
   "pygments_lexer": "ipython3",
   "version": "3.5.0"
  }
 },
 "nbformat": 4,
 "nbformat_minor": 0
}
