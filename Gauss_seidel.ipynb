{
 "cells": [
  {
   "cell_type": "code",
   "execution_count": null,
   "metadata": {},
   "outputs": [],
   "source": [
    "import numpy as np"
   ]
  },
  {
   "cell_type": "code",
   "execution_count": 13,
   "metadata": {},
   "outputs": [],
   "source": [
    "#Ustvarim naključna A in b\n",
    "\n",
    "A=np.random.rand(5,5)\n",
    "b=np.random.rand(5)\n",
    "#Prvi približek x naj bo 0\n",
    "x = np.zeros_like(b)\n",
    "#Ustvarim spremenjen Asp, ki je enak kot A, po diagonali pa ima ničle\n",
    "Asp=A.copy()\n",
    "for i in range(A.shape[0]):\n",
    "    Asp[i,i] = 0"
   ]
  },
  {
   "cell_type": "code",
   "execution_count": 15,
   "metadata": {},
   "outputs": [],
   "source": [
    "#A spremenim tako, da je sigurno diagonalno dominantna.\n",
    "#(Ker random vrne števila med 0 in 1 ne potrebujem absolutnih vrednosti)\n",
    "\n",
    "for i in range(A.shape[0]):\n",
    "    A[i,i] += np.max(A[i,:])\n",
    "    #A[i,i] = np.max(A[i,:]) + 0.1\n",
    "A"
   ]
  },
  {
   "cell_type": "code",
   "execution_count": 16,
   "metadata": {},
   "outputs": [],
   "source": [
    "#Nastavim omejitev, kiliko največ korakov bom pustil, da teče zanka\n",
    "omejitevkorakov = 1000\n",
    "#Privzeti začetni vrednosti:\n",
    "korak = 0\n",
    "razlika = 1\n",
    "#While se naj vrti toliko časa, da bo razlika manjša kot 0,1 ali pa da pridemo do omejitve korakov\n",
    "while abs(razlika)>0.00001 and korak<omejitevkorakov:\n",
    "    a = x[1]\n",
    "    for i in range (len(b)): \n",
    "        x[i] = 1/A[i,i]*(b[i]-np.dot(Asp[i,:],x))\n",
    "    razlika = a-x[1]\n",
    "    korak += 1\n",
    "print('Po', korak, 'korakih smo prišli do rezultata:\\n')\n",
    "print('x =', x)"
   ]
  },
  {
   "cell_type": "code",
   "execution_count": 17,
   "metadata": {},
   "outputs": [],
   "source": [
    "#Izračunam še pravilni rezultat\n",
    "x2=np.linalg.solve(A,b)\n",
    "print('Pravilni rezultat pa je:\\n')\n",
    "print('x =', x)"
   ]
  },
  {
   "cell_type": "markdown",
   "metadata": {},
   "source": [
    "Poskusite izpustiti celico, kjer določimo, da je A diagonalno dominantna in opazujte rezultat!\n",
    "\n",
    "Poskusite celico z diagonalno dominantnostjo prilagoditi tako, da bo A zelo malo diagonalno dominantna, ali pa zelo dominantna. Opazujte število potrebnih iteracij."
   ]
  },
  {
   "cell_type": "code",
   "execution_count": null,
   "metadata": {},
   "outputs": [],
   "source": [
    ""
   ]
  }
 ],
 "metadata": {
  "kernelspec": {
   "display_name": "Python 3",
   "language": "python",
   "name": "python3"
  },
  "language_info": {
   "codemirror_mode": {
    "name": "ipython",
    "version": 3.0
   },
   "file_extension": ".py",
   "mimetype": "text/x-python",
   "name": "python",
   "nbconvert_exporter": "python",
   "pygments_lexer": "ipython3",
   "version": "3.4.3"
  }
 },
 "nbformat": 4,
 "nbformat_minor": 0
}