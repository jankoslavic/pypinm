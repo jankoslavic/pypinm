{
 "cells": [
  {
   "cell_type": "markdown",
   "metadata": {},
   "source": [
    "Nov 2015\n",
    "<img width=300 src=\"./fig/ladisk.png\">\n",
    "\n",
    "<center>[izr.prof. dr. Janko Slavič](http://www.ladisk.si/~slavic)</center>\n",
    "\n",
    "\n",
    "<center>[Repozitorij pypinm](http://github.com/jankoslavic/pypinm)</center>"
   ]
  },
  {
   "cell_type": "code",
   "execution_count": 1,
   "metadata": {
    "collapsed": false
   },
   "outputs": [],
   "source": [
    "import numpy as np\n",
    "import matplotlib.pyplot as plt\n",
    "%matplotlib inline\n",
    "from sympy import *\n",
    "init_printing()"
   ]
  },
  {
   "cell_type": "markdown",
   "metadata": {},
   "source": [
    "# Sistemi linarnih algebrajskih enačb"
   ]
  },
  {
   "cell_type": "markdown",
   "metadata": {},
   "source": [
    "Pod zgornjim naslovom razumemo reševanje enačbe:\n",
    "\n",
    "$$\\mathbf{A}\\,\\mathbf{x}=\\mathbf{b}$$\n",
    "\n",
    "Viri tega poglavja so predvsem:\n",
    "* Kiusalaas J: Numerical Methods in Engineering with Python 3, 2013\n",
    "* Petrišič J.: Uvod v Matlab za inženirje, 2011"
   ]
  },
  {
   "cell_type": "markdown",
   "metadata": {},
   "source": [
    "kjer sta $\\mathbf{A}$ in $\\mathbf{b}$ znana matrika in vektor, vektor $\\mathbf{x}$ pa ni znan. Matriko $\\mathbf{A}$ imenujemo **matrika koeficientov**, vektor $\\mathbf{b}$ **vektor konstant** in $\\mathbf{x}$ **vektor neznank**.\n",
    "\n",
    "Opomba glede oblike:\n",
    "* skalarne spremenljivke pišemo poševno, npr.: $a$,\n",
    "* vektorske spremenljivke pišemo z majhno črko poudarjeno, npr.: $\\mathbf{a}$,\n",
    "* matrične  spremenljivke pišemo z veliko črko poudarjeno, npr.: $\\mathbf{A}$."
   ]
  },
  {
   "cell_type": "markdown",
   "metadata": {},
   "source": [
    "Preprost simbolični primer je:"
   ]
  },
  {
   "cell_type": "code",
   "execution_count": 2,
   "metadata": {
    "collapsed": false
   },
   "outputs": [],
   "source": [
    "A11, A12, A21, A22 = symbols('A11, A12, A21, A22')\n",
    "x1, x2 = symbols('x1, x2')\n",
    "b1, b2 = symbols('b1, b2')\n",
    "A = Matrix([[A11, A12],\n",
    "            [A21, A22]])\n",
    "x = Matrix([[x1],\n",
    "            [x2]])\n",
    "b = Matrix([[b1],\n",
    "            [b2]])"
   ]
  },
  {
   "cell_type": "code",
   "execution_count": 3,
   "metadata": {
    "collapsed": false
   },
   "outputs": [
    {
     "data": {
      "image/png": "[encoded data removed]",
      "text/latex": [
       "$$\\left[\\begin{matrix}A_{11} x_{1} + A_{12} x_{2}\\\\A_{21} x_{1} + A_{22} x_{2}\\end{matrix}\\right] = \\left[\\begin{matrix}b_{1}\\\\b_{2}\\end{matrix}\\right]$$"
      ],
      "text/plain": [
       "⎡A₁₁⋅x₁ + A₁₂⋅x₂⎤ = ⎡b₁⎤\n",
       "⎢               ⎥   ⎢  ⎥\n",
       "⎣A₂₁⋅x₁ + A₂₂⋅x₂⎦   ⎣b₂⎦"
      ]
     },
     "execution_count": 3,
     "metadata": {},
     "output_type": "execute_result"
    }
   ],
   "source": [
    "eq = Eq(A*x,b)\n",
    "eq"
   ]
  },
  {
   "cell_type": "code",
   "execution_count": 4,
   "metadata": {
    "collapsed": false
   },
   "outputs": [],
   "source": [
    "#%%timeit\n",
    "resitev = solve(eq,[x1, x2])"
   ]
  },
  {
   "cell_type": "code",
   "execution_count": 5,
   "metadata": {
    "collapsed": false
   },
   "outputs": [
    {
     "data": {
      "image/png": "[encoded data removed]",
      "text/latex": [
       "$$\\left \\{ x_{1} : \\frac{- A_{12} b_{2} + A_{22} b_{1}}{A_{11} A_{22} - A_{12} A_{21}}, \\quad x_{2} : \\frac{A_{11} b_{2} - A_{21} b_{1}}{A_{11} A_{22} - A_{12} A_{21}}\\right \\}$$"
      ],
      "text/plain": [
       "⎧     -A₁₂⋅b₂ + A₂₂⋅b₁       A₁₁⋅b₂ - A₂₁⋅b₁ ⎫\n",
       "⎨x₁: ─────────────────, x₂: ─────────────────⎬\n",
       "⎩    A₁₁⋅A₂₂ - A₁₂⋅A₂₁      A₁₁⋅A₂₂ - A₁₂⋅A₂₁⎭"
      ]
     },
     "execution_count": 5,
     "metadata": {},
     "output_type": "execute_result"
    }
   ],
   "source": [
    "resitev"
   ]
  },
  {
   "cell_type": "markdown",
   "metadata": {},
   "source": [
    "Kakor je prikazano zgoraj je numerično reševanje sistema enačb zelo zamudno in primerno zgolj za relativno majhne sisteme. Iz tega razloga si bomo v nadaljevanju pogledali numerične pristope. Pri tem bomo tudi uporabili **razširjeno obliko matrike koeficientov**:\n",
    "\n",
    "$$\\begin{bmatrix}\n",
    "\\mathbf{A}|\\mathbf{b}\n",
    "\\end{bmatrix}=\n",
    "\\left[\\begin{array}{cccc|c}\n",
    "A_{11}&A_{12}&\\cdots & A_{1n} & b_1\\\\\n",
    "A_{21}&A_{22}&\\cdots & A_{2n} & b_2\\\\\n",
    "\\vdots&\\vdots&\\ddots & \\vdots & \\vdots\\\\\n",
    "A_{n1}&A_{n2}&\\cdots & A_{nn} & b_n\\\\\n",
    "\\end{array}\\right]\n",
    "$$"
   ]
  },
  {
   "cell_type": "markdown",
   "metadata": {},
   "source": [
    "## Enoličnost rešitve"
   ]
  },
  {
   "cell_type": "markdown",
   "metadata": {},
   "source": [
    "Sistem $n$ linearnih enačb z $n$ neznankami ima enolično rešitev, če determinanta **matrike koeficientov** ni singularna; to pomeni, da $|\\mathbf{A}|\\neq 0$. V tem primeru so vrstice in stolpci linearno neodvisni; z drugimi besedami nobena vrstica ali stolpec ni linearna kombinacija ostalih vrstc ali stolpcev.\n",
    "\n",
    "Za naš preprosti primer je determinanta:"
   ]
  },
  {
   "cell_type": "code",
   "execution_count": 6,
   "metadata": {
    "collapsed": false
   },
   "outputs": [
    {
     "data": {
      "image/png": "[encoded data removed]",
      "text/latex": [
       "$$A_{11} A_{22} - A_{12} A_{21}$$"
      ],
      "text/plain": [
       "A₁₁⋅A₂₂ - A₁₂⋅A₂₁"
      ]
     },
     "execution_count": 6,
     "metadata": {},
     "output_type": "execute_result"
    }
   ],
   "source": [
    "A.det()"
   ]
  },
  {
   "cell_type": "markdown",
   "metadata": {},
   "source": [
    "Če je matrika koeficientov singularna $|\\mathbf{A}|=0$, potem ima sistem linearnih enačb neskončno veliko rešitev ali pa rešitve sploh nima (odvisno od vektorja konstant $\\mathbf{b}$)."
   ]
  },
  {
   "cell_type": "markdown",
   "metadata": {},
   "source": [
    "Poglejmo si primer sistema, ko so **enačbe linearno odvisne**:"
   ]
  },
  {
   "cell_type": "code",
   "execution_count": 7,
   "metadata": {
    "collapsed": false
   },
   "outputs": [],
   "source": [
    "par1 = {A11: 1, A21: 2, A12: 2, A22: 4, b1: 1, b2: 2}"
   ]
  },
  {
   "cell_type": "code",
   "execution_count": 8,
   "metadata": {
    "collapsed": false
   },
   "outputs": [
    {
     "data": {
      "image/png": "[encoded data removed]",
      "text/latex": [
       "$$\\left[\\begin{matrix}x_{1} + 2 x_{2}\\\\2 x_{1} + 4 x_{2}\\end{matrix}\\right] = \\left[\\begin{matrix}1\\\\2\\end{matrix}\\right]$$"
      ],
      "text/plain": [
       "⎡ x₁ + 2⋅x₂ ⎤ = ⎡1⎤\n",
       "⎢           ⎥   ⎢ ⎥\n",
       "⎣2⋅x₁ + 4⋅x₂⎦   ⎣2⎦"
      ]
     },
     "execution_count": 8,
     "metadata": {},
     "output_type": "execute_result"
    }
   ],
   "source": [
    "lin_odv = eq.subs(par1)\n",
    "lin_odv"
   ]
  },
  {
   "cell_type": "markdown",
   "metadata": {},
   "source": [
    "Ker drugo enačbo dobimo iz prve (z množenjem z 2), ima takšen sistem neskončno rešitev:"
   ]
  },
  {
   "cell_type": "code",
   "execution_count": 9,
   "metadata": {
    "collapsed": false
   },
   "outputs": [
    {
     "data": {
      "image/png": "[encoded data removed]",
      "text/latex": [
       "$$\\left \\{ x_{1} : - 2 x_{2} + 1\\right \\}$$"
      ],
      "text/plain": [
       "{x₁: -2⋅x₂ + 1}"
      ]
     },
     "execution_count": 9,
     "metadata": {},
     "output_type": "execute_result"
    }
   ],
   "source": [
    "solve(lin_odv,[x1, x2])"
   ]
  },
  {
   "cell_type": "markdown",
   "metadata": {},
   "source": [
    "Preverimo še determinanto:"
   ]
  },
  {
   "cell_type": "code",
   "execution_count": 10,
   "metadata": {
    "collapsed": false
   },
   "outputs": [
    {
     "data": {
      "image/png": "[encoded data removed]",
      "text/latex": [
       "$$0$$"
      ],
      "text/plain": [
       "0"
      ]
     },
     "execution_count": 10,
     "metadata": {},
     "output_type": "execute_result"
    }
   ],
   "source": [
    "A.subs(par1).det()"
   ]
  },
  {
   "cell_type": "markdown",
   "metadata": {},
   "source": [
    "Poglejmo še primer, ko **rešitve sploh ni**:"
   ]
  },
  {
   "cell_type": "code",
   "execution_count": 11,
   "metadata": {
    "collapsed": false
   },
   "outputs": [],
   "source": [
    "par2 = {A11: 1, A21: 2, A12: 2, A22: 4, b1: 1, b2: 1}"
   ]
  },
  {
   "cell_type": "code",
   "execution_count": 12,
   "metadata": {
    "collapsed": false
   },
   "outputs": [
    {
     "data": {
      "image/png": "[encoded data removed]",
      "text/latex": [
       "$$\\left[\\begin{matrix}x_{1} + 2 x_{2}\\\\2 x_{1} + 4 x_{2}\\end{matrix}\\right] = \\left[\\begin{matrix}1\\\\1\\end{matrix}\\right]$$"
      ],
      "text/plain": [
       "⎡ x₁ + 2⋅x₂ ⎤ = ⎡1⎤\n",
       "⎢           ⎥   ⎢ ⎥\n",
       "⎣2⋅x₁ + 4⋅x₂⎦   ⎣1⎦"
      ]
     },
     "execution_count": 12,
     "metadata": {},
     "output_type": "execute_result"
    }
   ],
   "source": [
    "ni_res = eq.subs(par2)\n",
    "ni_res"
   ]
  },
  {
   "cell_type": "code",
   "execution_count": 13,
   "metadata": {
    "collapsed": false
   },
   "outputs": [
    {
     "data": {
      "image/png": "[encoded data removed]",
      "text/latex": [
       "$$\\left [ \\right ]$$"
      ],
      "text/plain": [
       "[]"
      ]
     },
     "execution_count": 13,
     "metadata": {},
     "output_type": "execute_result"
    }
   ],
   "source": [
    "solve(ni_res,[x1, x2])"
   ]
  },
  {
   "cell_type": "markdown",
   "metadata": {},
   "source": [
    "Vidmo, da je rešitev ene enačbe v nasprotju z drugo.\n",
    "\n",
    "Preverimo še determinanto:"
   ]
  },
  {
   "cell_type": "code",
   "execution_count": 14,
   "metadata": {
    "collapsed": false
   },
   "outputs": [
    {
     "data": {
      "image/png": "[encoded data removed]",
      "text/latex": [
       "$$0$$"
      ],
      "text/plain": [
       "0"
      ]
     },
     "execution_count": 14,
     "metadata": {},
     "output_type": "execute_result"
    }
   ],
   "source": [
    "A.subs(par2).det()"
   ]
  },
  {
   "cell_type": "markdown",
   "metadata": {},
   "source": [
    "## Slaba pogojenost matrik"
   ]
  },
  {
   "cell_type": "markdown",
   "metadata": {},
   "source": [
    "Za enolično rešitev torej želimo nesingularno determinanto matrike koeficientov! Kaj pa se dogaja z rešitvijo, kadar je determinanta $|\\mathbf{A}|$ **zelo majhna (relativno blizu nič)**?\n",
    "\n",
    "Ker gre za relativno oceno, potrebujemo referenco, ki jo tipično poimenujemo **norma** matrike in označimo z $||\\textbf{A}||$. \n",
    "\n",
    "Za determinanto matrike $\\textbf{A}$ rečemo, da je majhna, kadar velja:\n",
    "$$|\\textbf{A}|\\ll||\\textbf{A}||.$$"
   ]
  },
  {
   "cell_type": "markdown",
   "metadata": {},
   "source": [
    "Obstaja več načino merjenja norme, poglejmo si tukaj dve:\n",
    "* Evklidska norma (tudi Frobeniusova):\n",
    "$$||\\textbf{A}||_e=\\sqrt{\\sum_{i=1}^n\\sum_{j=1}^nA_{ij}^2}$$\n",
    "* Norma vsote vrstic ali tudi neskončna norma:\n",
    "$$||\\textbf{A}||_{\\infty}=\\max_{1\\le i\\le n}\\sum_{j=1}^n |A_{ij}|$$"
   ]
  },
  {
   "cell_type": "markdown",
   "metadata": {},
   "source": [
    "Obstaja pa tudi formalno merilo pogojenosti:"
   ]
  },
  {
   "cell_type": "markdown",
   "metadata": {},
   "source": [
    "$$\\textrm{cond}(\\textbf{A})=||\\textbf{A}||\\,||\\textbf{A}^{-1}||.$$"
   ]
  },
  {
   "cell_type": "markdown",
   "metadata": {},
   "source": [
    "**Če je merilo pogojenosti blizu vrednosti 1, potem govorimo, da je matrika dobro pogojena** in obratno pri slabi pogojenosti se zelo poveča (v primeru singularne matrike proti neskončnosti)."
   ]
  },
  {
   "cell_type": "markdown",
   "metadata": {},
   "source": [
    "#### Poglejmo kaj se dogaja v naših preprostih primerih:"
   ]
  },
  {
   "cell_type": "markdown",
   "metadata": {},
   "source": [
    "Najprej slabo pogojen sistem:"
   ]
  },
  {
   "cell_type": "code",
   "execution_count": 15,
   "metadata": {
    "collapsed": false
   },
   "outputs": [],
   "source": [
    "par3 = {A11: 1, A21: 4, A12: 1, A22: 4.001, b1: 3, b2: 0.}"
   ]
  },
  {
   "cell_type": "code",
   "execution_count": 16,
   "metadata": {
    "collapsed": false
   },
   "outputs": [
    {
     "data": {
      "image/png": "[encoded data removed]",
      "text/latex": [
       "$$\\left[\\begin{matrix}x_{1} + x_{2}\\\\4 x_{1} + 4.001 x_{2}\\end{matrix}\\right] = \\left[\\begin{matrix}3\\\\0.0\\end{matrix}\\right]$$"
      ],
      "text/plain": [
       "⎡    x₁ + x₂    ⎤ = ⎡ 3 ⎤\n",
       "⎢               ⎥   ⎢   ⎥\n",
       "⎣4⋅x₁ + 4.001⋅x₂⎦   ⎣0.0⎦"
      ]
     },
     "execution_count": 16,
     "metadata": {},
     "output_type": "execute_result"
    }
   ],
   "source": [
    "eq.subs(par3)"
   ]
  },
  {
   "cell_type": "code",
   "execution_count": 17,
   "metadata": {
    "collapsed": false
   },
   "outputs": [
    {
     "data": {
      "image/png": "[encoded data removed]",
      "text/latex": [
       "$$\\left \\{ x_{1} : 12003.0, \\quad x_{2} : -12000.0\\right \\}$$"
      ],
      "text/plain": [
       "{x₁: 12003.0, x₂: -12000.0}"
      ]
     },
     "execution_count": 17,
     "metadata": {},
     "output_type": "execute_result"
    }
   ],
   "source": [
    "solve(eq.subs(par3), [x1, x2])"
   ]
  },
  {
   "cell_type": "markdown",
   "metadata": {},
   "source": [
    "Majhna sprememba matrike koeficientov bo povzročila veliko spremembo rezultata:"
   ]
  },
  {
   "cell_type": "code",
   "execution_count": 18,
   "metadata": {
    "collapsed": false
   },
   "outputs": [
    {
     "data": {
      "image/png": "[encoded data removed]",
      "text/latex": [
       "$$\\left \\{ A_{11} : 1, \\quad A_{12} : 1, \\quad A_{21} : 4, \\quad A_{22} : 4.005001, \\quad b_{1} : 3, \\quad b_{2} : 0.0\\right \\}$$"
      ],
      "text/plain": [
       "{A₁₁: 1, A₁₂: 1, A₂₁: 4, A₂₂: 4.005001, b₁: 3, b₂: 0.0}"
      ]
     },
     "execution_count": 18,
     "metadata": {},
     "output_type": "execute_result"
    }
   ],
   "source": [
    "par3[A22] = 1.001*par3[A22]\n",
    "par3"
   ]
  },
  {
   "cell_type": "code",
   "execution_count": 19,
   "metadata": {
    "collapsed": false
   },
   "outputs": [
    {
     "data": {
      "image/png": "[encoded data removed]",
      "text/latex": [
       "$$\\left \\{ x_{1} : 2402.5200959808, \\quad x_{2} : -2399.5200959808\\right \\}$$"
      ],
      "text/plain": [
       "{x₁: 2402.5200959808, x₂: -2399.5200959808}"
      ]
     },
     "execution_count": 19,
     "metadata": {},
     "output_type": "execute_result"
    }
   ],
   "source": [
    "solve(eq.subs(par3), [x1, x2])"
   ]
  },
  {
   "cell_type": "code",
   "execution_count": 20,
   "metadata": {
    "collapsed": false,
    "scrolled": true
   },
   "outputs": [
    {
     "data": {
      "image/png": "[encoded data removed]",
      "text/latex": [
       "$$6806.64512603$$"
      ],
      "text/plain": [
       "6806.64512603"
      ]
     },
     "execution_count": 20,
     "metadata": {},
     "output_type": "execute_result"
    }
   ],
   "source": [
    "np.linalg.cond(np.array(A.subs(par3).tolist(), dtype=float))"
   ]
  },
  {
   "cell_type": "markdown",
   "metadata": {},
   "source": [
    "Sedaj pa dobro pogojeni sistem"
   ]
  },
  {
   "cell_type": "code",
   "execution_count": 21,
   "metadata": {
    "collapsed": false
   },
   "outputs": [],
   "source": [
    "par4 = {A11: 1, A21: 1, A12: 2, A22: 6., b1: 1, b2: 8}"
   ]
  },
  {
   "cell_type": "code",
   "execution_count": 22,
   "metadata": {
    "collapsed": false
   },
   "outputs": [
    {
     "data": {
      "image/png": "[encoded data removed]",
      "text/latex": [
       "$$10.403882032$$"
      ],
      "text/plain": [
       "10.403882032"
      ]
     },
     "execution_count": 22,
     "metadata": {},
     "output_type": "execute_result"
    }
   ],
   "source": [
    "np.linalg.cond(np.array(A.subs(par4).tolist(), dtype=float))"
   ]
  },
  {
   "cell_type": "code",
   "execution_count": 23,
   "metadata": {
    "collapsed": false
   },
   "outputs": [
    {
     "data": {
      "image/png": "[encoded data removed]",
      "text/latex": [
       "$$\\left [ \\left \\{ x_{1} : -2.5, \\quad x_{2} : 1.75\\right \\}\\right ]$$"
      ],
      "text/plain": [
       "[{x₁: -2.5, x₂: 1.75}]"
      ]
     },
     "execution_count": 23,
     "metadata": {},
     "output_type": "execute_result"
    }
   ],
   "source": [
    "solve(eq.subs(par4))"
   ]
  },
  {
   "cell_type": "code",
   "execution_count": 24,
   "metadata": {
    "collapsed": false
   },
   "outputs": [
    {
     "data": {
      "image/png": "[encoded data removed]",
      "text/latex": [
       "$$\\left [ \\left \\{ x_{1} : -2.49475786320519, \\quad x_{2} : 1.7473789316026\\right \\}\\right ]$$"
      ],
      "text/plain": [
       "[{x₁: -2.49475786320519, x₂: 1.7473789316026}]"
      ]
     },
     "execution_count": 24,
     "metadata": {},
     "output_type": "execute_result"
    }
   ],
   "source": [
    "par4[A22] = 1.001*par4[A22]\n",
    "solve(eq.subs(par4))"
   ]
  },
  {
   "cell_type": "markdown",
   "metadata": {},
   "source": [
    "Resnici na ljubo je izračun pogojenosti matrike numerično relativno zahteven (v primeru velih matrik, je inverz zelo zamuden) in zato pogosto primerjamo kar determinanto matrike z velikostjo elementov v matriki."
   ]
  },
  {
   "cell_type": "markdown",
   "metadata": {},
   "source": [
    "## Pristopi k numeričnemu reševanju sistema linearnih algebrajskih enačb"
   ]
  },
  {
   "cell_type": "markdown",
   "metadata": {},
   "source": [
    "Za reševanje sistemov linearnih algebrajskih enačb obstajata dva različna pristopa:\n",
    "\n",
    "A) **Direktni pristop**. Pri direktnem pristopu se nad sistemom izvajajo elementarne operacije, ki ne spreminjajo rešitve, lahko pa spreminjajo vrednost determinante $|\\mathbf{A}|$:\n",
    "   * zamenjava vrstic (spremeni predznak $|\\mathbf{A}|$)\n",
    "   * množenje vrstice z nenično konstanto (vrednost determinante  $|\\mathbf{A}|$ se pomnoži z isto vrednostjo)\n",
    "   * odštevanje vrstic (ne spremeni $|\\mathbf{A}|$)\n",
    "\n",
    "\n",
    "B) **Iterativni pristop**. Iterativne ali nedirektne metode začnejo iskanje z začetnim rešitvijo in jo nato iterativno izboljšujejo. Iterativne metode so načeloma manj natančne, vendar numerično bolj učinkovite pri velikih in/ali redkih (sparse) matrikah.    "
   ]
  },
  {
   "cell_type": "markdown",
   "metadata": {},
   "source": [
    "## Pregled direktnih metod"
   ]
  },
  {
   "cell_type": "markdown",
   "metadata": {},
   "source": [
    "Nekatere najpogosteje uporabljene direktne metode so naštete spodaj. Vse začnejo iz začetnega problema $\\mathbf{A}\\,\\mathbf{x}=\\mathbf{b}$, ki ga z elementarnimi operacijami poskušajo preoblikovati v enostavno rešljivo obliko.\n",
    "\n",
    "|             Metoda          | Končna oblika|\n",
    "|:---------------------------:|:--------:|\n",
    "|||\n",
    "|**Gaussova eliminacija** | $\\mathbf{U}\\,\\mathbf{x}=\\mathbf{c}$ |\n",
    "|**LU razcep (dekompozicija)** | $\\mathbf{L}\\,\\mathbf{U}\\,\\mathbf{x}=\\mathbf{b}$|\n",
    "|**Gauss-Jordan eliminacija** | $\\mathbf{I}\\,\\mathbf{x}=\\mathbf{c}$ |\n",
    "\n",
    "V zgornji tabel $\\mathbf{U}$ predstavlja zgornjo (*upper*) trikotno matriko, $\\mathbf{L}$ predstavlja spodnjo (*lower*) trikotno matriko in $\\mathbf{I}$ predstavlja enotsko matriko. Matriko imenujemo **trikotna**, če ima na eni strani diagonale samo ničelne člene; kakor bomo videli pozneje, nam taka matrika bistveno poenostavi izračune."
   ]
  },
  {
   "cell_type": "markdown",
   "metadata": {},
   "source": [
    "V nadaljevanju si bomo pogledali primer reševanje sistema enačb:"
   ]
  },
  {
   "cell_type": "code",
   "execution_count": 25,
   "metadata": {
    "collapsed": false
   },
   "outputs": [],
   "source": [
    "A = np.array([[8, -6, 3],\n",
    "              [-6, 6, -6],\n",
    "              [3, -6, 6]], dtype=float) # poskusite tukaj izpustiti dtype=float\n",
    "                                        # ter preverite rešitev pri Gaussovi elim.\n",
    "b = np.array([-14, 36, 6])"
   ]
  },
  {
   "cell_type": "markdown",
   "metadata": {},
   "source": [
    "Ponovimo simbolično reševanje:"
   ]
  },
  {
   "cell_type": "code",
   "execution_count": 26,
   "metadata": {
    "collapsed": false
   },
   "outputs": [
    {
     "data": {
      "image/png": "[encoded data removed]",
      "text/latex": [
       "$$\\left[\\begin{matrix}8.0 x_{1} - 6.0 x_{2} + 3.0 x_{3}\\\\- 6.0 x_{1} + 6.0 x_{2} - 6.0 x_{3}\\\\3.0 x_{1} - 6.0 x_{2} + 6.0 x_{3}\\end{matrix}\\right] = \\left[\\begin{matrix}-14.0\\\\36.0\\\\6.0\\end{matrix}\\right]$$"
      ],
      "text/plain": [
       "⎡   8.0⋅x₁ - -6.0⋅(-1)⋅x₂ + 3.0⋅x₃    ⎤ = ⎡-14.0⎤\n",
       "⎢                                     ⎥   ⎢     ⎥\n",
       "⎢--6.0⋅(-1)⋅x₁ + 6.0⋅x₂ - -6.0⋅(-1)⋅x₃⎥   ⎢36.0 ⎥\n",
       "⎢                                     ⎥   ⎢     ⎥\n",
       "⎣   3.0⋅x₁ - -6.0⋅(-1)⋅x₂ + 6.0⋅x₃    ⎦   ⎣ 6.0 ⎦"
      ]
     },
     "execution_count": 26,
     "metadata": {},
     "output_type": "execute_result"
    }
   ],
   "source": [
    "x1, x2, x3 = symbols('x1, x2, x3')\n",
    "b1, b2, b3 = symbols('b1, b2, b3')\n",
    "As = Matrix(A)\n",
    "xs = Matrix([[x1],\n",
    "             [x2],\n",
    "             [x3]])\n",
    "bs = Matrix(np.transpose([b]))\n",
    "eq = Eq(As * xs, bs)\n",
    "eq"
   ]
  },
  {
   "cell_type": "code",
   "execution_count": 27,
   "metadata": {
    "collapsed": false
   },
   "outputs": [
    {
     "data": {
      "image/png": "[encoded data removed]",
      "text/latex": [
       "$$\\left \\{ x_{1} : -14.0, \\quad x_{2} : -24.6666666666667, \\quad x_{3} : -16.6666666666667\\right \\}$$"
      ],
      "text/plain": [
       "{x₁: -14.0, x₂: -24.6666666666667, x₃: -16.6666666666667}"
      ]
     },
     "execution_count": 27,
     "metadata": {},
     "output_type": "execute_result"
    }
   ],
   "source": [
    "solve(eq, x1, x2, x3)"
   ]
  },
  {
   "cell_type": "markdown",
   "metadata": {},
   "source": [
    "Gremo sedaj rešit še numerično, najprej preverimo pogojenost:"
   ]
  },
  {
   "cell_type": "code",
   "execution_count": 28,
   "metadata": {
    "collapsed": false
   },
   "outputs": [
    {
     "data": {
      "image/png": "[encoded data removed]",
      "text/latex": [
       "$$20.9921611728$$"
      ],
      "text/plain": [
       "20.9921611728"
      ]
     },
     "execution_count": 28,
     "metadata": {},
     "output_type": "execute_result"
    }
   ],
   "source": [
    "np.linalg.cond(A)"
   ]
  },
  {
   "cell_type": "markdown",
   "metadata": {},
   "source": [
    "Preverimo najprej rešitev z vgrajeno ``numpy`` funkcijo:"
   ]
  },
  {
   "cell_type": "code",
   "execution_count": 29,
   "metadata": {
    "collapsed": false
   },
   "outputs": [
    {
     "data": {
      "text/plain": [
       "array([-14.        , -24.66666667, -16.66666667])"
      ]
     },
     "execution_count": 29,
     "metadata": {},
     "output_type": "execute_result"
    }
   ],
   "source": [
    "x = np.linalg.solve(A,b)\n",
    "x"
   ]
  },
  {
   "cell_type": "code",
   "execution_count": 30,
   "metadata": {
    "collapsed": false
   },
   "outputs": [
    {
     "data": {
      "text/plain": [
       "array([-14.,  36.,   6.])"
      ]
     },
     "execution_count": 30,
     "metadata": {},
     "output_type": "execute_result"
    }
   ],
   "source": [
    "np.dot(A, x)"
   ]
  },
  {
   "cell_type": "markdown",
   "metadata": {},
   "source": [
    "## Gaussova eliminacija"
   ]
  },
  {
   "cell_type": "markdown",
   "metadata": {},
   "source": [
    "Najprej naredimo razširjeno matriko koeficientov:"
   ]
  },
  {
   "cell_type": "code",
   "execution_count": 31,
   "metadata": {
    "collapsed": false
   },
   "outputs": [
    {
     "data": {
      "text/plain": [
       "array([[  8.,  -6.,   3., -14.],\n",
       "       [ -6.,   6.,  -6.,  36.],\n",
       "       [  3.,  -6.,   6.,   6.]])"
      ]
     },
     "execution_count": 31,
     "metadata": {},
     "output_type": "execute_result"
    }
   ],
   "source": [
    "Ab = np.column_stack((A,b))\n",
    "Ab"
   ]
  },
  {
   "cell_type": "code",
   "execution_count": 32,
   "metadata": {
    "collapsed": false
   },
   "outputs": [
    {
     "name": "stdout",
     "output_type": "stream",
     "text": [
      "Korak: 0\n",
      "[[  8.     -6.      3.    -14.   ]\n",
      " [  0.      1.5    -3.75   25.5  ]\n",
      " [  0.     -3.75    4.875  11.25 ]]\n",
      "Korak: 1\n",
      "[[  8.    -6.     3.   -14.  ]\n",
      " [  0.     1.5   -3.75  25.5 ]\n",
      " [  0.     0.    -4.5   75.  ]]\n"
     ]
    }
   ],
   "source": [
    "(v, s) = Ab.shape\n",
    "# eliminacija\n",
    "for p, pivot_vrsta in enumerate(Ab[:-1]):\n",
    "    for vrsta in Ab[p+1:]:\n",
    "        if pivot_vrsta[p]:\n",
    "            vrsta[p:] = vrsta[p:]-pivot_vrsta[p:]*vrsta[p]/pivot_vrsta[p]\n",
    "    print('Korak: {:g}'.format(p))\n",
    "    print(Ab)"
   ]
  },
  {
   "cell_type": "markdown",
   "metadata": {},
   "source": [
    "Preostane samo še iskanje rešitve (začnemo spodaj):"
   ]
  },
  {
   "cell_type": "code",
   "execution_count": 33,
   "metadata": {
    "collapsed": false
   },
   "outputs": [],
   "source": [
    "x = np.zeros(v) # pripravimo prazni seznam"
   ]
  },
  {
   "cell_type": "markdown",
   "metadata": {},
   "source": [
    "Najprej pogljemo samo določeno vrstico $i$ in delimo $b_i$ z $Ab_{ii}$:"
   ]
  },
  {
   "cell_type": "code",
   "execution_count": 34,
   "metadata": {
    "collapsed": false
   },
   "outputs": [],
   "source": [
    "# delno pravilno, da lažje sledimo\n",
    "for p, pivot_vrsta in enumerate(Ab[::-1]):\n",
    "    x[v-p-1] = (pivot_vrsta[-1]) / (pivot_vrsta[v-p-1])"
   ]
  },
  {
   "cell_type": "code",
   "execution_count": 35,
   "metadata": {
    "collapsed": false
   },
   "outputs": [
    {
     "data": {
      "text/plain": [
       "array([ -1.75      ,  17.        , -16.66666667])"
      ]
     },
     "execution_count": 35,
     "metadata": {},
     "output_type": "execute_result"
    }
   ],
   "source": [
    "x"
   ]
  },
  {
   "cell_type": "markdown",
   "metadata": {},
   "source": [
    "Do določitve $x$ manjka še odštevanje:"
   ]
  },
  {
   "cell_type": "code",
   "execution_count": 36,
   "metadata": {
    "collapsed": false
   },
   "outputs": [],
   "source": [
    "for p, pivot_vrsta in enumerate(Ab[::-1]):\n",
    "    x[v-p-1] = (pivot_vrsta[-1] - np.dot(pivot_vrsta[v-p:-1], x[v-p:]) ) / (pivot_vrsta[v-p-1])"
   ]
  },
  {
   "cell_type": "code",
   "execution_count": 37,
   "metadata": {
    "collapsed": false
   },
   "outputs": [
    {
     "data": {
      "text/plain": [
       "array([-14.        , -24.66666667, -16.66666667])"
      ]
     },
     "execution_count": 37,
     "metadata": {},
     "output_type": "execute_result"
    }
   ],
   "source": [
    "x"
   ]
  },
  {
   "cell_type": "markdown",
   "metadata": {},
   "source": [
    "### Numerična zahtevnost"
   ]
  },
  {
   "cell_type": "markdown",
   "metadata": {},
   "source": [
    "Numerično zahtevnost ocenjujemo po številu matematičnih operacij, ki so potrebne za izračun. \n",
    "Za rešitev $n$ linearnih enačb tako z Gaussovo eliminacijo potrebujemo približno $n^3/3$ matematičnih operacij. Za določitev neznank $\\mathbf{x}$ potrebujemo še dodatnih približno $n^2$ operacij.\n",
    "\n",
    "Pri Gaussovi eliminaciji smo eliminacijo izvedli samo za člene pod diagonalo; če bi z eliminacijo nadaljevali in jo izvedli tudi za člene nad diagonalo, bi izvedli t.i. *Gauss-Jordanovo* eliminacijo za katero pa potrebujemo približno $n^3/3$ operacij* (kar se šteje kot glavna slabost te metode).\n",
    "\n",
    "\\* Nekaj komentarjev na temo števila numeričnih operacij najdete tukaj: [pinm.ladisk.si](http://pinm.ladisk.si/303/kako-dolo%C4%8Damo-numeri%C4%8Dno-zahtevnost-algoritmov)."
   ]
  },
  {
   "cell_type": "markdown",
   "metadata": {},
   "source": [
    "### Povzetek Gaussove eliminacije"
   ]
  },
  {
   "cell_type": "markdown",
   "metadata": {},
   "source": [
    "V ``orodja.py`` shranimo funkcije:"
   ]
  },
  {
   "cell_type": "code",
   "execution_count": 38,
   "metadata": {
    "collapsed": false
   },
   "outputs": [],
   "source": [
    "def gaussova_eliminacija(A, b, prikazi_korake = False):\n",
    "    Ab = np.column_stack(A, b)\n",
    "    for p, pivot_vrsta in enumerate(Ab[:-1]):\n",
    "        for vrsta in Ab[p+1:]:\n",
    "            if pivot_vrsta[p]:\n",
    "                vrsta[p:] = vrsta[p:]-pivot_vrsta[p:]*vrsta[p]/pivot_vrsta[p]\n",
    "        if prikazi_korake:\n",
    "            print('Korak: {:g}'.format(p))\n",
    "            print(Ab)\n",
    "    return Ab\n",
    "def gaussova_el_resitev(Ab):\n",
    "    v = len(Ab)\n",
    "    x = zeros(v)\n",
    "    for p, pivot_vrsta in enumerate(Ab[::-1]):\n",
    "        x[v-p-1] = (pivot_vrsta[-1] - dot(pivot_vrsta[v-p:-1], x[v-p:]) ) / (pivot_vrsta[v-p-1])\n",
    "    return v"
   ]
  },
  {
   "cell_type": "markdown",
   "metadata": {},
   "source": [
    "## LU razcep"
   ]
  },
  {
   "cell_type": "markdown",
   "metadata": {},
   "source": [
    "Kakor smo že zgoraj omenili, pri LU razcepu želimo matriko $\\mathbf{A}$ zapisati kot:\n",
    "$$\\mathbf{A}=\\mathbf{L}\\,\\mathbf{U},$$\n",
    "\n",
    "kjer je $\\mathbf{L}$ spodnja trikotna, $\\mathbf{U}$ pa zgornja trikotna matrika. Tako definiran LU razcep pa ni enolično določen; za enoličnost, ga je potrebno dodatno omejiti. Tri najpogostejši LU razcepi so:\n",
    "\n",
    "| Razcep| Omejitve|\n",
    "|:-----:|:----:|\n",
    "| | |\n",
    "|Doolittle| $L_{ii}=1$|\n",
    "|Crout|$U_{ii}=1$|\n",
    "|Choleski| $\\mathbf{L}=\\mathbf{U}^{T}$|"
   ]
  },
  {
   "cell_type": "markdown",
   "metadata": {},
   "source": [
    "Tukaj si bomo pogledali samo *Doolittle* razcep. \n",
    "\n",
    "Če namesto: \n",
    "$$\\mathbf{A}\\mathbf{x}=\\mathbf{b}$$\n",
    "rešujemo:\n",
    "$$\\mathbf{L}\\underbrace{\\mathbf{U}\\mathbf{x}}_{\\mathbf{y}}=\\mathbf{b},$$\n",
    "oziroma najprej:\n",
    "$$\\mathbf{L}\\,\\mathbf{y}=\\mathbf{b}.$$\n",
    " \n",
    "Do rešitve pridemo v treh korakih:\n",
    "1. določimo matriki $\\mathbf{L}$ in $\\mathbf{U}$,\n",
    "* iz $\\mathbf{L}\\,\\mathbf{y}=\\mathbf{b}$ določimo $\\mathbf{y}$,\n",
    "* iz $\\mathbf{U}\\,\\mathbf{x}=\\mathbf{y}$ določimo $\\mathbf{x}$."
   ]
  },
  {
   "cell_type": "markdown",
   "metadata": {},
   "source": [
    "### Teoretično ozadje"
   ]
  },
  {
   "cell_type": "markdown",
   "metadata": {},
   "source": [
    "Doolittle razcep si bomo pogledali na preprostem primeru in ugotovili, da je zelo povezan z *Gaussovo* eliminacijo.\n",
    "\n",
    "Izpeljavo začnimo na primeru simbolno zapisanih matrik $\\mathbf{L}$ in $\\mathbf{U}$:"
   ]
  },
  {
   "cell_type": "code",
   "execution_count": 39,
   "metadata": {
    "collapsed": false
   },
   "outputs": [],
   "source": [
    "L21, L31, L32 = symbols('L21, L31, L32')\n",
    "U11, U12, U13, U22, U23, U33 = symbols('U11, U12, U13, U22, U23, U33')\n",
    "L = Matrix([[  1,   0,  0],\n",
    "            [L21,   1,  0],\n",
    "            [L31, L32,  1]])\n",
    "U = Matrix([[U11, U12, U13],\n",
    "            [  0, U22, U23],\n",
    "            [  0,   0, U33]])"
   ]
  },
  {
   "cell_type": "markdown",
   "metadata": {},
   "source": [
    "Splošna matrika koeficientov zapisana z $\\mathbf{L}$ in  $\\mathbf{U}$ torej je:"
   ]
  },
  {
   "cell_type": "code",
   "execution_count": 40,
   "metadata": {
    "collapsed": false
   },
   "outputs": [],
   "source": [
    "A = L*U"
   ]
  },
  {
   "cell_type": "code",
   "execution_count": 41,
   "metadata": {
    "collapsed": false
   },
   "outputs": [
    {
     "data": {
      "image/png": "[encoded data removed]",
      "text/latex": [
       "$$\\left[\\begin{matrix}U_{11} & U_{12} & U_{13}\\\\L_{21} U_{11} & L_{21} U_{12} + U_{22} & L_{21} U_{13} + U_{23}\\\\L_{31} U_{11} & L_{31} U_{12} + L_{32} U_{22} & L_{31} U_{13} + L_{32} U_{23} + U_{33}\\end{matrix}\\right]$$"
      ],
      "text/plain": [
       "⎡  U₁₁           U₁₂                   U₁₃          ⎤\n",
       "⎢                                                   ⎥\n",
       "⎢L₂₁⋅U₁₁    L₂₁⋅U₁₂ + U₂₂         L₂₁⋅U₁₃ + U₂₃     ⎥\n",
       "⎢                                                   ⎥\n",
       "⎣L₃₁⋅U₁₁  L₃₁⋅U₁₂ + L₃₂⋅U₂₂  L₃₁⋅U₁₃ + L₃₂⋅U₂₃ + U₃₃⎦"
      ]
     },
     "execution_count": 41,
     "metadata": {},
     "output_type": "execute_result"
    }
   ],
   "source": [
    "A"
   ]
  },
  {
   "cell_type": "markdown",
   "metadata": {},
   "source": [
    "S pomočjo prve vrstice izvedimo sedaj Gaussovo eliminacijo druge in tretje; najprej si pripravimo matriko:"
   ]
  },
  {
   "cell_type": "code",
   "execution_count": 42,
   "metadata": {
    "collapsed": false
   },
   "outputs": [
    {
     "data": {
      "image/png": "[encoded data removed]",
      "text/latex": [
       "$$\\left[\\begin{matrix}0 & 0 & 0\\\\L_{21} U_{11} & L_{21} U_{12} & L_{21} U_{13}\\\\L_{31} U_{11} & L_{31} U_{12} & L_{31} U_{13}\\end{matrix}\\right]$$"
      ],
      "text/plain": [
       "⎡   0        0        0   ⎤\n",
       "⎢                         ⎥\n",
       "⎢L₂₁⋅U₁₁  L₂₁⋅U₁₂  L₂₁⋅U₁₃⎥\n",
       "⎢                         ⎥\n",
       "⎣L₃₁⋅U₁₁  L₃₁⋅U₁₂  L₃₁⋅U₁₃⎦"
      ]
     },
     "execution_count": 42,
     "metadata": {},
     "output_type": "execute_result"
    }
   ],
   "source": [
    "B = Matrix([0*A[0,:],\n",
    "          L21*A[0,:],\n",
    "          L31*A[0,:]])\n",
    "B"
   ]
  },
  {
   "cell_type": "code",
   "execution_count": 43,
   "metadata": {
    "collapsed": false
   },
   "outputs": [
    {
     "data": {
      "image/png": "[encoded data removed]",
      "text/latex": [
       "$$\\left[\\begin{matrix}U_{11} & U_{12} & U_{13}\\\\0 & U_{22} & U_{23}\\\\0 & L_{32} U_{22} & L_{32} U_{23} + U_{33}\\end{matrix}\\right]$$"
      ],
      "text/plain": [
       "⎡U₁₁    U₁₂         U₁₃     ⎤\n",
       "⎢                           ⎥\n",
       "⎢ 0     U₂₂         U₂₃     ⎥\n",
       "⎢                           ⎥\n",
       "⎣ 0   L₃₂⋅U₂₂  L₃₂⋅U₂₃ + U₃₃⎦"
      ]
     },
     "execution_count": 43,
     "metadata": {},
     "output_type": "execute_result"
    }
   ],
   "source": [
    "A1 = A-B\n",
    "A1"
   ]
  },
  {
   "cell_type": "markdown",
   "metadata": {},
   "source": [
    "Nadaljujemo z eliminacijo:"
   ]
  },
  {
   "cell_type": "code",
   "execution_count": 44,
   "metadata": {
    "collapsed": false
   },
   "outputs": [
    {
     "data": {
      "image/png": "[encoded data removed]",
      "text/latex": [
       "$$\\left[\\begin{matrix}0 & 0 & 0\\\\0 & 0 & 0\\\\0 & L_{32} U_{22} & L_{32} U_{23}\\end{matrix}\\right]$$"
      ],
      "text/plain": [
       "⎡0     0        0   ⎤\n",
       "⎢                   ⎥\n",
       "⎢0     0        0   ⎥\n",
       "⎢                   ⎥\n",
       "⎣0  L₃₂⋅U₂₂  L₃₂⋅U₂₃⎦"
      ]
     },
     "execution_count": 44,
     "metadata": {},
     "output_type": "execute_result"
    }
   ],
   "source": [
    "B = Matrix([0*A1[1,:],\n",
    "            0*A1[1,:],\n",
    "          L32*A1[1,:]])\n",
    "B"
   ]
  },
  {
   "cell_type": "code",
   "execution_count": 45,
   "metadata": {
    "collapsed": false
   },
   "outputs": [
    {
     "data": {
      "image/png": "[encoded data removed]",
      "text/latex": [
       "$$\\left[\\begin{matrix}U_{11} & U_{12} & U_{13}\\\\0 & U_{22} & U_{23}\\\\0 & 0 & U_{33}\\end{matrix}\\right]$$"
      ],
      "text/plain": [
       "⎡U₁₁  U₁₂  U₁₃⎤\n",
       "⎢             ⎥\n",
       "⎢ 0   U₂₂  U₂₃⎥\n",
       "⎢             ⎥\n",
       "⎣ 0    0   U₃₃⎦"
      ]
     },
     "execution_count": 45,
     "metadata": {},
     "output_type": "execute_result"
    }
   ],
   "source": [
    "A2 = A1 - B\n",
    "A2"
   ]
  },
  {
   "cell_type": "markdown",
   "metadata": {},
   "source": [
    "Iz zgornje eliminacije ugotovimo:\n",
    "1. matrika $\\mathbf{U}$ je enaka matriki, ki jo dobimo, če izvedemo Gaussovo eliminacijo nad matriko koeficientov $\\mathbf{A}$.\n",
    "* izven diagonalni členi $\\mathbf{L}$ predstavljajo vrednosti, ki smo jih uporabili pri Gaussovi eliminaciji.\n",
    "\n",
    "S tema dvema ugotovitvama smo tudi definirali kako matriki  $\\mathbf{L}$ in  $\\mathbf{U}$ določimo! Poglejmo si na primeru:"
   ]
  },
  {
   "cell_type": "code",
   "execution_count": 46,
   "metadata": {
    "collapsed": false
   },
   "outputs": [],
   "source": [
    "A = np.array([[8, -6, 3],\n",
    "              [-6, 6, -6],\n",
    "              [3, -6, 6]], dtype=float) \n",
    "b = np.array([-14, 36, 6], dtype=float)"
   ]
  },
  {
   "cell_type": "code",
   "execution_count": 47,
   "metadata": {
    "collapsed": false
   },
   "outputs": [
    {
     "name": "stdout",
     "output_type": "stream",
     "text": [
      "Korak: 0\n",
      "[[ 8.    -6.     3.   ]\n",
      " [ 0.     1.5   -3.75 ]\n",
      " [ 0.    -3.75   4.875]]\n",
      "Korak: 1\n",
      "[[ 8.   -6.    3.  ]\n",
      " [ 0.    1.5  -3.75]\n",
      " [ 0.    0.   -4.5 ]]\n"
     ]
    }
   ],
   "source": [
    "(v, s) = A.shape\n",
    "U = A.copy() \n",
    "L = np.zeros_like(A)\n",
    "# eliminacija\n",
    "for p, pivot_vrsta in enumerate(U[:-1]):\n",
    "    for i, vrsta in enumerate(U[p+1:]):\n",
    "        if pivot_vrsta[p]:\n",
    "            m = vrsta[p]/pivot_vrsta[p]\n",
    "            vrsta[p:] = vrsta[p:]-pivot_vrsta[p:]*m\n",
    "            L[p+1+i, p] = m\n",
    "    print('Korak: {:g}'.format(p))\n",
    "    print(U)"
   ]
  },
  {
   "cell_type": "code",
   "execution_count": 48,
   "metadata": {
    "collapsed": false
   },
   "outputs": [
    {
     "data": {
      "text/plain": [
       "array([[ 0.   ,  0.   ,  0.   ],\n",
       "       [-0.75 ,  0.   ,  0.   ],\n",
       "       [ 0.375, -2.5  ,  0.   ]])"
      ]
     },
     "execution_count": 48,
     "metadata": {},
     "output_type": "execute_result"
    }
   ],
   "source": [
    "L"
   ]
  },
  {
   "cell_type": "markdown",
   "metadata": {},
   "source": [
    "Dopolnimo $\\mathbf{L}$:"
   ]
  },
  {
   "cell_type": "code",
   "execution_count": 49,
   "metadata": {
    "collapsed": false
   },
   "outputs": [],
   "source": [
    "for i in range(v):\n",
    "    L[i, i] = 1."
   ]
  },
  {
   "cell_type": "code",
   "execution_count": 50,
   "metadata": {
    "collapsed": false
   },
   "outputs": [
    {
     "data": {
      "text/plain": [
       "array([[ 1.   ,  0.   ,  0.   ],\n",
       "       [-0.75 ,  1.   ,  0.   ],\n",
       "       [ 0.375, -2.5  ,  1.   ]])"
      ]
     },
     "execution_count": 50,
     "metadata": {},
     "output_type": "execute_result"
    }
   ],
   "source": [
    "L"
   ]
  },
  {
   "cell_type": "code",
   "execution_count": 51,
   "metadata": {
    "collapsed": false
   },
   "outputs": [
    {
     "data": {
      "text/plain": [
       "array([-14.,  36.,   6.])"
      ]
     },
     "execution_count": 51,
     "metadata": {},
     "output_type": "execute_result"
    }
   ],
   "source": [
    "b"
   ]
  },
  {
   "cell_type": "markdown",
   "metadata": {},
   "source": [
    "Sedaj lahko rešimo sistem enačb $\\mathbf{L}\\,\\mathbf{y}=\\mathbf{b}$:"
   ]
  },
  {
   "cell_type": "code",
   "execution_count": 52,
   "metadata": {
    "collapsed": false
   },
   "outputs": [],
   "source": [
    "# delna rešitev za lažje sledenje\n",
    "y = np.zeros_like(b, )\n",
    "for i, b_ in enumerate(b):\n",
    "    y[i] = b_# / L[i, i]     "
   ]
  },
  {
   "cell_type": "code",
   "execution_count": 53,
   "metadata": {
    "collapsed": false
   },
   "outputs": [
    {
     "data": {
      "text/plain": [
       "array([-14.,  36.,   6.])"
      ]
     },
     "execution_count": 53,
     "metadata": {},
     "output_type": "execute_result"
    }
   ],
   "source": [
    "y"
   ]
  },
  {
   "cell_type": "code",
   "execution_count": 54,
   "metadata": {
    "collapsed": false
   },
   "outputs": [],
   "source": [
    "y = np.zeros_like(b)\n",
    "for i, b_ in enumerate(b):\n",
    "    y[i] = (b_ - np.dot(L[i, :i], y[:i]))    "
   ]
  },
  {
   "cell_type": "code",
   "execution_count": 55,
   "metadata": {
    "collapsed": false
   },
   "outputs": [
    {
     "data": {
      "text/plain": [
       "array([-14. ,  25.5,  75. ])"
      ]
     },
     "execution_count": 55,
     "metadata": {},
     "output_type": "execute_result"
    }
   ],
   "source": [
    "y"
   ]
  },
  {
   "cell_type": "markdown",
   "metadata": {},
   "source": [
    "Nadaljujemo z reševanjem $\\mathbf{U}\\,\\mathbf{x}=\\mathbf{y}$:"
   ]
  },
  {
   "cell_type": "code",
   "execution_count": 56,
   "metadata": {
    "collapsed": false
   },
   "outputs": [
    {
     "data": {
      "text/plain": [
       "array([[ 8.  , -6.  ,  3.  ],\n",
       "       [ 0.  ,  1.5 , -3.75],\n",
       "       [ 0.  ,  0.  , -4.5 ]])"
      ]
     },
     "execution_count": 56,
     "metadata": {},
     "output_type": "execute_result"
    }
   ],
   "source": [
    "U"
   ]
  },
  {
   "cell_type": "code",
   "execution_count": 57,
   "metadata": {
    "collapsed": false
   },
   "outputs": [
    {
     "data": {
      "text/plain": [
       "array([-14. ,  25.5,  75. ])"
      ]
     },
     "execution_count": 57,
     "metadata": {},
     "output_type": "execute_result"
    }
   ],
   "source": [
    "y"
   ]
  },
  {
   "cell_type": "markdown",
   "metadata": {},
   "source": [
    "Spet gremo po korakih, najprej delno pravilno:"
   ]
  },
  {
   "cell_type": "code",
   "execution_count": 58,
   "metadata": {
    "collapsed": false
   },
   "outputs": [
    {
     "name": "stdout",
     "output_type": "stream",
     "text": [
      "2\n",
      "1\n",
      "0\n"
     ]
    },
    {
     "data": {
      "text/plain": [
       "array([ -1.75      ,  17.        , -16.66666667])"
      ]
     },
     "execution_count": 58,
     "metadata": {},
     "output_type": "execute_result"
    }
   ],
   "source": [
    "x = np.zeros_like(y)\n",
    "for i in range(v-1, -1,-1):\n",
    "    print(i)\n",
    "    x[i] = y[i] / U[i, i]\n",
    "x"
   ]
  },
  {
   "cell_type": "code",
   "execution_count": 59,
   "metadata": {
    "collapsed": false
   },
   "outputs": [
    {
     "data": {
      "text/plain": [
       "array([-14.        , -24.66666667, -16.66666667])"
      ]
     },
     "execution_count": 59,
     "metadata": {},
     "output_type": "execute_result"
    }
   ],
   "source": [
    "x = np.zeros_like(b)\n",
    "for i in range(v-1, -1,-1):\n",
    "    x[i] = (y[i] - np.dot(U[i, i+1:], x[i+1:])) / U[i, i]\n",
    "x"
   ]
  },
  {
   "cell_type": "markdown",
   "metadata": {},
   "source": [
    "### LU razcep povzetek"
   ]
  },
  {
   "cell_type": "markdown",
   "metadata": {},
   "source": [
    "Opomba: naslednjič si bomo pogledali pivotiranje, ki lahko bistveno izboljša stabilnost.\n",
    "\n",
    "V spodnjem zapisu v spominski prostor matrike $\\mathbf{A}$ zapišemo tako $\\mathbf{L}$, kot $\\mathbf{U}$ matriko; to zapišemo takole $[\\mathbf{L}\\backslash \\mathbf{U}]$"
   ]
  },
  {
   "cell_type": "code",
   "execution_count": 60,
   "metadata": {
    "collapsed": false
   },
   "outputs": [],
   "source": [
    "def LU_razcep(A):\n",
    "    \"\"\" Vrne razcep A  kot ``[L\\\\U]`` \"\"\"\n",
    "    # eliminacija\n",
    "    for p, pivot_vrsta in enumerate(A[:-1]):\n",
    "        for i, vrsta in enumerate(A[p+1:]):\n",
    "            if pivot_vrsta[p]!=0:\n",
    "                m = vrsta[p]/pivot_vrsta[p]\n",
    "                vrsta[p:] = vrsta[p:]-pivot_vrsta[p:]*m\n",
    "                vrsta[p] = m\n",
    "    return A"
   ]
  },
  {
   "cell_type": "code",
   "execution_count": 61,
   "metadata": {
    "collapsed": false
   },
   "outputs": [],
   "source": [
    "def LU_resitev(LU, b):\n",
    "    \"\"\" Vrne vrednost x glede na ``[L\\\\U]x=b`` \"\"\"\n",
    "    y = np.zeros_like(b)\n",
    "    x = np.zeros_like(b)\n",
    "    for i, b_ in enumerate(b):\n",
    "        y[i] = (b_ - np.dot(LU[i, :i], y[:i])) \n",
    "    v = len(b)\n",
    "    for i in range(v-1, -1,-1):\n",
    "        x[i] = (y[i] - np.dot(LU[i, i+1:], x[i+1:])) / LU[i, i]\n",
    "    return x"
   ]
  },
  {
   "cell_type": "markdown",
   "metadata": {},
   "source": [
    "Obe funkciji shranimo v ``orodja.py``."
   ]
  },
  {
   "cell_type": "markdown",
   "metadata": {},
   "source": [
    "### Uporaba in zaključki"
   ]
  },
  {
   "cell_type": "markdown",
   "metadata": {},
   "source": [
    "Poglejmo si kratek zgled"
   ]
  },
  {
   "cell_type": "code",
   "execution_count": 62,
   "metadata": {
    "collapsed": false
   },
   "outputs": [],
   "source": [
    "import moduli.orodja as orodja"
   ]
  },
  {
   "cell_type": "code",
   "execution_count": 63,
   "metadata": {
    "collapsed": false
   },
   "outputs": [],
   "source": [
    "A = np.array([[8, -6, 3],\n",
    "              [-6, 6, -6],\n",
    "              [3, -6, 6]], dtype=float) # poskusite tukaj izpustiti dtype=float in \n",
    "b = np.array([-14, 36, 6], dtype=float)"
   ]
  },
  {
   "cell_type": "code",
   "execution_count": 64,
   "metadata": {
    "collapsed": false
   },
   "outputs": [],
   "source": [
    "LU = orodja.LU_razcep(A.copy())"
   ]
  },
  {
   "cell_type": "code",
   "execution_count": 65,
   "metadata": {
    "collapsed": false
   },
   "outputs": [
    {
     "data": {
      "text/plain": [
       "array([[ 8.   , -6.   ,  3.   ],\n",
       "       [-0.75 ,  1.5  , -3.75 ],\n",
       "       [ 0.375, -2.5  , -4.5  ]])"
      ]
     },
     "execution_count": 65,
     "metadata": {},
     "output_type": "execute_result"
    }
   ],
   "source": [
    "LU"
   ]
  },
  {
   "cell_type": "code",
   "execution_count": 66,
   "metadata": {
    "collapsed": true
   },
   "outputs": [],
   "source": [
    "x = orodja.LU_resitev(LU, b)"
   ]
  },
  {
   "cell_type": "code",
   "execution_count": 67,
   "metadata": {
    "collapsed": false
   },
   "outputs": [
    {
     "data": {
      "text/plain": [
       "array([-14.        , -24.66666667, -16.66666667])"
      ]
     },
     "execution_count": 67,
     "metadata": {},
     "output_type": "execute_result"
    }
   ],
   "source": [
    "x"
   ]
  },
  {
   "cell_type": "markdown",
   "metadata": {},
   "source": [
    "Pomembna **prednost** LU razcepa je, da v kolikor se vektor konstant spremeni, ni potrebno ponovno izvesti samega razcepa. Primer:"
   ]
  },
  {
   "cell_type": "code",
   "execution_count": 68,
   "metadata": {
    "collapsed": false
   },
   "outputs": [
    {
     "data": {
      "text/plain": [
       "array([-4.33333333, -7.88888889, -4.55555556])"
      ]
     },
     "execution_count": 68,
     "metadata": {},
     "output_type": "execute_result"
    }
   ],
   "source": [
    "b2 = np.array([-1., 6., 7.])\n",
    "x2 = orodja.LU_resitev(LU, b2)\n",
    "x2"
   ]
  },
  {
   "cell_type": "code",
   "execution_count": 69,
   "metadata": {
    "collapsed": false
   },
   "outputs": [
    {
     "data": {
      "text/plain": [
       "array([-1.,  6.,  7.])"
      ]
     },
     "execution_count": 69,
     "metadata": {},
     "output_type": "execute_result"
    }
   ],
   "source": [
    "A.dot(x2)"
   ]
  },
  {
   "cell_type": "markdown",
   "metadata": {},
   "source": [
    "# Do naslednjih vaj preštudirajte sledeče:"
   ]
  },
  {
   "cell_type": "markdown",
   "metadata": {},
   "source": [
    "1. Sistem enačb: \n",
    "    $$\n",
    "    \\mathbf{A}=\n",
    "    \\begin{bmatrix}\n",
    "    1 & -4 & 1\\\\\n",
    "    1 & 6 & -1\\\\\n",
    "    2 & -1 & 2\n",
    "    \\end{bmatrix}\n",
    "    \\qquad\n",
    "    \\mathbf{b}=\n",
    "    \\begin{bmatrix}\n",
    "    7\\\\\n",
    "    13\\\\\n",
    "    5\n",
    "    \\end{bmatrix}\n",
    "    $$\n",
    "\n",
    "    najdite rešitev s pomočjo ``SymPy``.\n",
    "\n",
    "* Za zgoraj definirano matriko $\\mathbf{A}$ določite Evklidsko normo (lastni program).\n",
    "* Za zgoraj definirano matriko $\\mathbf{A}$ določite neskončno normo (lastni program).\n",
    "* Za zgoraj definirano matriko $\\mathbf{A}$ določite pogojenost (``numpy`` funkcija).\n",
    "* Definirajte funkcijo ``gauss_elim``, ki za poljubno matriko $\\mathbf{A}$ in vektor $\\mathbf{b}$ izvede Gaussovo eliminacijo (posebej za matriko in posebej za vektor).\n",
    "* Definirajte funkcijo ``gauss_elim_x``, ki za razultat funkcije ``gaus_elim`` najde ustrezne vrednosti vektorja $\\textbf{x}$.\n",
    "* Zgornji funkciji dopolnite s štetjem matematičnih operacij.\n",
    "* Definirajte in pojasnite funkcijo ``LU_razcep``, ki za poljubno matriko izvede LU razcep.\n",
    "* Definirajte in pojasnite funkcijo ``LU_resitev``, ki za podani LU razcep in vektor konstant poda rešitev.\n",
    "* Na sliki je prikazan sistem mas:\n",
    "\n",
    "    <img width=600 src=\"./fig/mase na klancu.png\">\n",
    "    \n",
    "    Predpostavite, da se sistem zaradi teže giblje po klancu navzdol z neznanim pospeškom $a$ in da so vrvi napete z neznanimi silami $F_i$. Znane veličine so (sami jih določite): posamično telo ima maso $m_i$, koeficient trenja s podlago $\\mu_i=1$, $g=9,81$m/s$^2$, $\\varphi=55^{\\circ}$.\n",
    "    Določite sistem enačb v primeru dveh teles. Določite matriko koeficientov $\\mathbf{A}$, in vektorja $\\mathbf{b}$ ter $\\mathbf{x}$.\n",
    "* Za zgoraj definiran sistem mas predpostavite, da je mas 4 (ali več) ter določite matriko koeficientov $\\mathbf{A}$, in vektorja $\\mathbf{x}$ ter $\\mathbf{b}$. Rešite sistem s pomočjo Gaussove elimnacije/LU razcepa ali ``numpy.linalg.solve``. Preverite pogojenost!\n",
    "* V sistemu mas dobimo nekonsistentno rešitev, če imamo v kateri od vrvi tlačno silo (vrv ne prenese tlačne sile). Preverite ali je to v vašem primeru res. Ustrezno spremenite koeficient(e) trenja, da se bo to zgodilo."
   ]
  },
  {
   "cell_type": "markdown",
   "metadata": {},
   "source": [
    "Delno rešene vaje se nahajajo [tukaj](./vaje/Vaja 5 - polovica.ipynb)."
   ]
  },
  {
   "cell_type": "markdown",
   "metadata": {},
   "source": [
    "# Ekstra"
   ]
  },
  {
   "cell_type": "markdown",
   "metadata": {},
   "source": [
    "Poglejte si strani:\n",
    "* [micropython.org](http://www.micropython.org)\n",
    "* [kivy.org](http://www.kivy.org)\n",
    "* [openmodal.com](http://www.openmodal.com)"
   ]
  }
 ],
 "metadata": {
  "kernelspec": {
   "display_name": "Python 3",
   "language": "python",
   "name": "python3"
  },
  "language_info": {
   "codemirror_mode": {
    "name": "ipython",
    "version": 3
   },
   "file_extension": ".py",
   "mimetype": "text/x-python",
   "name": "python",
   "nbconvert_exporter": "python",
   "pygments_lexer": "ipython3",
   "version": "3.5.0"
  }
 },
 "nbformat": 4,
 "nbformat_minor": 0
}
