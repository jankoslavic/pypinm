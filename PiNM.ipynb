{
 "cells": [
  {
   "cell_type": "markdown",
   "metadata": {
    "slideshow": {
     "slide_type": "slide"
    }
   },
   "source": [
    "<font size=\"2\"> [github.com/jankoslavic/pypinm](http://github.com/jankoslavic/pypinm)</font>\n",
    "\n",
    "[Prof. dr. Janko Slavič](http://www.ladisk.si/~slavic)\n",
    "\n",
    "<center>\n",
    "<img width=300 src=\"./fig/ladisk.png\">\n",
    "<br>\n",
    "<font size=\"7\" color=\"f00e0e\" face=\"garamond\"><b>Programiranje in numerične metode 2020/21 <br><br> študijski in izpitni red</b></font>\n",
    "<br><br>\n",
    "<font size=\"2\">Februar 2022</font>\n",
    "</center>"
   ]
  },
  {
   "cell_type": "markdown",
   "metadata": {
    "slideshow": {
     "slide_type": "slide"
    }
   },
   "source": [
    "# Predavanja / vaje"
   ]
  },
  {
   "cell_type": "markdown",
   "metadata": {
    "slideshow": {
     "slide_type": "fragment"
    }
   },
   "source": [
    "**Predavanja**: \n",
    "* **T** 10:30 V/2\n",
    "    * **Prof. dr. Janko Slavič** (DS-P3, 01 4771 226, janko.slavic@fs.uni-lj.si)\n",
    "\n",
    "**Vaje**:\n",
    "\n",
    "| Ura  | as. Domen Gorjup | as. Klemen Zaletelj |\n",
    "| ---  | ------------- | ------------- |\n",
    "| 13:30|               | **Č1** (II/1) |\n",
    "| 15:30| **Č2** (II/1) |               |\n",
    "| 7:30 | **P1** (II/1) | **P2** (I/4)  |\n",
    "| 9:30 | **P3** (II/1) | **P4** (I/4)  |\n",
    "| 11:30| **P5** (II/1) |               |\n",
    "| 12:30|               | **P6** (I/4)  |\n",
    "| 14:00|               | **P7** (I/4)  |"
   ]
  },
  {
   "cell_type": "markdown",
   "metadata": {
    "slideshow": {
     "slide_type": "subslide"
    }
   },
   "source": [
    "Spletne povezave do predavanj in vaj so zbrane v [e-učilnici](https://e-ucilnica.fs.uni-lj.si/course/view.php?id=181).\n",
    "\n",
    "**Govorilne ure**\n",
    "* **ponedeljek, 13:30** (Zoom povezava v [e-učilnici](https://e-ucilnica.fs.uni-lj.si/course/view.php?id=181))\n",
    "\n",
    "Asistenti:\n",
    "* as. Domen Gorjup, (DS-P5, 01 4771 228, domen.gorjup@fs.uni-lj.si)\n",
    "* as. Klemen Zaletelj, (DS-P5, 01 4771 228, klemen.zaletelj@fs.uni-lj.si)"
   ]
  },
  {
   "cell_type": "markdown",
   "metadata": {
    "slideshow": {
     "slide_type": "subslide"
    }
   },
   "source": [
    "**Spremljanje sprotnega študija, obvestila itd**\n",
    "\n",
    "Sproten študij bomo izvajali s pomočjo: [moj.ladisk.si](http://moj.ladisk.si/). Za prijavo uporabite email, ki ga imate v VIS-u. Video prikaz prijave: [če imate gmail](https://www.youtube.com/watch?v=kGhOcmRSJG4), [poljubni drugi email](https://www.youtube.com/watch?v=mYBZpz3bico).\n",
    "\n",
    "**Vprašanja in odgovori:**\n",
    "\n",
    "Vprašanja na temo predmeta ali tudi širše lahko postavite/odgovorite na portalu: [pinm.ladisk.si](http://pinm.ladisk.si)."
   ]
  },
  {
   "cell_type": "markdown",
   "metadata": {},
   "source": [
    "**Spletna učilnica (e-ucilnica.fs.uni-lj.si)**\n",
    "\n",
    "\n",
    "Spletne povezave do predavanj in vaj in s tem povezane vsebine najdete v [e-učilnici](https://e-ucilnica.fs.uni-lj.si/course/view.php?id=181).\n",
    "\n"
   ]
  },
  {
   "cell_type": "markdown",
   "metadata": {
    "slideshow": {
     "slide_type": "subslide"
    }
   },
   "source": [
    "**Razpored predavanj**\n",
    "\n",
    "1. [22.feb in 1. mar: Uvod v Python](Predavanje%2001%20-%20Uvod%20v%20Python.ipynb)\n",
    "2. [8. in 15. mar: Print, delo z datotekami, funkcije, moduli](Predavanje%2002%20-%20Print,%20delo%20z%20datotekami,%20funkcije,%20moduli.ipynb)\n",
    "3. [15. in 22.mar: Moduli, numpy, matplotlib](Predavanje%2003%20-%20Moduli,%20numpy,%20matplotlib.ipynb)\n",
    "4. [29.mar in 5.apr: Objektno programiranje, simbolno računanje](Predavanje%2004%20-%20Objektno%20programiranje,%20simbolno%20računanje.ipynb)\n",
    "\n"
   ]
  },
  {
   "cell_type": "markdown",
   "metadata": {
    "slideshow": {
     "slide_type": "subslide"
    }
   },
   "source": [
    "6. [12.apr: Uvod v numerične metode in sistemi linearnih algebrajskih enačb 1](Predavanje%2005%20-%20Uvod%20v%20numerične%20metode%20in%20sistemi%20linearnih%20enačb%201.ipynb)\n",
    "   ([Sistemi linearnih enačb 2*](Predavanje%2006%20-%20Sistemi%20linearnih%20enačb%202.ipynb))\n",
    "7. [19.apr: Interpolacija](Predavanje%2007%20-%20Interpolacija.ipynb)\n",
    "8. [26.apr: Aproksimacija](Predavanje%2008%20-%20Aproksimacija.ipynb)\n",
    "9. [3.maj: Reševanje enačb](Predavanje%2009%20-%20Reševanje%20enačb.ipynb)\n",
    "10. [10.maj: Numerično odvajanje](Predavanje%2010%20-%20Numerično%20odvajanje.ipynb)\n",
    "11. [17.maj: Numerično integriranje](Predavanje%2011%20-%20Numerično%20integriranje.ipynb)\n",
    "12. [24.maj: Testiranje pravilnosti kode, uporabniški vmesnik](Predavanje%2014%20-%20Testiranje%20pravilnosti%20kode,%20uporabniški%20vmesnik.ipynb)\n",
    "\n",
    "  31.maj: Izbrane fakultativne vsebine\n",
    "13. [Numerično reševanje diferencialnih enačb - začetni problem*](Predavanje%2012%20-%20Numerično%20reševanje%20diferencialnih%20enačb%20-%20začetni%20problem.ipynb)\n",
    "14. [Numerično reševanje diferencialnih enačb - robni problem*](Predavanje%2013%20-%20Numerično%20reševanje%20diferencialnih%20enačb%20-%20robni%20problem.ipynb)\n",
    "15. [Uvod v Mathematico*](+Uvod%20v%20Mathematico.nb)\n",
    "\n",
    "\\* Fakultativno predavanje. Študentje Fakultete za strojništvo UNI-LJ imate možnost pridobiti licenčno verzijo programa Mathematica na tej [povezavi](http://www.fs.uni-lj.si/studijska_dejavnost/it_podpora/programska_oprema_za_studente/2015071415154271/Registracija%20Mathematica/)."
   ]
  },
  {
   "cell_type": "markdown",
   "metadata": {
    "slideshow": {
     "slide_type": "slide"
    }
   },
   "source": [
    "# Sprotni študij\n",
    "<img src=\"./fig/flowchart_pridobitev_ocene_pinm.png\">"
   ]
  },
  {
   "cell_type": "markdown",
   "metadata": {
    "slideshow": {
     "slide_type": "subslide"
    }
   },
   "source": [
    "## Sestava ocene\n",
    "\n",
    "* 7.5% sodelovanje pri predavanjih\n",
    "* 30% sodelovanje pri vajah* (vsaj 50%)\n",
    "* 7.5% tedenske domače naloge (osnove ekosistema Pythona) (vsaj 50%)\n",
    "* 15% tedenske domače naloge (numerične metode) (vsaj 50%)\n",
    "* 40% individualni projekt (vsaj 50%)\n",
    "\n",
    "\\* Na predavanja in vaje morate priti pripravljeni; uporabili bomo nekatere principe obratnega učenja! Če ne morete priti na vaje, pridete na prve govorilne ure na katere lahko. "
   ]
  },
  {
   "cell_type": "markdown",
   "metadata": {
    "slideshow": {
     "slide_type": "subslide"
    }
   },
   "source": [
    "## Sodelovanje na vajah\n",
    "\n",
    "Lestvica ocenjevanja je:\n",
    "\n",
    "  * 100% - uspešno odgovorite vprašanje: tekoče napišete ustrezen program in ga tudi ustrezno argumentirate,\n",
    "  * 75% - na vprašanje odgovorite delno, vendar z zadovoljivim razumevanjem.\n",
    "  * 50% - na vprašanje odgovorite delno.\n",
    "  * 0% - na vprašanje odgovorite z nezadovoljivim razumevanjem (tudi, če je koda pravilno napisana).\n",
    "  * 0% - niste prisotni na vajah.\n",
    "\n",
    "Če ste na vajah prisotni in niste vprašani oziroma se ne javite sami, se to ne šteje k povprečju ocene vaj.\n",
    "Če ste bili ocenjeni z 0%, potem lahko oceno popravite na prvih naslednjih govorilnih urah, vendar lahko dosežete max 75%."
   ]
  },
  {
   "cell_type": "markdown",
   "metadata": {
    "slideshow": {
     "slide_type": "subslide"
    }
   },
   "source": [
    "## Individualni projekt\n",
    "\n",
    "Se navezuje na poljubno vsebino katerega-koli predmeta na FS in ga študent definira sam.\n",
    "Projekt mora vsebovati sledeče vsebine: \n",
    "* *obdelava podatkov*, \n",
    "* *simbolno reševanje*, \n",
    "* *sistemi linearnih enačb*, \n",
    "* *interpolacija ali aproksimacija*,\n",
    "* *iskanje ničel*, \n",
    "* *integriranje ali odvajanje*, "
   ]
  },
  {
   "cell_type": "markdown",
   "metadata": {
    "slideshow": {
     "slide_type": "subslide"
    }
   },
   "source": [
    "Ocena individualnega projekta je sestavljena iz: \n",
    "* *numerična pravilnost* (30%), \n",
    "* *struktura, urejenost, uporaba lastnih modulov, stil kode (docstringi)* (30%), \n",
    "* *lasten odnos / kreativni dodatek* (30%),* \n",
    "* *pripravljeni testi kode in/ali uporabniški vmesnik* (10%)."
   ]
  },
  {
   "cell_type": "markdown",
   "metadata": {},
   "source": [
    "**Navodila za oddajo projekta:**\n",
    "* Rok za oddajo projekta je naveden spodaj ([Pomembni datumi](#Pomembni-datumi)).\n",
    "* Za izdelavo projekta uporabite **predlogo**, ki jo najdete [tukaj](https://github.com/jankoslavic/pypinm/blob/master/projekt/Individualni%20projekt%20-%20predloga.ipynb). \n",
    "* Projekt oddajte v obliki ``zip`` datoteke z imenom: **Ime in priimek, vpisna številka.zip**. Primer: ``Janez Novak, 23201111.zip``.\n",
    "* Velikost ``zip`` datoteke naj ne presega **25 MB**.\n",
    "* Datoteko pošljete na email **svojega** asistenta. V **zadevo** vpišite: ``Oddaja projekta - Programiranje in numerične Methode``.\n",
    "\n",
    "\n",
    "**Pred oddajo:**\n",
    "* v projektu zakomentirajte (dodajte **#**) morebitno namestitev dodatnih paketov in funkcije ``%%timeit``:\n",
    "```\n",
    "# !pip install ime_paketa\n",
    "# %%timeit\n",
    "```\n",
    "* naredite ``Kernel`` $\\to$ ``Restart`` in nato ``Cell`` $\\to$ ``Run All``. Prepričajte, da se vse celice izvedejo pravilno."
   ]
  },
  {
   "cell_type": "markdown",
   "metadata": {
    "slideshow": {
     "slide_type": "subslide"
    }
   },
   "source": [
    "\\* Kot **kreativni dodatek** se tretira programska vsebina, ki na predavanjih in vajah ni bila posebej obravnavana. Kot na primer:\n",
    "\n",
    "\n",
    "* animacija rezultatov z uporabo matplotlib-a,\n",
    "* druge oblike naprednih prikazov (Plotly, Bokeh, vispy, pyqtgraph, VTK...),\n",
    "* avtomatsko branje podatkov iz spleta, pošiljanje rezultatov po elektronski pošti,\n",
    "* strojno generiranje poročila,\n",
    "* uporaba knjižnjice Pandas, zapis rezultatov v bazo podatkov, MS Excel,\n",
    "* uporaba platform Raspberry Pi, Arduino, zajem podatkov,\n",
    "* izdelava spletne aplikacije (Flask, Django),\n",
    "* uporaba modulov in knjižnic, kot so scikit-learn, TensorFlow, PyOpenCV.\n"
   ]
  },
  {
   "cell_type": "markdown",
   "metadata": {
    "slideshow": {
     "slide_type": "subslide"
    }
   },
   "source": [
    "## Domače naloge (moj.ladisk.si)\n",
    "\n",
    "**Splošna navodila za reševanje**\n",
    "\n",
    "Tedenske domače naloge vam dodelimo v sistemu [moj.ladisk.si](https://moj.ladisk.si/). Domače naloge rešujete v okolju Jupyter Notebook.\n",
    "\n",
    "\n",
    "* Datoteke, ki jih prenesete s spleta, shranite v obliki `.zip` arhiva (če vaš brskalnik datoteki ne doda končnice `.zip`, to storite sami).\n",
    "\n",
    "* Arhiv z datotekami, ki ga prenesete s spleta, razpakirate v celoti.\n",
    "* V mapi z razpakiranimi datotekami odprete ukazno okno in poženete ukaz `jupyter notebook`.\n",
    "* Celice v `.ipynb` datoteki z domačo nalogo poganjate po vrsti (tudi celice povsem na vrhu datoteke!).\n",
    "* Rezultati so pri reševanju posredovani v spletni sistem moj.ladisk.si in se samodejno sprotno preverjajo. Pri reševanju je **nujna povezava s spletom**.\n",
    "\n",
    "Pripravili smo tudi [video navodila za reševanje](https://www.youtube.com/watch?v=6flGZqLKQh0).\n"
   ]
  },
  {
   "cell_type": "markdown",
   "metadata": {
    "slideshow": {
     "slide_type": "subslide"
    }
   },
   "source": [
    "**Časovna omejitev reševanja domačih nalog**\n",
    "\n",
    "Domače naloge imajo definiran čas *okna za reševanje*:\n",
    "* Do odprtja okna za reševanje je možno **predčasno reševanje naloge brez časovne omejitve**.\n",
    "\n",
    "* V oknu za reševanje je dovoljen čas reševanja naloge omejen. Časovna omejitev teče od trenutka, ko *znotraj okna za reševanje* nalogo prvič odprete.\n",
    "* Po zaprtju okna se naloga zapre, reševanje **ni več možno**.\n",
    "\n",
    "Svetujemo vam, da *čim večji del naloge rešite v času predčasnega reševanja, pred odprtjem okna za reševanje*.\n",
    "\n",
    "**Uporaba Jokerja za premik obveznosti**\n",
    "\n",
    "Vsakemu študentu sta pri predmetu na voljo dva Jokerja, ki jih lahko uporabite za premik obveznosti v prihodnost.\n",
    "* Z uporabo Jokerja lahko okno za reševanje domače naloge premaknete za $\\leq$ 14 dni naprej.\n",
    "* Uporaba jokerja **ni možna, če ste nalogo že odprli**.\n",
    "* Pred pričetkom okna za reševanje je za premik naloge potreben en Joker, v času okna za reševanje pa dva."
   ]
  },
  {
   "cell_type": "markdown",
   "metadata": {
    "slideshow": {
     "slide_type": "subslide"
    }
   },
   "source": [
    "## Predlog ocene na podlagi sprotnega študija\n",
    "\n",
    "Predlog ocene:\n",
    "* 50,0 do 57,5%: 6/6\n",
    "* 62,5 do 67,5%: 7/7\n",
    "* 72,5 do 77,5%: 8/8\n",
    "* 82,5 do 87,5%: 9/9\n",
    "* 92,5 do 100%: 10/10\n",
    "\n",
    "(Nedefinirana področja so vmesne ocene.)\n",
    "   \n",
    "Individualni projekt in predlog ocene se zagovarja na ustnem zagovoru.\n",
    "\n",
    "Pri zagovoru upoštevamo tudi kvalitativno oceno sodelovanja na vajah, predavanjih ali pinm.ladisk.si (1000 točk je ekvivalent 1xP). Glejte [tudi](http://lab.fs.uni-lj.si/ladisk/data/wiki/my.ladisk.si/doku.php?id=start#kaj_pomenijo_oznake_v_stolpcu_komentar)."
   ]
  },
  {
   "cell_type": "markdown",
   "metadata": {
    "slideshow": {
     "slide_type": "subslide"
    }
   },
   "source": [
    "## Pomembni datumi\n",
    "1. Oddaja individualnega projekta: torek, 31. maj 2022, do 12h *.\n",
    "1. Zagovori: prvi teden poletnega izpitnega obdobja.\n",
    "\n",
    "\\* V primeru oddaje vsaj 1 teden **pred rokom**, se uspeh množi z $1.1$; v primeru **zamude** pa se upeh množi z $0.9^n$, kjer je $n$ število začetih dni zamude."
   ]
  },
  {
   "cell_type": "markdown",
   "metadata": {
    "slideshow": {
     "slide_type": "slide"
    }
   },
   "source": [
    "# Izpit"
   ]
  },
  {
   "cell_type": "markdown",
   "metadata": {},
   "source": [
    "Če izpolnjujete pogoje za pristop k izpitu, potem lahko obveznosti opravite tudi z izpitom. Izpit se opravlja v dveh delih: 50 min preverjanje uporabe numeričnih metod za računalnikom (tipično dve nalogi, s sabo imate lahko poljubne pisne vire, dostopa do interneta ni, [glejte primere nalog](https://github.com/jankoslavic/pypinm/tree/master/primeri%20nalog%20in%20izpita/primer%20izpita)), nato 60 min za tri teoretična vprašanja ([glejte primere vprašanj](https://github.com/jankoslavic/pypinm/blob/master/primeri%20nalog%20in%20izpita/NM_teorija.pdf)). Za pozitivno oceno morata biti oba dela pozitivna."
   ]
  },
  {
   "cell_type": "markdown",
   "metadata": {
    "slideshow": {
     "slide_type": "slide"
    }
   },
   "source": [
    "# Literatura"
   ]
  },
  {
   "cell_type": "markdown",
   "metadata": {},
   "source": [
    "1. Slavič J.: Programiranje in numerične metode s Pythonom, [izvršljiva knjiga](https://github.com/jankoslavic/pypinm) ali [spletna knjiga](https://jankoslavic.github.io/pypinm.io/) ali [pdf](https://github.com/jankoslavic/pypinm/raw/master/pdf/Programiranje%20in%20numeri%C4%8Dne%20metode%20v%20ekosistemu%20Pythona%20-%20zadnja%20verzija.pdf), 2015-\n",
    "1. Petrišič J.: Uvod v Matlab za inženirje, 2011\n",
    "1. Demšar J. Python za programerje, 2012 (dosegljiva na spletu: http://goo.gl/PK1rUZ, glejte tudi to spletno učilnico: http://goo.gl/n4pVUe)\n",
    "1. Nicolas P. Rougier: From Python to Numpy, 2017 [spletna knjiga](http://www.labri.fr/perso/nrougier/from-python-to-numpy/)\n",
    "1. Kiusalaas J: Numerical Methods in Engineering with Python 3, 2013\n",
    "1. Fangohr H. Python for Computational Science and Engineering, 2014  (dosegljiva na spletu: http://goo.gl/nCOfY0)\n",
    "1. Bucky R. Python 3.4 Programming Tutorials (videi dosegljivi na: http://goo.gl/ie6nfD)\n",
    "1. [Projekt TOMO](https://www.projekt-tomo.si) (več vsebin, glejte predvsem predmete na FMF in FRI)\n",
    "1. [Scipy Lecture Notes](http://www.scipy-lectures.org/)\n",
    "1. Uporaba paketov Numpy, Scipy itd za inženirje [Mr. P Solver (YouTube)](https://www.youtube.com/channel/UCKaYxkHrmsQePZFpzF9b7sQ)\n",
    "\n",
    "Nekatere spletne učilnice na temo Pythona najdete na [pinm.ladisk.si](http://pinm.ladisk.si/9/katera-so-najbolj%C5%A1e-spletne-u%C4%8Dilnice-za-u%C4%8Denje-pythona)"
   ]
  },
  {
   "cell_type": "markdown",
   "metadata": {
    "slideshow": {
     "slide_type": "slide"
    }
   },
   "source": [
    "# Pogoji za poslušanje v naprej?"
   ]
  },
  {
   "cell_type": "markdown",
   "metadata": {},
   "source": [
    "Predmeta ni mogoče opravljati v naprej."
   ]
  }
 ],
 "metadata": {
  "anaconda-cloud": {},
  "celltoolbar": "Slideshow",
  "kernelspec": {
   "display_name": "Python 3 (ipykernel)",
   "language": "python",
   "name": "python3"
  },
  "language_info": {
   "codemirror_mode": {
    "name": "ipython",
    "version": 3
   },
   "file_extension": ".py",
   "mimetype": "text/x-python",
   "name": "python",
   "nbconvert_exporter": "python",
   "pygments_lexer": "ipython3",
   "version": "3.10.1"
  },
  "latex_envs": {
   "bibliofile": "biblio.bib",
   "cite_by": "apalike",
   "current_citInitial": 1,
   "eqLabelWithNumbers": true,
   "eqNumInitial": 0
  },
  "livereveal": {
   "theme": "sky",
   "transition": "default",
   "width": 1200
  },
  "nav_menu": {},
  "toc": {
   "base_numbering": 1,
   "nav_menu": {
    "height": "209px",
    "width": "252px"
   },
   "number_sections": true,
   "sideBar": true,
   "skip_h1_title": false,
   "title_cell": "Kazalo",
   "title_sidebar": "Kazalo",
   "toc_cell": false,
   "toc_position": {},
   "toc_section_display": "block",
   "toc_window_display": false
  }
 },
 "nbformat": 4,
 "nbformat_minor": 2
}
