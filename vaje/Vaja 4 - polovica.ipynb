{
 "cells": [
  {
   "cell_type": "markdown",
   "metadata": {},
   "source": [
    "Marec 2015, J.Slavič in L.Knez"
   ]
  },
  {
   "cell_type": "markdown",
   "metadata": {},
   "source": [
    "Vprašanje 1: Pojasnite na primeru *proceduralno* in *funkcijsko* programiranje."
   ]
  },
  {
   "cell_type": "code",
   "execution_count": 1,
   "metadata": {
    "collapsed": false
   },
   "outputs": [
    {
     "name": "stdout",
     "output_type": "stream",
     "text": [
      "120\n"
     ]
    }
   ],
   "source": [
    "# Primer izračuna fakultete\n",
    "n = 5  \n",
    "\n",
    "f = 1\n",
    "for i in range(n):\n",
    "    f *= i+1\n",
    "\n",
    "rezultat = f\n",
    "print(rezultat)"
   ]
  },
  {
   "cell_type": "code",
   "execution_count": 2,
   "metadata": {
    "collapsed": false
   },
   "outputs": [
    {
     "name": "stdout",
     "output_type": "stream",
     "text": [
      "120\n"
     ]
    }
   ],
   "source": [
    "from functools import reduce\n",
    "#?reduce()\n",
    "def fakulteta_2(n):\n",
    "    return reduce(lambda x,y: x*y, range(1, n+1))\n",
    "\n",
    "print(fakulteta_2(5))"
   ]
  },
  {
   "cell_type": "markdown",
   "metadata": {},
   "source": [
    "Vprašanje 2: Definirajte preprosti objekt, naredite nekaj funkcij temu objektu."
   ]
  },
  {
   "cell_type": "code",
   "execution_count": 3,
   "metadata": {
    "collapsed": true
   },
   "outputs": [],
   "source": [
    "# Objekti temeljijo na razredih\n",
    "import numpy as np\n",
    "\n",
    "class Valj:\n",
    "    \"\"\" Objekt, ki poda ali pa izračuna lastnosti valja.\"\"\"\n",
    "    \n",
    "    def __init__(self, polmer=2, visina=5, gostota=0): # Konstruktor objekta\n",
    "        self.polmer = polmer\n",
    "        self.visina = visina\n",
    "        self.gostota = gostota\n",
    "        \n",
    "    tip = 'Telo'  # Lastnost, ki bo enaka pri vseh objektih\n",
    "    \n",
    "    def def_polmer(self, polmer):  # Spremenimo polmer\n",
    "        self.polmer = polmer\n",
    "        \n",
    "    def def_visina(self, visina):  # Spremenimo višino\n",
    "        self.visina = visina\n",
    "    \n",
    "    def def_gostota(self, gostota): # Spremenimo gostoto\n",
    "        self.gostota = gostota\n",
    "    \n",
    "    def volumen(self):  # Izračuna volumen glede na aktualne podatke\n",
    "        _ = np.pi * self.polmer**2 * self.visina\n",
    "        return _\n",
    "        \n",
    "    def masa(self):  # Izračuna maso glede na aktualen volumen\n",
    "        _ = self.volumen() * self.gostota  # self.volumen() !! Drugače je metoda*int kar vrne error\n",
    "        return _"
   ]
  },
  {
   "cell_type": "code",
   "execution_count": 4,
   "metadata": {
    "collapsed": false
   },
   "outputs": [
    {
     "name": "stdout",
     "output_type": "stream",
     "text": [
      "Volumen:  28.274333882308138\n",
      "Masa:  28274.33388230814\n",
      "Novi volumen:  78.53981633974483\n",
      "Nova masa: 196349.5408493621\n"
     ]
    }
   ],
   "source": [
    "# Kreiramo objekt\n",
    "valj1 = Valj(3, 1, 1000)\n",
    "\n",
    "# Izpišemo volumen in maso\n",
    "print('Volumen: ', valj1.volumen())\n",
    "print('Masa: ', valj1.masa())\n",
    "\n",
    "# spremenimo polmer in gostoto\n",
    "valj1.def_polmer(5)\n",
    "valj1.def_gostota(2500)\n",
    "\n",
    "# Izpišemo nove rezultate\n",
    "print('Novi volumen: ', valj1.volumen())\n",
    "print('Nova masa:', valj1.masa())"
   ]
  },
  {
   "cell_type": "markdown",
   "metadata": {},
   "source": [
    "Vprašanje 3 in 4:"
   ]
  },
  {
   "cell_type": "code",
   "execution_count": 5,
   "metadata": {
    "collapsed": true
   },
   "outputs": [],
   "source": [
    "class Meritev():\n",
    "    \"\"\"Objekt za delo z meritvami\"\"\"\n",
    "    \n",
    "    def __init__(self, dolzina=1):\n",
    "        self.data = np.random.rand(dolzina)"
   ]
  },
  {
   "cell_type": "code",
   "execution_count": 6,
   "metadata": {
    "collapsed": true
   },
   "outputs": [],
   "source": [
    "mer = Meritev(dolzina=10)"
   ]
  },
  {
   "cell_type": "code",
   "execution_count": 7,
   "metadata": {
    "collapsed": false
   },
   "outputs": [
    {
     "data": {
      "text/plain": [
       "array([ 0.8072141 ,  0.17587614,  0.91655953,  0.35209995,  0.42632983,\n",
       "        0.32890986,  0.65120093,  0.63513043,  0.70834575,  0.94418833])"
      ]
     },
     "execution_count": 7,
     "metadata": {},
     "output_type": "execute_result"
    }
   ],
   "source": [
    "mer.data"
   ]
  },
  {
   "cell_type": "markdown",
   "metadata": {},
   "source": [
    "..."
   ]
  },
  {
   "cell_type": "markdown",
   "metadata": {},
   "source": [
    "Vprašanje 8: Uvozite ves naslovni prostor iz ``SymPy``. Nastavite lep izpis rezultatov."
   ]
  },
  {
   "cell_type": "code",
   "execution_count": 4,
   "metadata": {
    "collapsed": false
   },
   "outputs": [],
   "source": [
    "from sympy import *\n",
    "init_printing()"
   ]
  },
  {
   "cell_type": "markdown",
   "metadata": {},
   "source": [
    "Vprašanje 9: Za trikotnik na sliki definirajte funkcijo za izračun ploščine in volumna.\n",
    "\n",
    "Vprašanje 10: Izračunajte številčne vrednosti (podatki naj bodo definirani v slovarju in si jih izmislite)."
   ]
  },
  {
   "cell_type": "code",
   "execution_count": 8,
   "metadata": {
    "collapsed": false
   },
   "outputs": [],
   "source": [
    "a, b, c = symbols('a b c')\n",
    "podatki = {a: 1, b: 2, c: 0.01}"
   ]
  },
  {
   "cell_type": "code",
   "execution_count": 9,
   "metadata": {
    "collapsed": false
   },
   "outputs": [],
   "source": [
    "ploscina = a*b/2\n",
    "volumen = ploscina*c"
   ]
  },
  {
   "cell_type": "code",
   "execution_count": 10,
   "metadata": {
    "collapsed": false
   },
   "outputs": [
    {
     "data": {
      "text/plain": [
       "1"
      ]
     },
     "execution_count": 10,
     "metadata": {},
     "output_type": "execute_result"
    }
   ],
   "source": [
    "ploscina.subs(podatki)  # Podatke vstavimo kar v obliki slovarja"
   ]
  },
  {
   "cell_type": "code",
   "execution_count": 11,
   "metadata": {
    "collapsed": false
   },
   "outputs": [
    {
     "data": {
      "text/plain": [
       "0.0100000000000000"
      ]
     },
     "execution_count": 11,
     "metadata": {},
     "output_type": "execute_result"
    }
   ],
   "source": [
    "volumen.subs(podatki)  "
   ]
  },
  {
   "cell_type": "markdown",
   "metadata": {},
   "source": [
    "Vprašanje 11: Izračunajte statični moment ploskve $S_{xx}=\\int_A y\\,dA=\\int_{0}^{b} y\\,x(y)\\,dy$, kjer je $x(y)=a-b\\,y/b$."
   ]
  },
  {
   "cell_type": "code",
   "execution_count": 7,
   "metadata": {
    "collapsed": false
   },
   "outputs": [
    {
     "data": {
      "image/png": "[encoded data removed]",
      "text/latex": [
       "$$\\frac{a b^{2}}{2} - \\frac{b^{3}}{3}$$"
      ],
      "text/plain": [
       "   2    3\n",
       "a⋅b    b \n",
       "──── - ──\n",
       " 2     3 "
      ]
     },
     "execution_count": 7,
     "metadata": {},
     "output_type": "execute_result"
    }
   ],
   "source": [
    "x, y = symbols('x y')\n",
    "x = a - b*y/b\n",
    "Sxx = integrate(y*x,(y, 0, b))\n",
    "Sxx"
   ]
  },
  {
   "cell_type": "markdown",
   "metadata": {},
   "source": [
    "Vprašanje 12: Izračunajte vztrajnostni moment ploskve $I_{xx}=\\int_A y^2\\,dA$.\n",
    "\n",
    "Vprašanje 13: Prikažite $I_{xx}$ v odvisnosti od parametra $b$ ($a$ definirate poljubno)."
   ]
  },
  {
   "cell_type": "code",
   "execution_count": 8,
   "metadata": {
    "collapsed": false
   },
   "outputs": [
    {
     "data": {
      "image/png": "[encoded data removed]",
      "text/latex": [
       "$$\\frac{a b^{3}}{3} - \\frac{b^{4}}{4}$$"
      ],
      "text/plain": [
       "   3    4\n",
       "a⋅b    b \n",
       "──── - ──\n",
       " 3     4 "
      ]
     },
     "execution_count": 8,
     "metadata": {},
     "output_type": "execute_result"
    }
   ],
   "source": [
    "Ixx = integrate(y**2*x,(y, 0, b))   # Krat x ker integriramo po y. dA= dx*dy.\n",
    "Ixx"
   ]
  },
  {
   "cell_type": "code",
   "execution_count": 9,
   "metadata": {
    "collapsed": false
   },
   "outputs": [
    {
     "data": {
      "image/png": "[encoded data removed]",
      "text/latex": [
       "$$- \\frac{b^{4}}{4} + \\frac{2 b^{3}}{3}$$"
      ],
      "text/plain": [
       "   4      3\n",
       "  b    2⋅b \n",
       "- ── + ────\n",
       "  4     3  "
      ]
     },
     "execution_count": 9,
     "metadata": {},
     "output_type": "execute_result"
    }
   ],
   "source": [
    "Ixx_b = Ixx.subs('a', 2)\n",
    "Ixx_b"
   ]
  },
  {
   "cell_type": "markdown",
   "metadata": {},
   "source": [
    "Vprašanje 14: Nedoločeno in določeno (v mejah od 0 do $\\tau$) integrirajte izraz: $\\sin(5+t)+e^t$."
   ]
  },
  {
   "cell_type": "code",
   "execution_count": 25,
   "metadata": {
    "collapsed": false
   },
   "outputs": [
    {
     "data": {
      "image/png": "[encoded data removed]",
      "text/latex": [
       "$$e^{t} - \\cos{\\left (t + 5 \\right )}$$"
      ],
      "text/plain": [
       " t             \n",
       "ℯ  - cos(t + 5)"
      ]
     },
     "execution_count": 25,
     "metadata": {},
     "output_type": "execute_result"
    }
   ],
   "source": [
    "x, t, tau = symbols('x t tau')\n",
    "x = sin(5+t)+E**t\n",
    "\n",
    "# Nedoločen integral\n",
    "A = integrate(x, t)\n",
    "A"
   ]
  },
  {
   "cell_type": "code",
   "execution_count": 26,
   "metadata": {
    "collapsed": false
   },
   "outputs": [
    {
     "data": {
      "image/png": "[encoded data removed]",
      "text/latex": [
       "$$e^{\\tau} - \\cos{\\left (\\tau + 5 \\right )} - 1 + \\cos{\\left (5 \\right )}$$"
      ],
      "text/plain": [
       " τ                          \n",
       "ℯ  - cos(τ + 5) - 1 + cos(5)"
      ]
     },
     "execution_count": 26,
     "metadata": {},
     "output_type": "execute_result"
    }
   ],
   "source": [
    "# Določen integral\n",
    "B = integrate(x, (t, 0, tau))\n",
    "B"
   ]
  },
  {
   "cell_type": "code",
   "execution_count": 27,
   "metadata": {
    "collapsed": false
   },
   "outputs": [
    {
     "data": {
      "image/png": "[encoded data removed]",
      "text/latex": [
       "$$1.04177372727190547928127434494329540064$$"
      ],
      "text/plain": [
       "1.041773727271905479281274344943295400640"
      ]
     },
     "execution_count": 27,
     "metadata": {},
     "output_type": "execute_result"
    }
   ],
   "source": [
    "# Računanje integrala na 40 decimalk\n",
    "C = integrate(x, (t, 0, 1))\n",
    "N(C, 40)"
   ]
  },
  {
   "cell_type": "markdown",
   "metadata": {},
   "source": [
    "Vprašanje 15: Z odvajanjem pokažite pravilnost nedoločenega integrala iz predhodnega koraka."
   ]
  },
  {
   "cell_type": "code",
   "execution_count": 29,
   "metadata": {
    "collapsed": false
   },
   "outputs": [
    {
     "data": {
      "image/png": "[encoded data removed]",
      "text/latex": [
       "$$e^{t} + \\sin{\\left (t + 5 \\right )}$$"
      ],
      "text/plain": [
       " t             \n",
       "ℯ  + sin(t + 5)"
      ]
     },
     "execution_count": 29,
     "metadata": {},
     "output_type": "execute_result"
    }
   ],
   "source": [
    "x_f = diff(A, t)\n",
    "x_f"
   ]
  }
 ],
 "metadata": {
  "kernelspec": {
   "display_name": "Python 3",
   "language": "python",
   "name": "python3"
  },
  "language_info": {
   "codemirror_mode": {
    "name": "ipython",
    "version": 3
   },
   "file_extension": ".py",
   "mimetype": "text/x-python",
   "name": "python",
   "nbconvert_exporter": "python",
   "pygments_lexer": "ipython3",
   "version": "3.4.3"
  }
 },
 "nbformat": 4,
 "nbformat_minor": 0
}
