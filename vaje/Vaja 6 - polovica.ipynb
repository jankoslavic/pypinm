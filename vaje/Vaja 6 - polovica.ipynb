{
 "cells": [
  {
   "cell_type": "markdown",
   "metadata": {},
   "source": [
    "Mar 2015, J. Slavič in L. Knez"
   ]
  },
  {
   "cell_type": "code",
   "execution_count": 1,
   "metadata": {
    "collapsed": false
   },
   "outputs": [],
   "source": [
    "from sympy import *\n",
    "init_printing()"
   ]
  },
  {
   "cell_type": "markdown",
   "metadata": {},
   "source": [
    "# Do naslednjih vaj preštudirajte sledeče:"
   ]
  },
  {
   "cell_type": "markdown",
   "metadata": {},
   "source": [
    "Na sliki je prikazano paličje. Ob delovanju sil $F_1$ in $F_2$ se v palicah razvijejo notranje sile $P_i$. Dimenzije paličja zagotavljajo kota $\\alpha$ in $\\beta$.\n",
    "<img src=\"../fig/palicje_2.2_15.png\" width=300>\n",
    "Sile v palicah izračunamo s pomočjo sistema linearnih enačb.\n",
    "\n",
    "(Opomba: naloga je posplošitev naloge 15 na strani 81 v knjige Numerical methods in Eng with Py 3 z nastavkom za rešitev:\n",
    "<img src=\"../fig/palicje_2.2_15_resitev.png\" width=300>\n",
    "\n",
    "V omenjenem viru je sicer napaka v predzadnji vrstici matrike koeficientov.\n",
    "\n",
    "Vprašanje 1: V simbolni obliki zapišite ravnotežje sil za točko 1 v $x$ in $y$ smeri "
   ]
  },
  {
   "cell_type": "markdown",
   "metadata": {},
   "source": [
    "Vprašanje 2: V simbolni obliki zapišite ravnotežje sil za točko 2 v $x$ in $y$ smeri.\n",
    "\n",
    "Vprašanje 3: V simbolni obliki zapišite ravnotežje sil za točko 3 v $x$ in $y$ smeri."
   ]
  },
  {
   "cell_type": "code",
   "execution_count": 2,
   "metadata": {
    "collapsed": false
   },
   "outputs": [
    {
     "data": {
      "image/png": "[encoded data removed]",
      "text/latex": [
       "$$\\begin{bmatrix}- P_{1} + P_{2} - P_{3} \\cos{\\left (\\alpha \\right )} = 0, & - F_{1} + P_{3} \\sin{\\left (\\alpha \\right )} + P_{4} = 0, & - P_{2} - P_{5} \\cos{\\left (\\beta \\right )} = 0, & - F_{2} + P_{5} \\sin{\\left (\\beta \\right )} = 0, & P_{5} \\cos{\\left (\\beta \\right )} - P_{6} = 0, & - P_{4} - P_{5} \\sin{\\left (\\beta \\right )} = 0\\end{bmatrix}$$"
      ],
      "text/plain": [
       "[-P₁ + P₂ - P₃⋅cos(α) = 0, -F₁ + P₃⋅sin(α) + P₄ = 0, -P₂ - P₅⋅cos(β) = 0, -F₂ \n",
       "+ P₅⋅sin(β) = 0, P₅⋅cos(β) - P₆ = 0, -P₄ - P₅⋅sin(β) = 0]"
      ]
     },
     "execution_count": 2,
     "metadata": {},
     "output_type": "execute_result"
    }
   ],
   "source": [
    "P1, P2, P3, P4, P5, P6, F1, F2, alpha, beta = symbols('P1, P2, P3, P4, P5, P6, F1, F2, alpha, beta')\n",
    "\n",
    "# Točka 1\n",
    "eq1x = Eq(-P1 - P3*cos(alpha) + P2,0)\n",
    "eq1y = Eq(P3*sin(alpha) + P4 - F1,0)\n",
    "\n",
    "# Točka 2\n",
    "eq2x = Eq(-P2 - P5*cos(beta),0)\n",
    "eq2y = Eq(P5*sin(beta)-F2,0)\n",
    "\n",
    "# Točka 3\n",
    "eq3x = Eq(-P6 + P5*sin(pi/2-beta),0)\n",
    "eq3y = Eq(-P4 - P5*cos(pi/2-beta),0)\n",
    "\n",
    "# Spravimo skupaj v seznam\n",
    "eqs = [eq1x, eq1y, eq2x, eq2y, eq3x, eq3y]\n",
    "eqs"
   ]
  },
  {
   "cell_type": "markdown",
   "metadata": {},
   "source": [
    "Vprašanje 4: Najdite simbolično rešitev za sile $P_i$."
   ]
  },
  {
   "cell_type": "code",
   "execution_count": 3,
   "metadata": {
    "collapsed": false
   },
   "outputs": [
    {
     "data": {
      "image/png": "[encoded data removed]",
      "text/latex": [
       "$$\\begin{Bmatrix}P_{1} : - \\frac{F_{1}}{\\tan{\\left (\\alpha \\right )}} - \\frac{F_{2}}{\\tan{\\left (\\beta \\right )}} - \\frac{F_{2}}{\\tan{\\left (\\alpha \\right )}}, & P_{2} : - \\frac{F_{2}}{\\tan{\\left (\\beta \\right )}}, & P_{3} : \\frac{F_{1} + F_{2}}{\\sin{\\left (\\alpha \\right )}}, & P_{4} : - F_{2}, & P_{5} : \\frac{F_{2}}{\\sin{\\left (\\beta \\right )}}, & P_{6} : \\frac{F_{2}}{\\tan{\\left (\\beta \\right )}}\\end{Bmatrix}$$"
      ],
      "text/plain": [
       "⎧        F₁       F₂       F₂         -F₂        F₁ + F₂                 F₂   \n",
       "⎨P₁: - ────── - ────── - ──────, P₂: ──────, P₃: ───────, P₄: -F₂, P₅: ──────,\n",
       "⎩      tan(α)   tan(β)   tan(α)      tan(β)       sin(α)               sin(β) \n",
       "\n",
       "       F₂  ⎫\n",
       " P₆: ──────⎬\n",
       "     tan(β)⎭"
      ]
     },
     "execution_count": 3,
     "metadata": {},
     "output_type": "execute_result"
    }
   ],
   "source": [
    "# Simbolično rešimo zgornji sistem\n",
    "sol = solve(eqs, [P1, P2, P3, P4, P5, P6])\n",
    "sol"
   ]
  },
  {
   "cell_type": "markdown",
   "metadata": {},
   "source": [
    "Vprašanje 5: Uporabite podatke: $\\alpha=\\beta=\\pi/4$, $F_1=18$ kN in $F_2=12$ kN ter najdite številčno rešitev."
   ]
  },
  {
   "cell_type": "code",
   "execution_count": 4,
   "metadata": {
    "collapsed": false
   },
   "outputs": [
    {
     "data": {
      "image/png": "[encoded data removed]",
      "text/latex": [
       "$$\\begin{bmatrix}- P_{1} + P_{2} - 0.707106781186548 P_{3} = 0, & 0.707106781186548 P_{3} + P_{4} - 18000.0 = 0, & - P_{2} - 0.707106781186548 P_{5} = 0, & 0.707106781186548 P_{5} - 12000.0 = 0, & 0.707106781186548 P_{5} - P_{6} = 0, & - P_{4} - 0.707106781186548 P_{5} = 0\\end{bmatrix}$$"
      ],
      "text/plain": [
       "[-P₁ + P₂ - 0.707106781186548⋅P₃ = 0, 0.707106781186548⋅P₃ + P₄ - 18000.0 = 0,\n",
       " -P₂ - 0.707106781186548⋅P₅ = 0, 0.707106781186548⋅P₅ - 12000.0 = 0, 0.7071067\n",
       "81186548⋅P₅ - P₆ = 0, -P₄ - 0.707106781186548⋅P₅ = 0]"
      ]
     },
     "execution_count": 4,
     "metadata": {},
     "output_type": "execute_result"
    }
   ],
   "source": [
    "# Vstavim podatke z izpeljevanjem (to naredimo tako, ker imamo seznam in ne pozna direktno ukaza subs)\n",
    "eqs2 = [_.subs({alpha: pi/4, beta: pi/4, F1: 18000, F2: 12000}).evalf() for _ in eqs]\n",
    "eqs2"
   ]
  },
  {
   "cell_type": "code",
   "execution_count": 5,
   "metadata": {
    "collapsed": false
   },
   "outputs": [
    {
     "data": {
      "image/png": "[encoded data removed]",
      "text/latex": [
       "$$\\begin{Bmatrix}P_{1} : -42000.0, & P_{2} : -12000.0, & P_{3} : 42426.4068711928, & P_{4} : -12000.0, & P_{5} : 16970.5627484771, & P_{6} : 12000.0\\end{Bmatrix}$$"
      ],
      "text/plain": [
       "{P₁: -42000.0, P₂: -12000.0, P₃: 42426.4068711928, P₄: -12000.0, P₅: 16970.562\n",
       "7484771, P₆: 12000.0}"
      ]
     },
     "execution_count": 5,
     "metadata": {},
     "output_type": "execute_result"
    }
   ],
   "source": [
    "# Rešimo sistem\n",
    "sol = solve(eqs2, [P1, P2, P3, P4, P5, P6])\n",
    "sol"
   ]
  },
  {
   "cell_type": "markdown",
   "metadata": {},
   "source": [
    "Vprašanje 6: Pripravite si funkcijo, ki bo za poljubne podatke (npr: ``podatki = {a: pi/4, b: pi/4, F1: 18000, F2: 12000}``) vrnila numerično matriko koeficientov $\\mathbf{A}$ in vektor konstat $\\mathbf{b}$. Če ne uspete tega narediti avtomatizirano, delajte \"na roke\" (splača se vam potruditi, saj bomo to večkrat rabili)."
   ]
  },
  {
   "cell_type": "code",
   "execution_count": 6,
   "metadata": {
    "collapsed": false
   },
   "outputs": [],
   "source": [
    "import numpy as np\n",
    "\n",
    "# Vrednosti neznank nastavimo na 0, tako se v A in b ne bodo pojavljale\n",
    "neznanke = [P1, P2, P3, P4, P5, P6]\n",
    "subst = {P1: 0, P2: 0, P3: 0, P4: 0, P5:0, P6: 0}\n",
    "\n",
    "def getA_b(podatki = {alpha: pi/4, beta: pi/4, F1: 18000, F2: 12000}):\n",
    "    A = np.asarray([[eq.args[0].subs(podatki).evalf().coeff(p) for p in neznanke] for eq in eqs])\n",
    "    b = -np.asarray([eq.args[0].subs(podatki).subs(subst).evalf() for eq in eqs])   \n",
    "    return A, b\n"
   ]
  },
  {
   "cell_type": "markdown",
   "metadata": {},
   "source": [
    "Nekaj komentarjev na zgornjo funkcijo:\n",
    "\n",
    "* Najprej iz sistema eqs z izpeljevanjem preberemo posamezno enačbo, ki jo poimenujemo eq.\n",
    "* Ko izpeljujemo b vstavimo podatke in vse vrednosti za *Pi* kot 0, preostale številke pa množimo z -1, ker smo jih dali na drugo stran enačbe.\n",
    "* *eq.args[0]* pomeni, da uporabimo le zapis na levi strani enačbe, na desni strani je 0.\n",
    "* Ukaz *.coeff(p)* poišče vse koeficiente, ki se nahajajo pred trenutno neznanako \"p\".\n",
    "* *np.asarray* poskrbi, da se vrednosti shranijo v numerični obliki."
   ]
  },
  {
   "cell_type": "code",
   "execution_count": 7,
   "metadata": {
    "collapsed": false
   },
   "outputs": [],
   "source": [
    "# Uporabimo že kar predpripravljen slovar v funkciji, lahko pa bi napisali poljubnega\n",
    "A, b = getA_b()  "
   ]
  },
  {
   "cell_type": "code",
   "execution_count": 8,
   "metadata": {
    "collapsed": false
   },
   "outputs": [
    {
     "data": {
      "text/plain": [
       "array([[-1, 1, -0.707106781186548, 0, 0, 0],\n",
       "       [0, 0, 0.707106781186548, 1, 0, 0],\n",
       "       [0, -1, 0, 0, -0.707106781186548, 0],\n",
       "       [0, 0, 0, 0, 0.707106781186548, 0],\n",
       "       [0, 0, 0, 0, 0.707106781186548, -1],\n",
       "       [0, 0, 0, -1, -0.707106781186548, 0]], dtype=object)"
      ]
     },
     "execution_count": 8,
     "metadata": {},
     "output_type": "execute_result"
    }
   ],
   "source": [
    "A"
   ]
  },
  {
   "cell_type": "code",
   "execution_count": 9,
   "metadata": {
    "collapsed": false
   },
   "outputs": [
    {
     "data": {
      "text/plain": [
       "array([0, 18000.0000000000, 0, 12000.0000000000, 0, 0], dtype=object)"
      ]
     },
     "execution_count": 9,
     "metadata": {},
     "output_type": "execute_result"
    }
   ],
   "source": [
    "b"
   ]
  },
  {
   "cell_type": "code",
   "execution_count": 10,
   "metadata": {
    "collapsed": false
   },
   "outputs": [
    {
     "data": {
      "text/plain": [
       "array([-42000.        , -12000.        ,  42426.40687119, -12000.        ,\n",
       "        16970.56274848,  12000.        ])"
      ]
     },
     "execution_count": 10,
     "metadata": {},
     "output_type": "execute_result"
    }
   ],
   "source": [
    "# Rešimo sistem\n",
    "P = np.linalg.solve(A, b)\n",
    "P"
   ]
  }
 ],
 "metadata": {
  "kernelspec": {
   "display_name": "Python 3",
   "language": "python",
   "name": "python3"
  },
  "language_info": {
   "codemirror_mode": {
    "name": "ipython",
    "version": 3
   },
   "file_extension": ".py",
   "mimetype": "text/x-python",
   "name": "python",
   "nbconvert_exporter": "python",
   "pygments_lexer": "ipython3",
   "version": "3.5.0"
  }
 },
 "nbformat": 4,
 "nbformat_minor": 0
}
