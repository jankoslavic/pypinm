{
 "cells": [
  {
   "cell_type": "markdown",
   "metadata": {
    "toc": true
   },
   "source": [
    "<h1>Kazalo<span class=\"tocSkip\"></span></h1>\n",
    "<div class=\"toc\"><ul class=\"toc-item\"><li><span><a href=\"#Moduli,-zanke,-funkcije\" data-toc-modified-id=\"Moduli,-zanke,-funkcije-1\"><span class=\"toc-item-num\">1&nbsp;&nbsp;</span>Moduli, zanke, funkcije</a></span><ul class=\"toc-item\"><li><span><a href=\"#Zanki-for-in-while:\" data-toc-modified-id=\"Zanki-for-in-while:-1.1\"><span class=\"toc-item-num\">1.1&nbsp;&nbsp;</span>Zanki <code>for</code> in <code>while</code>:</a></span></li><li><span><a href=\"#Definicije-lastnih-funkcij\" data-toc-modified-id=\"Definicije-lastnih-funkcij-1.2\"><span class=\"toc-item-num\">1.2&nbsp;&nbsp;</span>Definicije lastnih funkcij</a></span></li><li><span><a href=\"#Moduli---nadaljevanje\" data-toc-modified-id=\"Moduli---nadaljevanje-1.3\"><span class=\"toc-item-num\">1.3&nbsp;&nbsp;</span>Moduli - nadaljevanje</a></span><ul class=\"toc-item\"><li><span><a href=\"#Numpy\" data-toc-modified-id=\"Numpy-1.3.1\"><span class=\"toc-item-num\">1.3.1&nbsp;&nbsp;</span>Numpy</a></span></li><li><span><a href=\"#Maplotlib\" data-toc-modified-id=\"Maplotlib-1.3.2\"><span class=\"toc-item-num\">1.3.2&nbsp;&nbsp;</span>Maplotlib</a></span></li></ul></li></ul></li><li><span><a href=\"#Primer:-uporaba-Python-a-za-dimenzioniranje-nosilca\" data-toc-modified-id=\"Primer:-uporaba-Python-a-za-dimenzioniranje-nosilca-2\"><span class=\"toc-item-num\">2&nbsp;&nbsp;</span>Primer: uporaba Python-a za dimenzioniranje nosilca</a></span><ul class=\"toc-item\"><li><span><a href=\"#Naloga\" data-toc-modified-id=\"Naloga-2.1\"><span class=\"toc-item-num\">2.1&nbsp;&nbsp;</span>Naloga</a></span></li><li><span><a href=\"#Enačbe\" data-toc-modified-id=\"Enačbe-2.2\"><span class=\"toc-item-num\">2.2&nbsp;&nbsp;</span>Enačbe</a></span></li><li><span><a href=\"#Podatki:\" data-toc-modified-id=\"Podatki:-2.3\"><span class=\"toc-item-num\">2.3&nbsp;&nbsp;</span>Podatki:</a></span></li><li><span><a href=\"#Rešitev\" data-toc-modified-id=\"Rešitev-2.4\"><span class=\"toc-item-num\">2.4&nbsp;&nbsp;</span>Rešitev</a></span><ul class=\"toc-item\"><li><span><a href=\"#Največja-upogibna-napetost-v-nosilcu\" data-toc-modified-id=\"Največja-upogibna-napetost-v-nosilcu-2.4.1\"><span class=\"toc-item-num\">2.4.1&nbsp;&nbsp;</span>Največja upogibna napetost v nosilcu</a></span></li><li><span><a href=\"#Upogibnica\" data-toc-modified-id=\"Upogibnica-2.4.2\"><span class=\"toc-item-num\">2.4.2&nbsp;&nbsp;</span>Upogibnica</a></span></li><li><span><a href=\"#Funkcija-napetost_upogib\" data-toc-modified-id=\"Funkcija-napetost_upogib-2.4.3\"><span class=\"toc-item-num\">2.4.3&nbsp;&nbsp;</span>Funkcija <code>napetost_upogib</code></a></span></li><li><span><a href=\"#Dimenzioniranje-nosilca\" data-toc-modified-id=\"Dimenzioniranje-nosilca-2.4.4\"><span class=\"toc-item-num\">2.4.4&nbsp;&nbsp;</span>Dimenzioniranje nosilca</a></span></li><li><span><a href=\"#Dodatek:\" data-toc-modified-id=\"Dodatek:-2.4.5\"><span class=\"toc-item-num\">2.4.5&nbsp;&nbsp;</span>Dodatek:</a></span></li></ul></li></ul></li></ul></div>"
   ]
  },
  {
   "cell_type": "markdown",
   "metadata": {},
   "source": [
    "# Moduli, zanke, funkcije"
   ]
  },
  {
   "cell_type": "markdown",
   "metadata": {},
   "source": [
    "Priprava podatkov, komentarji kode:"
   ]
  },
  {
   "cell_type": "code",
   "execution_count": null,
   "metadata": {},
   "outputs": [],
   "source": [
    "niz = 'To so naši podatki.'\n",
    "terka = tuple(niz) # Kaj naredimo v tej vrstici?\n",
    "# terka            # Kaj pomeni znak \"#\"?"
   ]
  },
  {
   "cell_type": "markdown",
   "metadata": {},
   "source": [
    "## Zanki ``for`` in ``while``:"
   ]
  },
  {
   "cell_type": "markdown",
   "metadata": {},
   "source": [
    "Kadar želimo, da se koda izvede za vsak element seznama ali terke:\n"
   ]
  },
  {
   "cell_type": "code",
   "execution_count": null,
   "metadata": {},
   "outputs": [],
   "source": [
    "for element in terka:\n",
    "    print(2*element)"
   ]
  },
  {
   "cell_type": "code",
   "execution_count": null,
   "metadata": {},
   "outputs": [],
   "source": [
    "terka = (1, 2, 3, 4)"
   ]
  },
  {
   "cell_type": "markdown",
   "metadata": {},
   "source": [
    "Še enkrat poženimo isto kodo, kot zgoraj. Bo rezultat enak?"
   ]
  },
  {
   "cell_type": "code",
   "execution_count": null,
   "metadata": {},
   "outputs": [],
   "source": [
    "for element in terka:\n",
    "    print(2*element)"
   ]
  },
  {
   "cell_type": "markdown",
   "metadata": {},
   "source": [
    "Pogosto ``for`` zanko uporabljamo skupaj s funkcijo ``range``:"
   ]
  },
  {
   "cell_type": "code",
   "execution_count": null,
   "metadata": {},
   "outputs": [],
   "source": [
    "for i in range(5):\n",
    "    print(i)"
   ]
  },
  {
   "cell_type": "code",
   "execution_count": null,
   "metadata": {},
   "outputs": [],
   "source": [
    "tuple(range(10))"
   ]
  },
  {
   "cell_type": "markdown",
   "metadata": {},
   "source": [
    "Kadar želimo kodo izvajati, *dokler* je izpolnjen določen pogoj:"
   ]
  },
  {
   "cell_type": "code",
   "execution_count": null,
   "metadata": {},
   "outputs": [],
   "source": [
    "nov_seznam = []\n",
    "i = 0\n",
    "\n",
    "while terka[i] < 4:\n",
    "    nov_seznam.append(terka[i])\n",
    "    i += 1\n",
    "\n",
    "print(tuple(nov_seznam))"
   ]
  },
  {
   "cell_type": "markdown",
   "metadata": {},
   "source": [
    "V zgornji celici smo spoznali precej novih stvari:\n",
    "* V seznam lahko dodajamo elemente z metodo ``seznam.append``.\n",
    "* ``i += 1`` je krajši ekvivalent kode ``i = i + 1``.\n",
    "* Uporaba ``for`` zanke je način, da \"spremenimo\" vsebino obstoječe terke.\n",
    "* Pri ``while`` zanki sami poskrbimo za posodabljanje pogoja prekinitve!"
   ]
  },
  {
   "cell_type": "markdown",
   "metadata": {},
   "source": [
    "## Definicije lastnih funkcij"
   ]
  },
  {
   "cell_type": "markdown",
   "metadata": {},
   "source": [
    "Kadar želimo neko kodo uporabiti več kot enkrat, je je dobro definirati v obliki funkcije. Sintaksa je naslednja:"
   ]
  },
  {
   "cell_type": "code",
   "execution_count": null,
   "metadata": {},
   "outputs": [],
   "source": [
    "def izpiši_vse_dvakrat(seznam):\n",
    "    for element in seznam:\n",
    "        print(2*element)"
   ]
  },
  {
   "cell_type": "code",
   "execution_count": null,
   "metadata": {},
   "outputs": [],
   "source": [
    "izpiši_vse_dvakrat(terka)"
   ]
  },
  {
   "cell_type": "markdown",
   "metadata": {},
   "source": [
    "Pogosto želimo naše funkcije dokumentirati za lažjo prihodnjo rabo:"
   ]
  },
  {
   "cell_type": "code",
   "execution_count": null,
   "metadata": {},
   "outputs": [],
   "source": [
    "def izpiši_vse_dvakrat_2(seznam):\n",
    "    \"\"\"\n",
    "    Funkcija, ki izpiše dvakratnik vsakega elementa v podanem seznamu.\n",
    "    \"\"\"\n",
    "    for element in seznam:\n",
    "        print(2*element)"
   ]
  },
  {
   "cell_type": "code",
   "execution_count": null,
   "metadata": {},
   "outputs": [],
   "source": [
    "help(izpiši_vse_dvakrat_2)"
   ]
  },
  {
   "cell_type": "markdown",
   "metadata": {},
   "source": [
    "Včasih pričakujemo, da bo naša funkcija vrnila rezultat, ki ga lahko ponovno uporabimo:"
   ]
  },
  {
   "cell_type": "code",
   "execution_count": null,
   "metadata": {},
   "outputs": [],
   "source": [
    "def izpiši_vse_dvakrat_3(seznam):\n",
    "    \"\"\"\n",
    "    Funkcija, ki izpiše dvakratnik vsakega elementa v podanem seznamu.\n",
    "    Vrne seznam dvakratnikov elementov podanega seznama.\n",
    "    \"\"\"\n",
    "    seznam_dvakratnikov = []\n",
    "    \n",
    "    for element in seznam:\n",
    "        seznam_dvakratnikov.append(2*element)\n",
    "        print(2*element)\n",
    "    \n",
    "    return seznam_dvakratnikov"
   ]
  },
  {
   "cell_type": "code",
   "execution_count": null,
   "metadata": {},
   "outputs": [],
   "source": [
    "dvakratniki = izpiši_vse_dvakrat_3(terka)\n",
    "dvakratniki"
   ]
  },
  {
   "cell_type": "markdown",
   "metadata": {},
   "source": [
    "## Moduli - nadaljevanje"
   ]
  },
  {
   "cell_type": "markdown",
   "metadata": {},
   "source": [
    "### Numpy\n",
    "\n",
    "Modul z orodji za numerično računanje. Del paketa Anaconda."
   ]
  },
  {
   "cell_type": "code",
   "execution_count": null,
   "metadata": {},
   "outputs": [],
   "source": [
    "import numpy as np"
   ]
  },
  {
   "cell_type": "code",
   "execution_count": null,
   "metadata": {},
   "outputs": [],
   "source": [
    "terka * 2"
   ]
  },
  {
   "cell_type": "code",
   "execution_count": null,
   "metadata": {},
   "outputs": [],
   "source": [
    "polje = np.array(terka)\n",
    "polje * 2"
   ]
  },
  {
   "cell_type": "markdown",
   "metadata": {},
   "source": [
    "Vsebuje mnoge uporabne matemetične funkcije:"
   ]
  },
  {
   "cell_type": "code",
   "execution_count": null,
   "metadata": {},
   "outputs": [],
   "source": [
    "np.sqrt(polje)"
   ]
  },
  {
   "cell_type": "code",
   "execution_count": null,
   "metadata": {},
   "outputs": [],
   "source": [
    "np.sin(polje)"
   ]
  },
  {
   "cell_type": "markdown",
   "metadata": {},
   "source": [
    "Uporabne so tudi funkcije za ustvarjanje številskih polj:"
   ]
  },
  {
   "cell_type": "code",
   "execution_count": null,
   "metadata": {},
   "outputs": [],
   "source": [
    "območje = np.linspace(0, 1, 11)\n",
    "območje"
   ]
  },
  {
   "cell_type": "markdown",
   "metadata": {},
   "source": [
    "### Maplotlib\n",
    "\n",
    "Modul, nemenjen izrisu grafov. Prav tako del paketa Anaconda."
   ]
  },
  {
   "cell_type": "code",
   "execution_count": null,
   "metadata": {},
   "outputs": [],
   "source": [
    "import matplotlib.pyplot as plt"
   ]
  },
  {
   "cell_type": "code",
   "execution_count": null,
   "metadata": {},
   "outputs": [],
   "source": [
    "plt.plot(območje, np.sin(območje*2*np.pi))"
   ]
  },
  {
   "cell_type": "code",
   "execution_count": null,
   "metadata": {},
   "outputs": [],
   "source": [
    "plt.plot(območje, np.sin(območje*2*np.pi), label='sinus')\n",
    "plt.plot(območje, np.cos(območje*2*np.pi), label='cosinus')\n",
    "plt.xlabel('x os')\n",
    "plt.ylabel('y os')\n",
    "plt.title('Graf sin in cos funkcij')\n",
    "plt.legend()"
   ]
  },
  {
   "cell_type": "markdown",
   "metadata": {},
   "source": [
    "# Primer: uporaba Python-a za dimenzioniranje nosilca"
   ]
  },
  {
   "cell_type": "markdown",
   "metadata": {},
   "source": [
    "Obravnavamo nosilec na sliki.\n",
    "\n",
    "<img src=\"img/konzola.png\" style=\"width:550px\">"
   ]
  },
  {
   "cell_type": "markdown",
   "metadata": {},
   "source": [
    "## Naloga\n",
    "\n",
    "1. Izračunaj največjo upogibno napetost v nosilcu $\\sigma_{\\text{max}}$.\n",
    "\n",
    "* Izračunaj in izriši upogibnico nosilca $y(x)$ pri podani obremenitvi $F$.\n",
    "\n",
    "\n",
    "3. \\* Definiraj funkcijo `napetost_upogib`, ki pri podanih parametrih *izriše* upogibnico nosilca in *vrne* vrednost največje upogibne napetosti $\\sigma_{\\text{max}}$.\n",
    "\n",
    "4. \\* Za različne možne `višine` prereza $h$ izberi najmanjšo, pri kateri je največja upogibna napetost v nosilcu manjša od dopustne napetosti ($\\sigma_{\\text{max}} \\leq \\sigma_{\\text{dop}}$)."
   ]
  },
  {
   "cell_type": "markdown",
   "metadata": {},
   "source": [
    "## Enačbe\n",
    "\n",
    "\n",
    "Odpornostni in vztrajnostni moment prereza:\n",
    "$$W_z = \\frac{a\\,h^2}{6}$$\n",
    "\n",
    "$$I = \\frac{a\\,h^3}{12}$$\n",
    "\n",
    "\n",
    "Največji upogibni moment (v točki $A$):\n",
    "\n",
    "$$M_{\\text{max}} = F\\, l$$\n",
    "\n",
    "\n",
    "Največja upogbibna napetost:\n",
    "\n",
    "$$\\sigma_{\\text{max}} = \\frac{M_{\\text{max}}} {W_z}$$\n",
    "\n",
    "\n",
    "Največji upogibek (na mestu $B$):\n",
    "\n",
    "$$f = \\frac{F\\, l^3}{3\\,E\\,I}$$\n",
    "\n",
    "\n",
    "Enačba upogibnice:\n",
    "\n",
    "$$u = l - \\frac{x}{l}$$\n",
    "\n",
    "$$y = \\frac{f}{2} \\, (2 - 3u + u^3)$$"
   ]
  },
  {
   "cell_type": "markdown",
   "metadata": {},
   "source": [
    "## Podatki:"
   ]
  },
  {
   "cell_type": "code",
   "execution_count": null,
   "metadata": {},
   "outputs": [],
   "source": [
    "import numpy as np"
   ]
  },
  {
   "cell_type": "code",
   "execution_count": null,
   "metadata": {},
   "outputs": [],
   "source": [
    "a = 10      # mm\n",
    "h = 15      # mm\n",
    "F = 100     # N\n",
    "l = 750     # mm\n",
    "E = 210000  # MPa\n",
    "s_dop = 240 # MPa\n",
    "\n",
    "# vprašanje 4.\n",
    "višine = np.linspace(1, 20, 39)"
   ]
  },
  {
   "cell_type": "markdown",
   "metadata": {},
   "source": [
    "## Rešitev"
   ]
  },
  {
   "cell_type": "markdown",
   "metadata": {},
   "source": [
    "### Največja upogibna napetost v nosilcu"
   ]
  },
  {
   "cell_type": "code",
   "execution_count": null,
   "metadata": {},
   "outputs": [],
   "source": [
    "W_z = a*h**2/6\n",
    "I_z = a*h**3/12\n",
    "M_max = F*l\n",
    "s_max = M_max / W_z\n",
    "print('Maksimalna napetost v prerezu:', s_max, 'MPa')"
   ]
  },
  {
   "cell_type": "markdown",
   "metadata": {},
   "source": [
    "### Upogibnica"
   ]
  },
  {
   "cell_type": "markdown",
   "metadata": {},
   "source": [
    "Najprej pripravimo polje koordinate $x$, kjer želimo izračunati upogibnico:"
   ]
  },
  {
   "cell_type": "code",
   "execution_count": null,
   "metadata": {},
   "outputs": [],
   "source": [
    "x = np.linspace(0, l, 500) # računamo v 500 točkah vzdolž nosilca"
   ]
  },
  {
   "cell_type": "markdown",
   "metadata": {},
   "source": [
    "Računamo upogibnico $y(x)$:\n",
    "\n",
    "Največji upogibek (na mestu $B$):\n",
    "\n",
    "$$f = \\frac{F\\, l^3}{3\\,E\\,I}$$\n",
    "\n",
    "\n",
    "Enačba upogibnice:\n",
    "\n",
    "$$u = 1 - \\frac{x}{l}$$\n",
    "\n",
    "$$y = \\frac{f}{2} \\, (2 - 3u + u^3)$$"
   ]
  },
  {
   "cell_type": "code",
   "execution_count": null,
   "metadata": {},
   "outputs": [],
   "source": [
    "f = F*l**3 / (3*E*I_z)\n",
    "u = 1 - x/l\n",
    "y = f/2 * (2 - 3*u + u**3)"
   ]
  },
  {
   "cell_type": "code",
   "execution_count": null,
   "metadata": {},
   "outputs": [],
   "source": [
    "np.max(y)"
   ]
  },
  {
   "cell_type": "markdown",
   "metadata": {},
   "source": [
    "Izris z `matplotlib.pyplot.plot`"
   ]
  },
  {
   "cell_type": "code",
   "execution_count": null,
   "metadata": {},
   "outputs": [],
   "source": [
    "import matplotlib.pyplot as plt"
   ]
  },
  {
   "cell_type": "code",
   "execution_count": null,
   "metadata": {},
   "outputs": [],
   "source": [
    "plt.plot(x, -y)"
   ]
  },
  {
   "cell_type": "markdown",
   "metadata": {},
   "source": [
    "Izris še opremimo:"
   ]
  },
  {
   "cell_type": "code",
   "execution_count": null,
   "metadata": {},
   "outputs": [],
   "source": [
    "plt.plot(x, -y, 'r', lw=3)\n",
    "plt.plot([0, l], [0, 0], 'k', lw=3)\n",
    "plt.axis('equal')\n",
    "plt.xlabel('x [mm]')\n",
    "plt.ylabel('y [mm]')"
   ]
  },
  {
   "cell_type": "markdown",
   "metadata": {},
   "source": [
    "### Funkcija `napetost_upogib`\n",
    "\n",
    "3. \\* Definiraj funkcijo `napetost_upogib`, ki pri podanih parametrih *izriše* upogibnico nosilca in *vrne* vrednost največje upogibne napetosti $\\sigma_{\\text{max}}$."
   ]
  },
  {
   "cell_type": "code",
   "execution_count": null,
   "metadata": {},
   "outputs": [],
   "source": [
    "def napetost_upogib(a, h, F, l, E, izriši=True):\n",
    "    \"\"\"\n",
    "    Za konzolno vpet nosilec in podane parametre izriše upogibnico\n",
    "    ter vrne vrednost maksimalne napetosti.\n",
    "    \"\"\"\n",
    "    \n",
    "    W_z = a*h**2/6\n",
    "    I_z = a*h**3/12\n",
    "    M_max = F*l\n",
    "    s_max = M_max / W_z\n",
    "    \n",
    "    x = np.linspace(0, l, 500)\n",
    "    f = F*l**3 / (3*E*I_z)\n",
    "    u = 1 - x/l\n",
    "    y = f/2 * (2 - 3*u + u**3)\n",
    "    \n",
    "    if izriši:\n",
    "        plt.plot(x, -y, 'r', lw=3)\n",
    "        plt.plot([0, l], [0, 0], 'k', lw=3)\n",
    "        plt.axis('equal')\n",
    "        plt.xlabel('x [mm]')\n",
    "        plt.ylabel('y [mm]')\n",
    "    \n",
    "    return s_max"
   ]
  },
  {
   "cell_type": "code",
   "execution_count": null,
   "metadata": {},
   "outputs": [],
   "source": [
    "napetost_upogib(a, h, F, l, E)"
   ]
  },
  {
   "cell_type": "markdown",
   "metadata": {},
   "source": [
    "### Dimenzioniranje nosilca\n",
    "\n",
    "\n",
    "4. \\* Za različne možne `višine` prereza $h$ izberi najmanjšo, pri kateri je največja upogibna napetost v nosilcu manjša od dopustne napetosti ($\\sigma_{\\text{max}} \\leq \\sigma_{\\text{dop}}$)."
   ]
  },
  {
   "cell_type": "code",
   "execution_count": null,
   "metadata": {},
   "outputs": [],
   "source": [
    "for višina in višine:\n",
    "    napetost = napetost_upogib(a, višina, F, l, E, izriši=False)\n",
    "    if napetost < s_dop:\n",
    "        print('Izbrana višina:', višina, 'mm')\n",
    "        napetost_upogib(a, višina, F, l, E, izriši=True)\n",
    "        break"
   ]
  },
  {
   "cell_type": "markdown",
   "metadata": {},
   "source": [
    "---"
   ]
  },
  {
   "cell_type": "markdown",
   "metadata": {},
   "source": [
    "### Dodatek:\n",
    "\n",
    "Pripravi modul (`.py` datoteko) z orodji za dimenzioniranje konzolno vpetega nosilca."
   ]
  }
 ],
 "metadata": {
  "kernelspec": {
   "display_name": "Python 3 (ipykernel)",
   "language": "python",
   "name": "python3"
  },
  "language_info": {
   "codemirror_mode": {
    "name": "ipython",
    "version": 3
   },
   "file_extension": ".py",
   "mimetype": "text/x-python",
   "name": "python",
   "nbconvert_exporter": "python",
   "pygments_lexer": "ipython3",
   "version": "3.10.1"
  },
  "toc": {
   "base_numbering": 1,
   "nav_menu": {},
   "number_sections": true,
   "sideBar": true,
   "skip_h1_title": false,
   "title_cell": "Kazalo",
   "title_sidebar": "Contents",
   "toc_cell": true,
   "toc_position": {
    "height": "calc(100% - 180px)",
    "left": "10px",
    "top": "150px",
    "width": "384px"
   },
   "toc_section_display": true,
   "toc_window_display": false
  }
 },
 "nbformat": 4,
 "nbformat_minor": 2
}
