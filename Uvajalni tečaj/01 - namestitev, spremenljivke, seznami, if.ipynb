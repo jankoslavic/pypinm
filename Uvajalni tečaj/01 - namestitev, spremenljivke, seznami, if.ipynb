{
 "cells": [
  {
   "cell_type": "markdown",
   "metadata": {
    "toc": true
   },
   "source": [
    "<h1>Kazalo<span class=\"tocSkip\"></span></h1>\n",
    "<div class=\"toc\"><ul class=\"toc-item\"><li><span><a href=\"#Osnovne-informacije\" data-toc-modified-id=\"Osnovne-informacije-1\"><span class=\"toc-item-num\">1&nbsp;&nbsp;</span>Osnovne informacije</a></span></li><li><span><a href=\"#Potrebna-programska-oprema\" data-toc-modified-id=\"Potrebna-programska-oprema-2\"><span class=\"toc-item-num\">2&nbsp;&nbsp;</span>Potrebna programska oprema</a></span></li><li><span><a href=\"#Uvod-v-Python-in-Jupyter-Notebook\" data-toc-modified-id=\"Uvod-v-Python-in-Jupyter-Notebook-3\"><span class=\"toc-item-num\">3&nbsp;&nbsp;</span>Uvod v Python in Jupyter Notebook</a></span><ul class=\"toc-item\"><li><span><a href=\"#Uporaba-modulov-in-knjižnjic:\" data-toc-modified-id=\"Uporaba-modulov-in-knjižnjic:-3.1\"><span class=\"toc-item-num\">3.1&nbsp;&nbsp;</span>Uporaba modulov in knjižnjic:</a></span></li><li><span><a href=\"#Uporaba-primerjalnih-operatorjev:\" data-toc-modified-id=\"Uporaba-primerjalnih-operatorjev:-3.2\"><span class=\"toc-item-num\">3.2&nbsp;&nbsp;</span>Uporaba primerjalnih operatorjev:</a></span></li><li><span><a href=\"#Pogledamo-lahko-tip-spremenljivke:\" data-toc-modified-id=\"Pogledamo-lahko-tip-spremenljivke:-3.3\"><span class=\"toc-item-num\">3.3&nbsp;&nbsp;</span>Pogledamo lahko tip spremenljivke:</a></span></li><li><span><a href=\"#Stavek-if\" data-toc-modified-id=\"Stavek-if-3.4\"><span class=\"toc-item-num\">3.4&nbsp;&nbsp;</span>Stavek <code>if</code></a></span></li><li><span><a href=\"#Seznami-in-terke\" data-toc-modified-id=\"Seznami-in-terke-3.5\"><span class=\"toc-item-num\">3.5&nbsp;&nbsp;</span>Seznami in terke</a></span></li><li><span><a href=\"#Nizi\" data-toc-modified-id=\"Nizi-3.6\"><span class=\"toc-item-num\">3.6&nbsp;&nbsp;</span>Nizi</a></span></li></ul></li><li><span><a href=\"#Dodatno\" data-toc-modified-id=\"Dodatno-4\"><span class=\"toc-item-num\">4&nbsp;&nbsp;</span>Dodatno</a></span></li></ul></div>"
   ]
  },
  {
   "cell_type": "markdown",
   "metadata": {},
   "source": [
    "Posnetek: na [`e-ucilnica.fs.uni-lj.si`](https://e-ucilnica.fs.uni-lj.si)\n"
   ]
  },
  {
   "cell_type": "markdown",
   "metadata": {},
   "source": [
    "# Osnovne informacije"
   ]
  },
  {
   "cell_type": "markdown",
   "metadata": {},
   "source": [
    "* **Spletni repozitorij**: [github.com/jankoslavic/pypinm](https://github.com/jankoslavic/pypinm)\n",
    "    * *Študijski in izpitni red*, literatura, razpored vaj in predavanj, govorilne ure, projektna naloga: [PiNM](https://github.com/jankoslavic/pypinm/blob/master/PiNM.ipynb)\n",
    "    * [Spletna knjiga - predloge za predavanja](https://jankoslavic.github.io/pypinm.io/)\n",
    "    * [Individualni projekt - oblikovna predloga](https://github.com/jankoslavic/pypinm/blob/master/projekt/Individualni%20projekt%20-%20predloga.ipynb)\n",
    "    * [Primeri izpitnih nalog](https://github.com/jankoslavic/pypinm/tree/master/primeri%20nalog%20in%20izpita)\n",
    "    * ...\n",
    "    "
   ]
  },
  {
   "cell_type": "markdown",
   "metadata": {},
   "source": [
    "* **Sistem za sprotno delo (domače naloge)**: [moj.ladisk.si](https://moj.ladisk.si)"
   ]
  },
  {
   "cell_type": "markdown",
   "metadata": {},
   "source": [
    "* **PiNM forum** - komunikacija z izvajalci in sošolci: [pinm.ladisk.si](http://pinm.ladisk.si)"
   ]
  },
  {
   "cell_type": "markdown",
   "metadata": {},
   "source": [
    "* **e-učilnica** - povezave do gradiv, spletnih učilnic: [e-ucilnica.fs.uni-lj.si](https://e-ucilnica.fs.uni-lj.si/course/view.php?id=181)\n",
    "(**samovpis: `vpis-PiNM-2021-22`**)"
   ]
  },
  {
   "cell_type": "markdown",
   "metadata": {},
   "source": [
    "---"
   ]
  },
  {
   "cell_type": "markdown",
   "metadata": {},
   "source": [
    "# Potrebna programska oprema\n",
    "\n",
    "Za pomoč pri namestitvi [glejte video navodila](https://www.youtube.com/watch?v=Cp-IuyN67rQ)!"
   ]
  },
  {
   "cell_type": "markdown",
   "metadata": {},
   "source": [
    "* **Python** verzije vsaj 3.8: \n",
    "    \n",
    "    Programski jezik, ki ga bomo uporabljali pri PiNM. V paketu [Anaconda](https://www.anaconda.com/products/individual) ga dobite skupaj z večino knjižnjic, ki jih boste potrebovali tekom semestra.\n",
    "  <table>\n",
    "    <tr>\n",
    "        <td>Anaconda namestitvene datoteke:</td>\n",
    "        <td><a href=\"https://repo.anaconda.com/archive/Anaconda3-2021.11-Windows-x86_64.exe\">Windows</a></td>\n",
    "        <td><a href=\"https://repo.anaconda.com/archive/Anaconda3-2021.11-MacOSX-x86_64.pkg\">macOS</a></td>\n",
    "     <tr>\n",
    "</table>"
   ]
  },
  {
   "cell_type": "markdown",
   "metadata": {},
   "source": [
    "* [Jupyter Notebook](https://jupyter.org/)\n",
    "\n",
    "    Okolje za urejanje in izvajanje kode, ki ga bomo pretežno uporabljali na vajah. \n",
    "    \n",
    "    **Če ste namestili Anaconda programski paket, je Jupyter Notebook že nameščen na vašem računalniku, dodatna namestitev ni potreba**.\n",
    "    \n",
    "    **Zagon**, ko je Jupyter Notebook nameščen:\n",
    "    \n",
    "<video src=\"img/zagon_jupyter_notebook.mp4\" width=\"800\" height=\"400\" controls>\n",
    "\n",
    "</video> "
   ]
  },
  {
   "cell_type": "markdown",
   "metadata": {},
   "source": [
    "* [Visual Studio Code](https://code.visualstudio.com/):\n",
    "\n",
    "    Urejevalnik kode s podporo programskemu jeziku Python. Orodje, namenjeno \"klasičnemu\" urejanju Python programskih datotek in paketov."
   ]
  },
  {
   "cell_type": "markdown",
   "metadata": {},
   "source": [
    "* [Git](https://git-scm.com/downloads) sistem kontrole verzij programske kode.\n",
    "\n",
    "    Sistem Git se pogosto uporablja pri skupinskem delu pri programerskih projektih. Uporabljali ga boste lahko za enostaven prenos posodobljenih predlog  in primerov kode za predavanja.\n",
    "    \n",
    "    Za prenos vseh datotek iz spletnega repozitorija `pypinm`, po namestitvi Git-a, poženete naslednji ukaz v ukazni vrstici:\n",
    "    \n",
    "    ```\n",
    "    git clone https://github.com/jankoslavic/pypinm.git\n",
    "    ```"
   ]
  },
  {
   "cell_type": "markdown",
   "metadata": {},
   "source": [
    "---"
   ]
  },
  {
   "cell_type": "markdown",
   "metadata": {},
   "source": [
    "# Uvod v Python in Jupyter Notebook"
   ]
  },
  {
   "cell_type": "markdown",
   "metadata": {},
   "source": [
    "\n",
    "V okolju Jupyter Notebook pišemo Python kodo v temu namenjene celice. \n",
    "\n",
    "Primer enostavnega matematičnega izraza:"
   ]
  },
  {
   "cell_type": "code",
   "execution_count": null,
   "metadata": {},
   "outputs": [],
   "source": [
    "a = 10\n",
    "b = -1.5\n",
    "c = a + b"
   ]
  },
  {
   "cell_type": "code",
   "execution_count": null,
   "metadata": {},
   "outputs": [],
   "source": [
    "d = 2\n",
    "c = 3"
   ]
  },
  {
   "cell_type": "code",
   "execution_count": null,
   "metadata": {},
   "outputs": [],
   "source": [
    "e = c * d"
   ]
  },
  {
   "cell_type": "code",
   "execution_count": null,
   "metadata": {},
   "outputs": [],
   "source": [
    "e"
   ]
  },
  {
   "cell_type": "markdown",
   "metadata": {},
   "source": [
    "**Aritmetični operatorji**\n",
    "\n",
    "* `+` seštevanje\n",
    "* `-` odštevanje\n",
    "* `*` množenje\n",
    "* `/` deljenje\n",
    "* `//` celoštevilsko deljenje\n",
    "* `**` eksponent\n",
    "* `%` ostanek pri deljenju"
   ]
  },
  {
   "cell_type": "markdown",
   "metadata": {},
   "source": [
    "Rezultat lahko izpišemo s **funkcijo** ``print``:"
   ]
  },
  {
   "cell_type": "code",
   "execution_count": null,
   "metadata": {},
   "outputs": [],
   "source": [
    "a\n",
    "b"
   ]
  },
  {
   "cell_type": "code",
   "execution_count": null,
   "metadata": {},
   "outputs": [],
   "source": [
    "print(c, d)\n",
    "print(a)"
   ]
  },
  {
   "cell_type": "markdown",
   "metadata": {},
   "source": [
    "Ali pa enostavno takole:"
   ]
  },
  {
   "cell_type": "code",
   "execution_count": null,
   "metadata": {},
   "outputs": [],
   "source": [
    "c"
   ]
  },
  {
   "cell_type": "markdown",
   "metadata": {},
   "source": [
    "## Uporaba modulov in knjižnjic:"
   ]
  },
  {
   "cell_type": "code",
   "execution_count": null,
   "metadata": {},
   "outputs": [],
   "source": [
    "pi = 3.14\n",
    "print(pi*c)"
   ]
  },
  {
   "cell_type": "markdown",
   "metadata": {},
   "source": [
    "Kaj pa če želimo natančnejši rezultat?"
   ]
  },
  {
   "cell_type": "code",
   "execution_count": null,
   "metadata": {},
   "outputs": [],
   "source": [
    "import numpy"
   ]
  },
  {
   "cell_type": "code",
   "execution_count": null,
   "metadata": {},
   "outputs": [],
   "source": [
    "numpy.pi * c"
   ]
  },
  {
   "cell_type": "code",
   "execution_count": null,
   "metadata": {},
   "outputs": [],
   "source": [
    "numpy.cos(0)"
   ]
  },
  {
   "cell_type": "markdown",
   "metadata": {},
   "source": [
    "## Uporaba primerjalnih operatorjev:"
   ]
  },
  {
   "cell_type": "code",
   "execution_count": null,
   "metadata": {},
   "outputs": [],
   "source": [
    "vrednost = numpy.pi\n",
    "vrednost"
   ]
  },
  {
   "cell_type": "code",
   "execution_count": null,
   "metadata": {},
   "outputs": [],
   "source": [
    "a"
   ]
  },
  {
   "cell_type": "code",
   "execution_count": null,
   "metadata": {},
   "outputs": [],
   "source": [
    "a <= vrednost"
   ]
  },
  {
   "cell_type": "code",
   "execution_count": null,
   "metadata": {},
   "outputs": [],
   "source": [
    "a != vrednost"
   ]
  },
  {
   "cell_type": "code",
   "execution_count": null,
   "metadata": {},
   "outputs": [],
   "source": [
    "a == vrednost"
   ]
  },
  {
   "cell_type": "code",
   "execution_count": null,
   "metadata": {},
   "outputs": [],
   "source": [
    "a = vrednost"
   ]
  },
  {
   "cell_type": "markdown",
   "metadata": {},
   "source": [
    "**Primerjalni operatorji**\n",
    "\n",
    "* `<` manjši\n",
    "* `>` večji\n",
    "* `<=` manjše ali enako\n",
    "* `>=` večje ali enako\n",
    "* `==` enako\n",
    "* `!=` neenako"
   ]
  },
  {
   "cell_type": "markdown",
   "metadata": {},
   "source": [
    "## Pogledamo lahko tip spremenljivke:"
   ]
  },
  {
   "cell_type": "code",
   "execution_count": null,
   "metadata": {},
   "outputs": [],
   "source": [
    "vrednost"
   ]
  },
  {
   "cell_type": "code",
   "execution_count": null,
   "metadata": {},
   "outputs": [],
   "source": [
    "type(vrednost)"
   ]
  },
  {
   "cell_type": "code",
   "execution_count": null,
   "metadata": {},
   "outputs": [],
   "source": [
    "a = 10"
   ]
  },
  {
   "cell_type": "code",
   "execution_count": null,
   "metadata": {},
   "outputs": [],
   "source": [
    "type(a + vrednost)"
   ]
  },
  {
   "cell_type": "markdown",
   "metadata": {},
   "source": [
    "## Stavek ``if``"
   ]
  },
  {
   "cell_type": "markdown",
   "metadata": {},
   "source": [
    "Kadar želimo, da se del kode izvede le, kadar je izpolnjen določen pogoj:"
   ]
  },
  {
   "cell_type": "code",
   "execution_count": null,
   "metadata": {},
   "outputs": [],
   "source": [
    "if a > vrednost:\n",
    "    print(a - vrednost)\n",
    "else:\n",
    "    print(a + vrednost)"
   ]
  },
  {
   "cell_type": "markdown",
   "metadata": {},
   "source": [
    "## Seznami in terke"
   ]
  },
  {
   "cell_type": "markdown",
   "metadata": {},
   "source": [
    "Pogosto nam pridejo prav seznami numeričnih vrednosti:"
   ]
  },
  {
   "cell_type": "code",
   "execution_count": null,
   "metadata": {},
   "outputs": [],
   "source": [
    "seznam_1 = [1, 2.3, 5, 100]\n",
    "print(seznam_1)"
   ]
  },
  {
   "cell_type": "markdown",
   "metadata": {},
   "source": [
    "V seznamih lahko shranjujemo različne tipe podatkov:"
   ]
  },
  {
   "cell_type": "code",
   "execution_count": null,
   "metadata": {},
   "outputs": [],
   "source": [
    "seznam_2 = [1., 'nič', seznam_1]\n",
    "print(seznam_2)"
   ]
  },
  {
   "cell_type": "markdown",
   "metadata": {},
   "source": [
    "Do elementov seznama dostopamo takole:"
   ]
  },
  {
   "cell_type": "code",
   "execution_count": null,
   "metadata": {},
   "outputs": [],
   "source": [
    "print(seznam_2[1])"
   ]
  },
  {
   "cell_type": "markdown",
   "metadata": {},
   "source": [
    "Dolžino seznama preverimo z ``len``:"
   ]
  },
  {
   "cell_type": "code",
   "execution_count": null,
   "metadata": {},
   "outputs": [],
   "source": [
    "seznam_2"
   ]
  },
  {
   "cell_type": "code",
   "execution_count": null,
   "metadata": {},
   "outputs": [],
   "source": [
    "len(seznam_2)"
   ]
  },
  {
   "cell_type": "markdown",
   "metadata": {},
   "source": [
    "Terke (ang. *tuple*) so podatkovna struktura podobna seznamom, s to razliko, da terk ni mogoče spreminjati:"
   ]
  },
  {
   "cell_type": "code",
   "execution_count": null,
   "metadata": {},
   "outputs": [],
   "source": [
    "terka = tuple(seznam_2)"
   ]
  },
  {
   "cell_type": "code",
   "execution_count": null,
   "metadata": {},
   "outputs": [],
   "source": [
    "terka[0] = 1"
   ]
  },
  {
   "cell_type": "markdown",
   "metadata": {},
   "source": [
    "## Nizi"
   ]
  },
  {
   "cell_type": "markdown",
   "metadata": {},
   "source": [
    "Tekst v Python-u predstavimo z nizi (ang. *string*):"
   ]
  },
  {
   "cell_type": "code",
   "execution_count": null,
   "metadata": {},
   "outputs": [],
   "source": [
    "niz = \"Numerične metode\""
   ]
  },
  {
   "cell_type": "code",
   "execution_count": null,
   "metadata": {},
   "outputs": [],
   "source": [
    "print(niz)"
   ]
  },
  {
   "cell_type": "code",
   "execution_count": null,
   "metadata": {},
   "outputs": [],
   "source": [
    "niz + ',' + ' Python'"
   ]
  },
  {
   "cell_type": "markdown",
   "metadata": {},
   "source": [
    "Nizi so podobni seznamom črk:"
   ]
  },
  {
   "cell_type": "code",
   "execution_count": null,
   "metadata": {},
   "outputs": [],
   "source": [
    "niz[0] + niz[-1]"
   ]
  },
  {
   "cell_type": "markdown",
   "metadata": {},
   "source": [
    "So bolj podobni seznamom ali terkam?"
   ]
  },
  {
   "cell_type": "code",
   "execution_count": null,
   "metadata": {},
   "outputs": [],
   "source": [
    "niz[0] = 'h'"
   ]
  },
  {
   "cell_type": "markdown",
   "metadata": {},
   "source": [
    "Pogosto za izpisovenje nizov uporabimo funkcijo `print`:"
   ]
  },
  {
   "cell_type": "code",
   "execution_count": null,
   "metadata": {},
   "outputs": [],
   "source": [
    "print(niz)"
   ]
  },
  {
   "cell_type": "code",
   "execution_count": null,
   "metadata": {},
   "outputs": [],
   "source": [
    "print(niz[-6:])"
   ]
  },
  {
   "cell_type": "markdown",
   "metadata": {},
   "source": [
    "---"
   ]
  },
  {
   "cell_type": "markdown",
   "metadata": {},
   "source": [
    "# Dodatno"
   ]
  },
  {
   "cell_type": "markdown",
   "metadata": {},
   "source": [
    "Poskusimo narediti enostaven program za celoštevilsko deljenje. Zahteve so:\n",
    "\n",
    "* Uporabnika vprašamo za dva podatka, vrednost delitelja in deljenca. Uporabimo funkcijo `input(<sporočilo>)`!\n",
    "* Obe vrednosti iz niza pretvorimo v število s plavajočo vejico.\n",
    "* Preverimo, ali je delitelj različen od nič. Če ni, opozorimo uporabnika in zaključimo.\n",
    "* Če smo zgornji test prestali, izpišemo rezultat celoštevilskega deljenja in vrednost ostanka."
   ]
  },
  {
   "cell_type": "code",
   "execution_count": null,
   "metadata": {},
   "outputs": [],
   "source": [
    "rezultat = input('Testni vnos >> ')\n",
    "type(rezultat)"
   ]
  },
  {
   "cell_type": "code",
   "execution_count": null,
   "metadata": {},
   "outputs": [],
   "source": []
  },
  {
   "cell_type": "code",
   "execution_count": null,
   "metadata": {},
   "outputs": [],
   "source": []
  },
  {
   "cell_type": "code",
   "execution_count": null,
   "metadata": {},
   "outputs": [],
   "source": []
  },
  {
   "cell_type": "code",
   "execution_count": null,
   "metadata": {},
   "outputs": [],
   "source": []
  },
  {
   "cell_type": "code",
   "execution_count": null,
   "metadata": {},
   "outputs": [],
   "source": []
  },
  {
   "cell_type": "code",
   "execution_count": null,
   "metadata": {},
   "outputs": [],
   "source": []
  },
  {
   "cell_type": "code",
   "execution_count": null,
   "metadata": {},
   "outputs": [],
   "source": []
  },
  {
   "cell_type": "code",
   "execution_count": null,
   "metadata": {},
   "outputs": [],
   "source": []
  },
  {
   "cell_type": "markdown",
   "metadata": {},
   "source": [
    "Rešitev:"
   ]
  },
  {
   "cell_type": "code",
   "execution_count": null,
   "metadata": {},
   "outputs": [],
   "source": [
    "deljenec = input('Deljenec:')\n",
    "delitelj = input('Delitelj:')"
   ]
  },
  {
   "cell_type": "code",
   "execution_count": null,
   "metadata": {},
   "outputs": [],
   "source": [
    "float_deljenec = float(deljenec)\n",
    "float_delitelj = float(delitelj)\n",
    "float_delitelj"
   ]
  },
  {
   "cell_type": "code",
   "execution_count": null,
   "metadata": {},
   "outputs": [],
   "source": [
    "if float_delitelj != 0:\n",
    "    rezultat = float_deljenec // float_delitelj\n",
    "    ostanek = float_deljenec % float_delitelj\n",
    "    print(rezultat, ostanek)\n",
    "else:\n",
    "    print('Pozor! Delitelj je enak 0')"
   ]
  }
 ],
 "metadata": {
  "kernelspec": {
   "display_name": "Python 3 (ipykernel)",
   "language": "python",
   "name": "python3"
  },
  "language_info": {
   "codemirror_mode": {
    "name": "ipython",
    "version": 3
   },
   "file_extension": ".py",
   "mimetype": "text/x-python",
   "name": "python",
   "nbconvert_exporter": "python",
   "pygments_lexer": "ipython3",
   "version": "3.10.1"
  },
  "toc": {
   "base_numbering": 1,
   "nav_menu": {},
   "number_sections": true,
   "sideBar": true,
   "skip_h1_title": false,
   "title_cell": "Kazalo",
   "title_sidebar": "Contents",
   "toc_cell": true,
   "toc_position": {},
   "toc_section_display": true,
   "toc_window_display": false
  }
 },
 "nbformat": 4,
 "nbformat_minor": 2
}
