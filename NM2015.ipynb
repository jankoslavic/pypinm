{
 "cells": [
  {
   "cell_type": "markdown",
   "metadata": {},
   "source": [
    "Okt 2015\n",
    "<img width=300 src=\"./fig/ladisk.png\">\n",
    "\n",
    "<center>[izr.prof. dr. Janko Slavič](http://www.ladisk.si/~slavic)</center>\n",
    "\n",
    "\n",
    "<center>[Repozitorij pypinm](http://github.com/jankoslavic/pypinm)</center>"
   ]
  },
  {
   "cell_type": "markdown",
   "metadata": {},
   "source": [
    "# Numerične metode 2015/16 - študijski in izpitni red"
   ]
  },
  {
   "cell_type": "markdown",
   "metadata": {},
   "source": [
    "## Okvirna vsebina predmet:"
   ]
  },
  {
   "cell_type": "markdown",
   "metadata": {},
   "source": [
    "**Predavanja**: \n",
    "* **P** 8:15 V/2\n",
    "    * **izr. prof. J. Slavič** (pisarna DS-P3, 01 4771 226, janko.slavic@fs.uni-lj.si)\n",
    "\n",
    "**Vaje**:\n",
    "* **T1** 8:00 I/4: (Marko Mihalec)\n",
    "* **T2** 8:00 II/1: (Matjaž Mršnik)\n",
    "* **T3** 10:00 I/4: (Blaž Starc)\n",
    "* **T4** 10:00 II/1: (Matjaž Mršnik)\n",
    "* **T5** 12:00 I/4: (Marko Mihalec)\n",
    "* **T6** 12:00 II/1: (Blaž Starc)\n",
    "* **Č1** 8:00 I/4: (Marko Mihalec)\n",
    "* **Č2** 8:00 I/4: (Marko Mihalec)\n",
    "* **Č3** 10:00 I/4: (Marko Mihalec)\n",
    "* **Č4** 10:00 II/1: (Matjaž Mršnik)\n",
    "* **P1** 8:00 I/4: (Marko Mihalec)\n",
    "* **P2** 8:00 II/1: (Blaž Starc)\n",
    "\n",
    "**Govorilne ure:**\n",
    "* **Ponedeljek 12:30 - 13:30**\n",
    "    * Marko Mihalec (pisarna DS-P5, 01 4771 228, marko.mihalec@fs.uni-lj.si)\n",
    "    * Blaž  Starc (pisarna DS-P5, 01 4771 228, blaz.starc@fs.uni-lj.si)\n",
    "    * Matjaž Mršnik (pisarna DS-P4, 01 4771 227, matjaz.mrsnik@fs.uni-lj.si)\n",
    "    \n",
    "**Spremljanje sprotnega študija, obvestila itd**\n",
    "\n",
    "Sproten študij bomo izvajali s pomočjo: [moj.ladisk.si](http://moj.ladisk.si/). Za prijavo uporabite email, ki ga imate v VIS-u. Video prikaz prijave: [če imate gmail](https://www.youtube.com/watch?v=Xp5lfESTr7w), [poljubni drugi email](https://www.youtube.com/watch?v=vot_ZbARDoE).\n",
    "\n",
    "**Vprašanja in odgovori:**\n",
    "\n",
    "Vprašanja na temo predmeta ali tudi širše lahko postavite/odgovorite na portalu: [pinm.ladisk.si](http://pinm.ladisk.si).\n",
    "    \n",
    "**Dodatno delo na računalnikih**\n",
    "* Ob četrtkih od 11:30h do 12:30h lahko ob prisotnosti as. Mihalca izkoristite računalnike v I/4. "
   ]
  },
  {
   "cell_type": "markdown",
   "metadata": {},
   "source": [
    "**Razpored predavanj**\n",
    "\n",
    "1. [5.okt: Uvod v Python](./Predavanje 1 - Uvod v Python.ipynb)\n",
    "* [12.okt: Print, delo z datotekami, funkcije, moduli](./Predavanje 2 - Print, delo z datotekami, funkcije, moduli.ipynb)\n",
    "* [19.okt: Moduli, numpy, matplotlib](./Predavanje 3 - Moduli, numpy, matplotlib.ipynb)\n",
    "* [26.okt: Objektno programiranje, simbolno računanje](./Predavanje 4 - Objektno programiranje, simbolno računanje.ipynb)\n",
    "* [2.nov: Sistemi linearnih algebrajskih enačb 1](./Predavanje 5 - Sistemi linearnih algebrajskih enačb 1.ipynb)\n",
    "* [9.nov: Sistemi linearnih algebrajskih enačb 2](./Predavanje 6 - Sistemi linearnih algebrajskih enačb 2.ipynb)\n",
    "* [16.nov: Interpolacija](./Predavanje 7 - Interpolacija.ipynb)\n",
    "* [23.nov: Aproksimacija](./Predavanje 8 - Aproksimacija.ipynb)\n",
    "* [30.nov: Iskanje ničel](./Predavanje 9 - Iskanje ničel.ipynb)\n",
    "* [7.dec: Numerično odvajanje](./Predavanje 10 - Numerično odvajanje.ipynb)\n",
    "* [14.dec: Numerično integriranje](./Predavanje 11 - Numerično integriranje.ipynb)\n",
    "* [21.dec: Numerično reševanje diferencialnih enačb 1](./Predavanje 12 - Numerično reševanje diferencialnih enačb.ipynb)\n",
    "* [4.jan: Numerično reševanje diferencialnih enačb 2](./Predavanje 13 - Numerično reševanje diferencialnih enačb 2.ipynb)\n",
    "* [11.jan: Testiranje pravilnosti kode, uporabniški vmesnik](./Predavanje 14 - Testiranje pravilnosti kode, uporabniški vmesnik.ipynb)\n",
    "\n",
    "Pomembni datumi:\n",
    "1. Prevzem individualnega projekta: 15.nov.\n",
    "* Oddaja individualnega projekta: 4.jan do 12h.\n",
    "* Preizkus iz teorije: 11.jan ob 18h.\n",
    "* Zagovori okvirno: 18.jan-28.jan.\n",
    "\n",
    "\n",
    "Predloge za predmet: [github.com/jankoslavic/pypinm](https://github.com/jankoslavic/pypinm)"
   ]
  },
  {
   "cell_type": "markdown",
   "metadata": {},
   "source": [
    "## Sprotni študij"
   ]
  },
  {
   "cell_type": "markdown",
   "metadata": {},
   "source": [
    "**Sestava ocene:**\n",
    "* 10% sodelovanje pri predavanjih\n",
    "* 20% sodelovanje pri vajah* (vsaj 70%)\n",
    "* 45% individualni projekt\\*\\* (vsaj 40%)\n",
    "* 25% preizkus iz teorije (vsaj 40%)\n",
    "    \n",
    "    \n",
    "\\* Na predavanja in vaje morate priti pripravljeni; uporabili bomo nekatere principe obratnega učenja! Če ne morete priti na vaje, pridete na prve konzultacije na katere lahko. Če upravičeno ne morete priti na predavanje, potem ob prvi priliki predavatelju posredujte seminar na temo predavanj - v obliki Jupyter notebooka.\n",
    "\n",
    "\\*\\* Vzorec individualnega projekta s kriteriji ocenjevanja si lahko ogledate [tukaj](./projekt/Individualni projekt - vzorec.ipynb).\n",
    "    \n",
    "**Predlog ocene:**\n",
    "* manj kot 40%: ne izpolnjuje pogojev za pristop k izpitu\n",
    "* 40% ali več: izpolnjuje pogoje za pristop k izpitu*\n",
    "* 50 do 60%: 6/6\n",
    "* 60 do 70%: 7/7\n",
    "* 70 do 80%: 8/8\n",
    "* 80 do 90%: 9/9\n",
    "* 90 do 100%: 10/10\n",
    "   \n",
    "Individualni projekt in predlog ocene se zagovarja na ustnem zagovoru.\n",
    "\n",
    "\\* Izpolnjevanje pogojev za pristop k izpitu se lahko ugotavlja tudi brez opravljenega kolokvija iz teorije."
   ]
  },
  {
   "cell_type": "markdown",
   "metadata": {},
   "source": [
    "## Izpit"
   ]
  },
  {
   "cell_type": "markdown",
   "metadata": {},
   "source": [
    "Če izpolnjujete pogoje za pristop k izpitu, potem lahko obveznosti opravite tudi z izpitom. Izpit se opravlja pisno in za računalnikom ter traja 90min; sestavljen je iz štirih vprašanj:\n",
    "\n",
    "1. vpr.: poznavanje ukazov python okolja (vključno z numpy knjižnico) (25%),\n",
    "2. vpr.: poznavanje teorije numeričnih metod (25%),\n",
    "3. vpr.: krajši program na temo uporabe numeričnih metod (25%),\n",
    "4. vpr.: kreativna uporaba programiranja in numeričnih metod (25%)."
   ]
  },
  {
   "cell_type": "markdown",
   "metadata": {},
   "source": [
    "## Literatura"
   ]
  },
  {
   "cell_type": "markdown",
   "metadata": {},
   "source": [
    "1. Slavič J.: Programiranje in numerične metode s Pythonom, [github.com/jankoslavic/pypinm](https://github.com/jankoslavic/pypinm), 2015-\n",
    "* Petrišič J.: Uvod v Matlab za inženirje, 2011\n",
    "* Demšar J. Python za programerje, 2012 (dosegljiva na spletu: http://goo.gl/PK1rUZ, glejte tudi to spletno učilnico: http://goo.gl/n4pVUe)\n",
    "* Kiusalaas J: Numerical Methods in Engineering with Python 3, 2013\n",
    "* Fangohr H. Python for Computational Science and Engineering, 2014  (dosegljiva na spletu: http://goo.gl/nCOfY0)\n",
    "* Bucky R. Python 3.4 Programming Tutorials (videi dosegljivi na: http://goo.gl/ie6nfD)\n",
    "* Python na FMF: https://tomo.fmf.uni-lj.si/ (pazite nekaj vsebine je na programski jezik R)\n",
    "\n",
    "Opomba: za nekatere novejše izraze (npr. terka za tuple) se bomo navezali na: Demšar J., Python za programerje.\n",
    "\n",
    "Nekatere spletne učilnice na temo Pythona najdete na [pinm.ladisk.si](http://pinm.ladisk.si/9/katera-so-najbolj%C5%A1e-spletne-u%C4%8Dilnice-za-u%C4%8Denje-pythona)"
   ]
  },
  {
   "cell_type": "markdown",
   "metadata": {},
   "source": [
    "## Pogoji za poslušanje v naprej?"
   ]
  },
  {
   "cell_type": "markdown",
   "metadata": {},
   "source": [
    "Manjka lahko eden od predmetov: Matematika 1, Matematika 2, Statika in kinematika, Fizika, Trdnost."
   ]
  }
 ],
 "metadata": {
  "kernelspec": {
   "display_name": "Python 3",
   "language": "python",
   "name": "python3"
  },
  "language_info": {
   "codemirror_mode": {
    "name": "ipython",
    "version": 3
   },
   "file_extension": ".py",
   "mimetype": "text/x-python",
   "name": "python",
   "nbconvert_exporter": "python",
   "pygments_lexer": "ipython3",
   "version": "3.5.0"
  }
 },
 "nbformat": 4,
 "nbformat_minor": 0
}
